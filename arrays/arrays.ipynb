{
 "cells": [
  {
   "cell_type": "markdown",
   "id": "4eddab90-2bd4-4696-815c-74bf935bf0e3",
   "metadata": {},
   "source": [
    "# Reverse Array\n"
   ]
  },
  {
   "cell_type": "code",
   "execution_count": 2,
   "id": "f8519774-63bb-4159-9257-3b1aa65a3a57",
   "metadata": {},
   "outputs": [],
   "source": [
    "def reverse_arr(arr, i, j):\n",
    "    while(i<=j):\n",
    "        temp = arr[i]\n",
    "        arr[i] = arr[j]\n",
    "        arr[j] = temp\n",
    "        i+=1\n",
    "        j-=1\n",
    "        \n",
    "    return arr"
   ]
  },
  {
   "cell_type": "code",
   "execution_count": 10,
   "id": "5a59344f-fd18-4ea9-9154-663c1228e46b",
   "metadata": {},
   "outputs": [
    {
     "name": "stdout",
     "output_type": "stream",
     "text": [
      "[3, 4, 5, 6, 7, 8, 9, 1, 2]\n"
     ]
    }
   ],
   "source": [
    "arr_1 = [1,2,3,4,5,6,7,8,9]\n",
    "n=len(arr_1)\n",
    "k=7\n",
    "rev1 = reverse_arr(arr_1,0,n-1)\n",
    "rev2 = reverse_arr(rev1,0,k-1)\n",
    "rev3 = reverse_arr(rev2,k,n-1)\n",
    "print(rev3)"
   ]
  },
  {
   "cell_type": "markdown",
   "id": "67e92210-d5bd-49c7-b7bf-924aac3174d9",
   "metadata": {},
   "source": [
    "# Linear Search"
   ]
  },
  {
   "cell_type": "code",
   "execution_count": 14,
   "id": "ac0b83ae-1fa6-48d3-9c1c-65290765285b",
   "metadata": {},
   "outputs": [
    {
     "name": "stdout",
     "output_type": "stream",
     "text": [
      "4\n",
      "-1\n"
     ]
    }
   ],
   "source": [
    "nums = [4,5,6,7,0,1,2]\n",
    "target = 0\n",
    "\n",
    "for i in range(len(nums)):\n",
    "    if nums[i]==target:\n",
    "        print(i)\n",
    "print(-1)"
   ]
  },
  {
   "cell_type": "markdown",
   "id": "48bc2a47-a29c-4d84-b30f-6ff5502a4528",
   "metadata": {},
   "source": [
    "# Product Except Self"
   ]
  },
  {
   "cell_type": "code",
   "execution_count": 27,
   "id": "e1adfb0c-3d3c-4532-9adf-a8c402378a36",
   "metadata": {},
   "outputs": [
    {
     "name": "stdout",
     "output_type": "stream",
     "text": [
      "[24, 12, 8, 6]\n"
     ]
    }
   ],
   "source": [
    "arr_2 = [1,2,3,4]\n",
    "\n",
    "left = [1]*len(arr_2)\n",
    "right = [1]*len(arr_2)\n",
    "ans=[1]*len(arr_2)\n",
    "\n",
    "for i in range(1, len(arr_2)):\n",
    "    left[i] = arr_2[i-1]*left[i-1]\n",
    "\n",
    "for i in range(len(arr_2)-2,-1, -1):\n",
    "    right[i] = arr_2[i+1]*right[i+1]\n",
    "\n",
    "for i in range(len(arr_2)):\n",
    "    ans[i]=left[i]*right[i]\n",
    "\n",
    "print(ans)"
   ]
  },
  {
   "cell_type": "markdown",
   "id": "ae171ff0-9a43-4501-9717-768228e17822",
   "metadata": {},
   "source": [
    "# Tapping rain water"
   ]
  },
  {
   "cell_type": "code",
   "execution_count": 35,
   "id": "3077ec87-929c-400d-a612-ad9f0042b76f",
   "metadata": {},
   "outputs": [
    {
     "name": "stdout",
     "output_type": "stream",
     "text": [
      "6\n"
     ]
    }
   ],
   "source": [
    "import math\n",
    "height = [0,1,0,2,1,0,1,3,2,1,2,1]\n",
    "\n",
    "left_max=[height[0]]*len(height)\n",
    "right_max=[height[len(height)-1]]*len(height)\n",
    "ans=0\n",
    "\n",
    "for i in range(1,len(height)):\n",
    "    left_max[i] = max(height[i], left_max[i-1])\n",
    "\n",
    "for i in range(len(height)-2, 0, -1):\n",
    "    right_max[i] = max(height[i], right_max[i+1])\n",
    "\n",
    "for i in range(len(height)):\n",
    "    ans+= min(left_max[i], right_max[i]) - height[i]\n",
    "\n",
    "print(ans)"
   ]
  },
  {
   "cell_type": "code",
   "execution_count": 38,
   "id": "b6f7ceb2-6cdb-4c5b-a47d-93f4f98b9bc1",
   "metadata": {},
   "outputs": [
    {
     "name": "stdout",
     "output_type": "stream",
     "text": [
      "-2\n"
     ]
    }
   ],
   "source": [
    "height=[4,3,2]\n",
    "\n",
    "left_max=[height[0]]*len(height)\n",
    "right_max=[height[len(height)-1]]*len(height)\n",
    "ans=0\n",
    "\n",
    "for i in range(1,len(height)):\n",
    "    left_max[i] = max(height[i], left_max[i-1])\n",
    "\n",
    "for i in range(len(height)-2, 0, -1):\n",
    "    right_max[i] = max(height[i], right_max[i+1])\n",
    "\n",
    "for i in range(len(height)):\n",
    "    ans+= min(left_max[i], right_max[i]) - height[i]\n",
    "\n",
    "print(ans)"
   ]
  },
  {
   "cell_type": "code",
   "execution_count": 37,
   "id": "80d9272e-4a44-47f9-ab78-e082f87edae1",
   "metadata": {},
   "outputs": [
    {
     "data": {
      "text/plain": [
       "[2]"
      ]
     },
     "execution_count": 37,
     "metadata": {},
     "output_type": "execute_result"
    }
   ],
   "source": [
    "[height[len(height)-1]]"
   ]
  },
  {
   "cell_type": "code",
   "execution_count": null,
   "id": "fd7b5a1f-c829-4800-82e6-d97f2e0b5680",
   "metadata": {},
   "outputs": [],
   "source": []
  }
 ],
 "metadata": {
  "kernelspec": {
   "display_name": "Python 3 (ipykernel)",
   "language": "python",
   "name": "python3"
  },
  "language_info": {
   "codemirror_mode": {
    "name": "ipython",
    "version": 3
   },
   "file_extension": ".py",
   "mimetype": "text/x-python",
   "name": "python",
   "nbconvert_exporter": "python",
   "pygments_lexer": "ipython3",
   "version": "3.12.1"
  }
 },
 "nbformat": 4,
 "nbformat_minor": 5
}
