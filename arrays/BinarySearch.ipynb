{
 "cells": [
  {
   "cell_type": "code",
   "execution_count": 4,
   "id": "aa476f80-9d08-49a2-9192-f9020a95befd",
   "metadata": {},
   "outputs": [],
   "source": [
    "arr =[1,2,3,4,5,6,7,8,9]\n",
    "target = 7\n",
    "\n",
    "def binary_search(nums,target):\n",
    "\n",
    "    low=0\n",
    "    high=len(nums)-1\n",
    "    \n",
    "    while(low<=high):\n",
    "        mid=(low+high)//2\n",
    "        if nums[mid] ==target:\n",
    "            return mid\n",
    "        if nums[mid]> target:\n",
    "            high=mid-1\n",
    "        else:\n",
    "            low=mid+1\n",
    "    return -1"
   ]
  },
  {
   "cell_type": "code",
   "execution_count": 8,
   "id": "3e6f5477-17d8-448f-8c5c-86e4ff3d4a4f",
   "metadata": {},
   "outputs": [
    {
     "data": {
      "text/plain": [
       "2"
      ]
     },
     "execution_count": 8,
     "metadata": {},
     "output_type": "execute_result"
    }
   ],
   "source": [
    "binary_search(arr,3)"
   ]
  },
  {
   "cell_type": "code",
   "execution_count": 11,
   "id": "7943b0a2-5af3-4dbb-9bae-9e97247480de",
   "metadata": {},
   "outputs": [
    {
     "name": "stdout",
     "output_type": "stream",
     "text": [
      "10000\n"
     ]
    }
   ],
   "source": [
    "#kth root\n",
    "\n",
    "n=10000\n",
    "k=1\n",
    "\n",
    "\n",
    "def binary_search(n,k):\n",
    "    low=1\n",
    "    high=n\n",
    "    ans=0\n",
    "    while(low<=high):\n",
    "        mid=(low+high)//2\n",
    "        if mid**k<=n:\n",
    "            ans=mid\n",
    "            low=mid+1\n",
    "        else:\n",
    "            high=mid-1\n",
    "    return ans\n",
    "\n",
    "print(binary_search(n,k))"
   ]
  },
  {
   "cell_type": "code",
   "execution_count": 9,
   "id": "9aa5bc68-4502-4a2f-9b63-ce58cc8bf8ac",
   "metadata": {},
   "outputs": [],
   "source": [
    "#Book Allocation\n",
    "# https://www.geeksforgeeks.org/allocate-minimum-number-pages/\n",
    "\n"
   ]
  },
  {
   "cell_type": "code",
   "execution_count": null,
   "id": "4cd42eb7-f5f6-4eb4-812b-0c1402eea75f",
   "metadata": {},
   "outputs": [],
   "source": [
    "#Aggresive cows\n",
    "# https://www.geeksforgeeks.org/problems/aggressive-cows/0\n",
    "\n"
   ]
  }
 ],
 "metadata": {
  "kernelspec": {
   "display_name": "Python 3 (ipykernel)",
   "language": "python",
   "name": "python3"
  },
  "language_info": {
   "codemirror_mode": {
    "name": "ipython",
    "version": 3
   },
   "file_extension": ".py",
   "mimetype": "text/x-python",
   "name": "python",
   "nbconvert_exporter": "python",
   "pygments_lexer": "ipython3",
   "version": "3.12.1"
  }
 },
 "nbformat": 4,
 "nbformat_minor": 5
}
