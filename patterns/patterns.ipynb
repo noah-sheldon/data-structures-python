{
 "cells": [
  {
   "cell_type": "code",
   "execution_count": 5,
   "id": "4f5ed411-0c85-4ac3-aee9-02dd86ce7a1c",
   "metadata": {},
   "outputs": [
    {
     "name": "stdout",
     "output_type": "stream",
     "text": [
      "*  *  *  *  *  \n",
      "\n",
      "*  *  *  *  *  \n",
      "\n",
      "*  *  *  *  *  \n",
      "\n",
      "*  *  *  *  *  \n",
      "\n",
      "*  *  *  *  *  \n",
      "\n"
     ]
    }
   ],
   "source": [
    "\n",
    "i= 0\n",
    "\n",
    "while(i<5):\n",
    "    stars = 0\n",
    "    while(stars<5):\n",
    "        print(\"* \", end=\" \")\n",
    "        stars +=1\n",
    "    print(\"\\n\")\n",
    "    i += 1"
   ]
  },
  {
   "cell_type": "code",
   "execution_count": 6,
   "id": "6cd7d48f-32c1-426c-a6aa-9913b023dfa7",
   "metadata": {},
   "outputs": [
    {
     "name": "stdout",
     "output_type": "stream",
     "text": [
      "*  \n",
      "\n",
      "*  *  \n",
      "\n",
      "*  *  *  \n",
      "\n",
      "*  *  *  *  \n",
      "\n",
      "*  *  *  *  *  \n",
      "\n"
     ]
    }
   ],
   "source": [
    "i = 0\n",
    "\n",
    "nstr = 1\n",
    "while(i<5):\n",
    "    ncst=0\n",
    "    while(ncst<nstr):\n",
    "        print(\"* \", end=\" \")\n",
    "        ncst +=1\n",
    "    print(\"\\n\")\n",
    "    nstr +=1\n",
    "    i += 1"
   ]
  },
  {
   "cell_type": "code",
   "execution_count": 10,
   "id": "3dfc6cd6-4038-44b7-abc6-fc761b4ed907",
   "metadata": {},
   "outputs": [
    {
     "name": "stdout",
     "output_type": "stream",
     "text": [
      "\n",
      "\n",
      "1 \n",
      "\n",
      "1 2 \n",
      "\n",
      "1 2 3 \n",
      "\n",
      "1 2 3 4 \n",
      "\n",
      "1 2 3 4 5 \n",
      "\n"
     ]
    }
   ],
   "source": [
    "i=0\n",
    "nstr=1\n",
    "while(i<=5):\n",
    "    ncst=1\n",
    "    while(ncst<nstr):\n",
    "        print(str(ncst), end=\" \")\n",
    "        ncst +=1\n",
    "    print(\"\\n\")\n",
    "    nstr+=1\n",
    "    i+=1"
   ]
  },
  {
   "cell_type": "code",
   "execution_count": 19,
   "id": "fcec10ec-cbee-4bb1-9948-523c2952217a",
   "metadata": {},
   "outputs": [
    {
     "name": "stdout",
     "output_type": "stream",
     "text": [
      "1 \n",
      "\n",
      "2 2 \n",
      "\n",
      "3 3 3 \n",
      "\n",
      "4 4 4 4 \n",
      "\n",
      "5 5 5 5 5 \n",
      "\n"
     ]
    }
   ],
   "source": [
    "# Input Format: N = 6\n",
    "# Result:\n",
    "# 1\n",
    "# 2 2\n",
    "# 3 3 3\n",
    "# 4 4 4 4\n",
    "# 5 5 5 5 5\n",
    "# 6 6 6 6 6 6\n",
    "i=0\n",
    "nstr=1\n",
    "while(i<5):\n",
    "    ncst = 0\n",
    "    while(ncst<nstr):\n",
    "        print(str(nstr), end=\" \")\n",
    "        ncst+=1\n",
    "    print(\"\\n\")\n",
    "    nstr+=1\n",
    "    i+=1"
   ]
  },
  {
   "cell_type": "code",
   "execution_count": 20,
   "id": "2a97e70c-aa2e-431b-b52b-bae86dcc0948",
   "metadata": {},
   "outputs": [
    {
     "name": "stdout",
     "output_type": "stream",
     "text": [
      "*  *  *  *  *  \n",
      "\n",
      "*  *  *  *  \n",
      "\n",
      "*  *  *  \n",
      "\n",
      "*  *  \n",
      "\n",
      "*  \n",
      "\n"
     ]
    }
   ],
   "source": [
    "# * * * * * *\n",
    "# * * * * * \n",
    "# * * * * \n",
    "# * * * \n",
    "# * * \n",
    "# * \n",
    "\n",
    "\n",
    "i =0\n",
    "nstr = 5\n",
    "while(i<5):\n",
    "    ncst = 0\n",
    "    while(ncst < nstr):\n",
    "        print(\"* \", end=\" \")\n",
    "        ncst+=1\n",
    "    print(\"\\n\")\n",
    "    nstr-=1\n",
    "    i+=1"
   ]
  },
  {
   "cell_type": "code",
   "execution_count": 24,
   "id": "bb34ea97-671c-472b-86dd-e9e6aab65b35",
   "metadata": {},
   "outputs": [
    {
     "name": "stdout",
     "output_type": "stream",
     "text": [
      "1 2 3 4 5 6 \n",
      "\n",
      "1 2 3 4 5 \n",
      "\n",
      "1 2 3 4 \n",
      "\n",
      "1 2 3 \n",
      "\n",
      "1 2 \n",
      "\n",
      "1 \n",
      "\n"
     ]
    }
   ],
   "source": [
    "# 1 2 3 4 5 6\n",
    "# 1 2 3 4 5\n",
    "# 1 2 3 4\n",
    "# 1 2 3\n",
    "# 1 2 \n",
    "# 1\n",
    "\n",
    "i =0\n",
    "nstr=6\n",
    "while(i<6):\n",
    "    ncst=1\n",
    "    while(ncst<=nstr):\n",
    "        print(str(ncst), end=\" \")\n",
    "        ncst+=1\n",
    "    \n",
    "    print(\"\\n\")\n",
    "    nstr-=1\n",
    "    i+=1\n",
    "    "
   ]
  },
  {
   "cell_type": "code",
   "execution_count": 32,
   "id": "657ca64b-21df-4673-af04-1f70cfd1dc40",
   "metadata": {},
   "outputs": [
    {
     "name": "stdout",
     "output_type": "stream",
     "text": [
      "          *           \n",
      "\n",
      "        * * *         \n",
      "\n",
      "      * * * * *       \n",
      "\n",
      "    * * * * * * *     \n",
      "\n",
      "  * * * * * * * * *   \n",
      "\n"
     ]
    }
   ],
   "source": [
    "#      *     \n",
    "#     ***    \n",
    "#    *****   \n",
    "#   *******  \n",
    "#  ********* \n",
    "# ***********\n",
    "\n",
    "i =0\n",
    "nst = 1\n",
    "nsp = 4\n",
    "\n",
    "while(i<5):\n",
    "    ncst=0\n",
    "    while(ncst<=nsp):\n",
    "        print(\"  \",end=\"\")\n",
    "        ncst+=1\n",
    "    ncst=0\n",
    "    while(ncst<nst):\n",
    "        print(\"* \",end=\"\")\n",
    "        ncst+=1\n",
    "    ncst=0\n",
    "    while(ncst<=nsp):\n",
    "        print(\"  \",end=\"\")\n",
    "        ncst+=1\n",
    "    print(\"\\n\")\n",
    "    nst+=2\n",
    "    nsp-=1\n",
    "    i+=1\n",
    "\n",
    "\n",
    "\n"
   ]
  },
  {
   "cell_type": "code",
   "execution_count": 37,
   "id": "ae9c5c8f-3ae7-46de-be4e-1a7dba5312ae",
   "metadata": {},
   "outputs": [
    {
     "name": "stdout",
     "output_type": "stream",
     "text": [
      "  * * * * * * * * * * * \n",
      "\n",
      "    * * * * * * * * *   \n",
      "\n",
      "      * * * * * * *     \n",
      "\n",
      "        * * * * *       \n",
      "\n",
      "          * * *         \n",
      "\n",
      "            *           \n",
      "\n"
     ]
    }
   ],
   "source": [
    "# ***********\n",
    "#  *********\n",
    "#   *******\n",
    "#    ***** \n",
    "#     ***    \n",
    "#      *\n",
    "\n",
    "i = 0\n",
    "\n",
    "nstr=10\n",
    "nsp=0\n",
    "while(i<6):\n",
    "    ncst=0\n",
    "    while(ncst<=nsp):\n",
    "        print(\"  \", end=\"\")\n",
    "        ncst+=1\n",
    "    ncst=0\n",
    "    while(ncst<=nstr):\n",
    "        print(\"* \", end=\"\")\n",
    "        ncst+=1\n",
    "    ncst=0\n",
    "    while(ncst<nsp):\n",
    "        print(\"  \", end=\"\")\n",
    "        ncst+=1\n",
    "    print(\"\\n\")\n",
    "    nsp+=1\n",
    "    nstr-=2\n",
    "        \n",
    "    i+=1"
   ]
  },
  {
   "cell_type": "code",
   "execution_count": 45,
   "id": "88d5780f-c80c-4f16-ba08-f9b4f17ec80f",
   "metadata": {},
   "outputs": [
    {
     "name": "stdout",
     "output_type": "stream",
     "text": [
      "          *           \n",
      "\n",
      "        * * *         \n",
      "\n",
      "      * * * * *       \n",
      "\n",
      "    * * * * * * *     \n",
      "\n",
      "  * * * * * * * * *   \n",
      "\n",
      "* * * * * * * * * * * \n",
      "\n",
      "* * * * * * * * * * * \n",
      "\n",
      "  * * * * * * * * *   \n",
      "\n",
      "    * * * * * * *     \n",
      "\n",
      "      * * * * *       \n",
      "\n",
      "        * * *         \n",
      "\n",
      "          *           \n",
      "\n"
     ]
    }
   ],
   "source": [
    "#      *\n",
    "#     ***\n",
    "#    ***** \n",
    "#   *******\n",
    "#  *********\n",
    "# ***********  \n",
    "# ***********\n",
    "#  *********\n",
    "#   *******\n",
    "#    ***** \n",
    "#     ***    \n",
    "#      *\n",
    "\n",
    "i = 0\n",
    "nsp=5\n",
    "nstr=1\n",
    "\n",
    "while(i < 6):\n",
    "    ncst=0\n",
    "    while(ncst< nsp):\n",
    "        print(\"  \", end=\"\")\n",
    "        ncst+=1\n",
    "    ncst=0\n",
    "    while(ncst<nstr):\n",
    "        print(\"* \", end=\"\")\n",
    "        ncst+=1\n",
    "    ncst=0\n",
    "    while(ncst<nsp):\n",
    "        print(\"  \", end=\"\")\n",
    "        ncst+=1\n",
    "    nsp-=1\n",
    "    nstr+=2\n",
    "    print(\"\\n\")\n",
    "    i+=1\n",
    "\n",
    "i =0\n",
    "nsp=0\n",
    "nstr=11\n",
    "\n",
    "while(i<6):\n",
    "    ncst=0\n",
    "    while(ncst<nsp):\n",
    "        print(\"  \",end=\"\")\n",
    "        ncst+=1\n",
    "    ncst=0\n",
    "    while(ncst<nstr):\n",
    "        print(\"* \", end=\"\")\n",
    "        ncst+=1\n",
    "    ncst=0\n",
    "    while(ncst<nsp):\n",
    "        print(\"  \", end=\"\")\n",
    "        ncst +=1\n",
    "    print(\"\\n\")\n",
    "    nstr-=2\n",
    "    nsp+=1\n",
    "    i+=1\n",
    "\n"
   ]
  },
  {
   "cell_type": "code",
   "execution_count": 86,
   "id": "fbb3d6d3-31e6-446d-b890-edd664810fa6",
   "metadata": {},
   "outputs": [
    {
     "name": "stdout",
     "output_type": "stream",
     "text": [
      "* \n",
      "\n",
      "* * \n",
      "\n",
      "* * * \n",
      "\n",
      "* * * * \n",
      "\n",
      "* * * * * \n",
      "\n",
      "* * * * * * \n",
      "\n",
      "* * * * * \n",
      "\n",
      "* * * * \n",
      "\n",
      "* * * \n",
      "\n",
      "* * \n",
      "\n",
      "* \n",
      "\n",
      "\n",
      "\n"
     ]
    }
   ],
   "source": [
    " # *\n",
    " # **\n",
    " # *** \n",
    " # ****\n",
    " # *****\n",
    " # ******  \n",
    " # *****\n",
    " # ****\n",
    " # ***    \n",
    " # **\n",
    " # *\n",
    "i=0\n",
    "nstr=1\n",
    "n=5\n",
    "while(i<=n):\n",
    "    ncst=0\n",
    "    while(ncst<nstr):\n",
    "        print(\"* \", end=\"\")\n",
    "        ncst+=1\n",
    "    print(\"\\n\")\n",
    "    nstr+=1\n",
    "    i+=1\n",
    "\n",
    "i=0\n",
    "nstr=n\n",
    "while(i<=n):\n",
    "    ncst=0\n",
    "    while(ncst<nstr):\n",
    "        print(\"* \", end=\"\")\n",
    "        ncst+=1\n",
    "    print(\"\\n\")\n",
    "    nstr-=1\n",
    "    i+=1"
   ]
  },
  {
   "cell_type": "code",
   "execution_count": 42,
   "id": "59d94773-33fa-494e-934b-6c666b46554d",
   "metadata": {},
   "outputs": [
    {
     "name": "stdout",
     "output_type": "stream",
     "text": [
      "1      1\n",
      "\n",
      "12    21\n",
      "\n",
      "123  321\n",
      "\n",
      "12344321\n",
      "\n"
     ]
    }
   ],
   "source": [
    "i =0\n",
    "n=4\n",
    "nsp=6\n",
    "nstr=1\n",
    "while(i<n):\n",
    "    ncst=0\n",
    "    while(ncst<nstr):\n",
    "        print(str(ncst+1), end=\"\")\n",
    "        ncst+=1\n",
    "    csp=0\n",
    "    while(csp<nsp):\n",
    "        print(\" \", end=\"\")\n",
    "        csp+=1\n",
    "    ncst-=1\n",
    "    while(ncst>=0):\n",
    "        print(str(ncst+1),end=\"\")\n",
    "        ncst-=1\n",
    "    print(\"\\n\")\n",
    "    nsp-=2\n",
    "    nstr+=1\n",
    "    i+=1\n",
    "    "
   ]
  },
  {
   "cell_type": "code",
   "execution_count": 6,
   "id": "f5c7aa99-cd02-49b2-970f-730b0a58d120",
   "metadata": {},
   "outputs": [
    {
     "name": "stdout",
     "output_type": "stream",
     "text": [
      "*   *   *   *   *   \n",
      "\n",
      "        *   *   *   *   \n",
      "\n",
      "                *   *   *   \n",
      "\n",
      "                        *   *   \n",
      "\n",
      "                                *   \n",
      "\n"
     ]
    }
   ],
   "source": [
    "i = 0\n",
    "n=5\n",
    "nstr=5\n",
    "nsp=0\n",
    "while(i<n):\n",
    "    ncst=0\n",
    "    while(ncst<nsp):\n",
    "        print(\"    \", end=\"\")\n",
    "        ncst+=1\n",
    "    ncst=0\n",
    "    while(ncst<nstr):\n",
    "        print(\"*   \",end=\"\")\n",
    "        ncst+=1\n",
    "    print(\"\\n\")\n",
    "    nstr-=1\n",
    "    nsp+=2\n",
    "    i+=1"
   ]
  },
  {
   "cell_type": "code",
   "execution_count": 16,
   "id": "212245ac-5731-4081-b997-8f3d88b7c74e",
   "metadata": {},
   "outputs": [
    {
     "name": "stdout",
     "output_type": "stream",
     "text": [
      "* * * * * \n",
      "\n",
      "*       * \n",
      "\n",
      "*       * \n",
      "\n",
      "*       * \n",
      "\n",
      "* * * * * \n",
      "\n"
     ]
    }
   ],
   "source": [
    "i =0\n",
    "n=5\n",
    "while(i<n):\n",
    "    if i==0 or i==n-1:\n",
    "        ncst=0\n",
    "        nstr=5\n",
    "        while(ncst<nstr):\n",
    "            print(\"* \", end=\"\")\n",
    "            ncst+=1\n",
    "        print(\"\\n\")\n",
    "    else:\n",
    "        nstr=1\n",
    "        ncst=0\n",
    "        while(ncst<nstr):\n",
    "            print(\"* \",end=\"\")\n",
    "            ncst+=1\n",
    "        print(\"  \"*(n-2),end=\"\")\n",
    "        ncst=0\n",
    "        while(ncst<nstr):\n",
    "            print(\"* \",end=\"\")\n",
    "            ncst+=1\n",
    "        print(\"\\n\")\n",
    "        \n",
    "    i+=1"
   ]
  },
  {
   "cell_type": "code",
   "execution_count": 19,
   "id": "6138ca8c-7442-4733-9995-49b75fb3f6db",
   "metadata": {},
   "outputs": [
    {
     "name": "stdout",
     "output_type": "stream",
     "text": [
      "        *         \n",
      "\n",
      "      * * *       \n",
      "\n",
      "    * * * * *     \n",
      "\n",
      "  * * * * * * *   \n",
      "\n",
      "* * * * * * * * * \n",
      "\n"
     ]
    }
   ],
   "source": [
    "i=0\n",
    "n=5\n",
    "nstr=1\n",
    "nsp=4\n",
    "while(i<n):\n",
    "    ncst=0\n",
    "    while(ncst<nsp):\n",
    "        print(\"  \",end=\"\")\n",
    "        ncst+=1\n",
    "    ncst=0\n",
    "    while(ncst<nstr):\n",
    "        print(\"* \", end=\"\")\n",
    "        ncst+=1\n",
    "    ncst=0\n",
    "    while(ncst<nsp):\n",
    "        print(\"  \",end=\"\")\n",
    "        ncst+=1\n",
    "    i+=1\n",
    "    nstr+=2\n",
    "    nsp-=1\n",
    "    print(\"\\n\")\n",
    "        "
   ]
  },
  {
   "cell_type": "code",
   "execution_count": 31,
   "id": "f1b913e8-a058-428f-87f0-247e0cf06494",
   "metadata": {},
   "outputs": [
    {
     "name": "stdout",
     "output_type": "stream",
     "text": [
      "* * * * * * * * * \n",
      "\n",
      "  * * * * * * * \n",
      "\n",
      "    * * * * * \n",
      "\n",
      "      * * * \n",
      "\n",
      "        * \n",
      "\n"
     ]
    }
   ],
   "source": [
    "i=0\n",
    "n=5\n",
    "nstr=9\n",
    "nsp=0\n",
    "while(i<n):\n",
    "    ncst=0\n",
    "    while(ncst<nsp):\n",
    "        print(\"  \", end=\"\")\n",
    "        ncst+=1\n",
    "    ncst=0\n",
    "    while(ncst<nstr):\n",
    "        print(\"* \", end=\"\")\n",
    "        ncst+=1\n",
    "    print(\"\\n\")\n",
    "    i+=1\n",
    "    nstr-=2\n",
    "    nsp+=1\n",
    "        \n",
    "    "
   ]
  },
  {
   "cell_type": "code",
   "execution_count": 3,
   "id": "adc32caf-7d01-4eac-9420-e7e60f2cef78",
   "metadata": {},
   "outputs": [
    {
     "name": "stdout",
     "output_type": "stream",
     "text": [
      "* * * * * * * * * \n",
      "\n",
      "*               * \n",
      "\n",
      "*               * \n",
      "\n",
      "*               * \n",
      "\n",
      "*               * \n",
      "\n",
      "*               * \n",
      "\n",
      "*               * \n",
      "\n",
      "*               * \n",
      "\n",
      "* * * * * * * * * \n",
      "\n"
     ]
    }
   ],
   "source": [
    "i=1\n",
    "n=9\n",
    "nsp=n-2\n",
    "while(i<=n):\n",
    "    if i == 1 or i==n:\n",
    "        cst=1\n",
    "        while(cst<=n):\n",
    "            print(\"* \",end=\"\")\n",
    "            cst+=1\n",
    "    else:\n",
    "        print(\"* \",end=\"\")\n",
    "        csp=1\n",
    "        while(csp<=nsp):\n",
    "            print(\"  \", end=\"\")\n",
    "            csp+=1\n",
    "        print(\"* \",end=\"\")\n",
    "    i+=1\n",
    "    print(\"\\n\")\n",
    "            "
   ]
  },
  {
   "cell_type": "code",
   "execution_count": 5,
   "id": "e271384e-cdce-40d2-9a66-c925e363dce6",
   "metadata": {},
   "outputs": [
    {
     "name": "stdout",
     "output_type": "stream",
     "text": [
      "        * $ $ $ $ \n",
      "\n",
      "      * * * $ $ $ \n",
      "\n",
      "    * * * * * $ $ \n",
      "\n",
      "  * * * * * * * $ \n",
      "\n",
      "* * * * * * * * * \n",
      "\n"
     ]
    }
   ],
   "source": [
    "i=1\n",
    "n=5\n",
    "nst=1\n",
    "nsp=n-1\n",
    "nod=n-1\n",
    "while(i<=n):\n",
    "    csp=1\n",
    "    while(csp<=nsp):\n",
    "        print(\"  \",end=\"\")\n",
    "        csp+=1\n",
    "    cst=1\n",
    "    while(cst<=nst):\n",
    "        print(\"* \",end=\"\")\n",
    "        cst+=1\n",
    "    cod=1\n",
    "    while(cod<=nod):\n",
    "        print(\"$ \",end=\"\")\n",
    "        cod+=1\n",
    "    print(\"\\n\")\n",
    "    nst+=2\n",
    "    nsp-=1\n",
    "    nod-=1\n",
    "    i+=1"
   ]
  },
  {
   "cell_type": "code",
   "execution_count": 6,
   "id": "ed9ff06d-18c3-47cf-9a5e-6cb78ba63939",
   "metadata": {},
   "outputs": [
    {
     "name": "stdout",
     "output_type": "stream",
     "text": [
      "        * \n",
      "\n",
      "      * ! * \n",
      "\n",
      "    * ! * ! * \n",
      "\n",
      "  * ! * ! * ! * \n",
      "\n",
      "* ! * ! * ! * ! * \n",
      "\n"
     ]
    }
   ],
   "source": [
    "i =1\n",
    "n=5\n",
    "nsp=n-1\n",
    "nst=1\n",
    "\n",
    "while(i<=n):\n",
    "    csp=1\n",
    "    while(csp<=nsp):\n",
    "        print(\"  \",end=\"\")\n",
    "        csp+=1\n",
    "    cst=1\n",
    "    while(cst<=nst):\n",
    "        if(cst%2 ==1):\n",
    "            print(\"* \",end=\"\")\n",
    "        else:\n",
    "            print(\"! \",end=\"\")\n",
    "        cst+=1\n",
    "    print(\"\\n\")\n",
    "    i+=1\n",
    "    nst+=2\n",
    "    nsp-=1"
   ]
  },
  {
   "cell_type": "code",
   "execution_count": 12,
   "id": "ac0b631d-0f60-4d41-8ec8-c075a0b4071a",
   "metadata": {},
   "outputs": [
    {
     "name": "stdout",
     "output_type": "stream",
     "text": [
      "        * \n",
      "\n",
      "      * * \n",
      "\n",
      "    * * * \n",
      "\n",
      "  * * * * \n",
      "\n",
      "* * * * * \n",
      "\n",
      "  * * * * \n",
      "\n",
      "    * * * \n",
      "\n",
      "      * * \n",
      "\n",
      "        * \n",
      "\n"
     ]
    }
   ],
   "source": [
    "i=1\n",
    "n=5\n",
    "nsp=n-1\n",
    "nst=1\n",
    "\n",
    "while(i<=2*n-1):\n",
    "    csp=1\n",
    "    while(csp<=nsp):\n",
    "        print(\"  \",end=\"\")\n",
    "        csp+=1\n",
    "    cst=1\n",
    "    while(cst<=nst):\n",
    "        print(\"* \",end=\"\")\n",
    "        cst+=1\n",
    "    i+=1\n",
    "    print(\"\\n\")\n",
    "    if i>n:\n",
    "        nst-=1\n",
    "        nsp+=1\n",
    "    else:    \n",
    "        nst+=1\n",
    "        nsp-=1"
   ]
  },
  {
   "cell_type": "code",
   "execution_count": null,
   "id": "9c315df5-030a-44bf-badc-c65f56db8845",
   "metadata": {},
   "outputs": [],
   "source": []
  }
 ],
 "metadata": {
  "kernelspec": {
   "display_name": "Python 3 (ipykernel)",
   "language": "python",
   "name": "python3"
  },
  "language_info": {
   "codemirror_mode": {
    "name": "ipython",
    "version": 3
   },
   "file_extension": ".py",
   "mimetype": "text/x-python",
   "name": "python",
   "nbconvert_exporter": "python",
   "pygments_lexer": "ipython3",
   "version": "3.12.1"
  }
 },
 "nbformat": 4,
 "nbformat_minor": 5
}
