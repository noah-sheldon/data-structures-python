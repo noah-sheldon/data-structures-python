{
 "cells": [
  {
   "cell_type": "code",
   "execution_count": 11,
   "id": "68770f63-63f6-44ba-944f-b2986210a104",
   "metadata": {},
   "outputs": [
    {
     "name": "stdout",
     "output_type": "stream",
     "text": [
      "120\n"
     ]
    }
   ],
   "source": [
    "# Factorial\n",
    "\n",
    "def fact(n):\n",
    "    if n==1:\n",
    "        return 1\n",
    "    return fact(n-1)*n\n",
    "\n",
    "print(fact(5))"
   ]
  },
  {
   "cell_type": "code",
   "execution_count": 14,
   "id": "8444d544-8c9c-423d-a2e8-cc169d09fcf8",
   "metadata": {},
   "outputs": [
    {
     "name": "stdout",
     "output_type": "stream",
     "text": [
      "55\n"
     ]
    }
   ],
   "source": [
    "#fibonaci\n",
    "\n",
    "def fib(n):\n",
    "    if n==0 or n==1:\n",
    "        return n\n",
    "    f1 = fib(n-1)\n",
    "    f2 = fib(n-2)\n",
    "    return f1+f2\n",
    "\n",
    "print(fib(10))"
   ]
  },
  {
   "cell_type": "code",
   "execution_count": 15,
   "id": "28d1a871-b12c-486d-9e3c-f401a26f6fe6",
   "metadata": {},
   "outputs": [
    {
     "name": "stdout",
     "output_type": "stream",
     "text": [
      "10\n",
      "9\n",
      "8\n",
      "7\n",
      "6\n",
      "5\n",
      "4\n",
      "3\n",
      "2\n",
      "1\n"
     ]
    }
   ],
   "source": [
    "#print  decreasing - head recursion\n",
    "\n",
    "def dec(n):\n",
    "    if n==0:\n",
    "        return\n",
    "    print(n)\n",
    "    dec(n-1)\n",
    "\n",
    "dec(10)"
   ]
  },
  {
   "cell_type": "code",
   "execution_count": 16,
   "id": "cd606bb6-3188-4737-85c0-a08bfd89f24f",
   "metadata": {},
   "outputs": [
    {
     "name": "stdout",
     "output_type": "stream",
     "text": [
      "1\n",
      "2\n",
      "3\n",
      "4\n",
      "5\n",
      "6\n",
      "7\n",
      "8\n",
      "9\n",
      "10\n"
     ]
    }
   ],
   "source": [
    "#print increasing - tail recursion\n",
    "\n",
    "def inc(n):\n",
    "    if n==0:\n",
    "        return\n",
    "    \n",
    "    inc(n-1)\n",
    "    print(n)\n",
    "\n",
    "inc(10)"
   ]
  },
  {
   "cell_type": "code",
   "execution_count": 18,
   "id": "5500cb3b-4670-4e07-b56b-64f214110222",
   "metadata": {},
   "outputs": [
    {
     "name": "stdout",
     "output_type": "stream",
     "text": [
      "8\n"
     ]
    }
   ],
   "source": [
    "def pow(n, m):\n",
    "    if m==0:\n",
    "        return 1\n",
    "    prev = pow(n, m-1)\n",
    "    return n*prev\n",
    "\n",
    "print(pow(2,3))"
   ]
  },
  {
   "cell_type": "code",
   "execution_count": 19,
   "id": "f00aeaf7-3133-41d6-9035-ffa38d744d5f",
   "metadata": {},
   "outputs": [
    {
     "data": {
      "text/plain": [
       "55"
      ]
     },
     "execution_count": 19,
     "metadata": {},
     "output_type": "execute_result"
    }
   ],
   "source": [
    "def sum(n):\n",
    "    if n==1:\n",
    "        return 1\n",
    "    prev = sum(n-1)\n",
    "    return prev+n\n",
    "\n",
    "print(sum(10))"
   ]
  },
  {
   "cell_type": "code",
   "execution_count": 24,
   "id": "0637ecd2-6f59-421f-9724-66592b8e7764",
   "metadata": {},
   "outputs": [
    {
     "data": {
      "text/plain": [
       "9"
      ]
     },
     "execution_count": 24,
     "metadata": {},
     "output_type": "execute_result"
    }
   ],
   "source": [
    "#linear search\n",
    "\n",
    "def linear_search(arr, target, i):\n",
    "    if i == len(arr):\n",
    "        return -1\n",
    "    if arr[i] == target:\n",
    "        return i\n",
    "\n",
    "    return linear_search(arr, target, i+1)\n",
    "\n",
    "linear_search([1,2,3,4,5,6,7,8,9,10], 10, 0)"
   ]
  },
  {
   "cell_type": "code",
   "execution_count": 3,
   "id": "897e2e0f-e0f0-4078-a85e-439638b8f042",
   "metadata": {},
   "outputs": [
    {
     "name": "stdout",
     "output_type": "stream",
     "text": [
      "HHH\n",
      "HHT\n",
      "HTH\n",
      "HTT\n",
      "THH\n",
      "THT\n",
      "TTH\n",
      "TTT\n"
     ]
    }
   ],
   "source": [
    "#cointoss - start with H\n",
    "\n",
    "def cointoss(n:int, ans:str):\n",
    "    if n==0:\n",
    "        print(ans)\n",
    "        return\n",
    "\n",
    "    cointoss(n-1,ans+\"H\")\n",
    "    cointoss(n-1,ans+\"T\")\n",
    "\n",
    "cointoss(3, \"\")\n",
    "\n"
   ]
  },
  {
   "cell_type": "code",
   "execution_count": 4,
   "id": "446c1194-947e-4f48-8af2-8ef4057940f7",
   "metadata": {},
   "outputs": [
    {
     "name": "stdout",
     "output_type": "stream",
     "text": [
      "TTT\n",
      "TTH\n",
      "THT\n",
      "THH\n",
      "HTT\n",
      "HTH\n",
      "HHT\n",
      "HHH\n"
     ]
    }
   ],
   "source": [
    "#cointoss - start with T\n",
    "\n",
    "def cointoss(n:int, ans:str):\n",
    "    if n==0:\n",
    "        print(ans)\n",
    "        return\n",
    "\n",
    "    cointoss(n-1,ans+\"T\")\n",
    "    cointoss(n-1,ans+\"H\")\n",
    "\n",
    "cointoss(3, \"\")"
   ]
  },
  {
   "cell_type": "code",
   "execution_count": 10,
   "id": "f377f184-a3c7-4459-9306-ddb8201b0aa7",
   "metadata": {},
   "outputs": [
    {
     "name": "stdout",
     "output_type": "stream",
     "text": [
      "HTH\n",
      "HTT\n",
      "THT\n",
      "TTH\n",
      "TTT\n"
     ]
    }
   ],
   "source": [
    "#cointoss - with no consecutive HH\n",
    "\n",
    "def cointoss(n:int, ans:str):\n",
    "    if n==0:\n",
    "        print(ans)\n",
    "        return\n",
    "\n",
    "    if len(ans) ==0 or ans[len(ans)-1] != 'H':\n",
    "        cointoss(n-1,ans+\"H\")\n",
    "    cointoss(n-1,ans+\"T\")\n",
    "\n",
    "cointoss(3, \"\")"
   ]
  },
  {
   "cell_type": "code",
   "execution_count": 20,
   "id": "34e9e408-43c9-44fd-af24-16b2217fb9b5",
   "metadata": {},
   "outputs": [
    {
     "ename": "IndexError",
     "evalue": "string index out of range",
     "output_type": "error",
     "traceback": [
      "\u001b[0;31m---------------------------------------------------------------------------\u001b[0m",
      "\u001b[0;31mIndexError\u001b[0m                                Traceback (most recent call last)",
      "Cell \u001b[0;32mIn[20], line 11\u001b[0m\n\u001b[1;32m      8\u001b[0m     subseq(ques[\u001b[38;5;241m1\u001b[39m], ans\u001b[38;5;241m+\u001b[39mch)\n\u001b[1;32m      9\u001b[0m     subseq(ques[\u001b[38;5;241m1\u001b[39m], ans)\n\u001b[0;32m---> 11\u001b[0m \u001b[43msubseq\u001b[49m\u001b[43m(\u001b[49m\u001b[38;5;124;43m\"\u001b[39;49m\u001b[38;5;124;43mabc\u001b[39;49m\u001b[38;5;124;43m\"\u001b[39;49m\u001b[43m,\u001b[49m\u001b[38;5;124;43m\"\u001b[39;49m\u001b[38;5;124;43m\"\u001b[39;49m\u001b[43m)\u001b[49m\n",
      "Cell \u001b[0;32mIn[20], line 8\u001b[0m, in \u001b[0;36msubseq\u001b[0;34m(ques, ans)\u001b[0m\n\u001b[1;32m      6\u001b[0m     \u001b[38;5;28;01mreturn\u001b[39;00m\n\u001b[1;32m      7\u001b[0m ch \u001b[38;5;241m=\u001b[39m ques[\u001b[38;5;241m0\u001b[39m]\n\u001b[0;32m----> 8\u001b[0m \u001b[43msubseq\u001b[49m\u001b[43m(\u001b[49m\u001b[43mques\u001b[49m\u001b[43m[\u001b[49m\u001b[38;5;241;43m1\u001b[39;49m\u001b[43m]\u001b[49m\u001b[43m,\u001b[49m\u001b[43m \u001b[49m\u001b[43mans\u001b[49m\u001b[38;5;241;43m+\u001b[39;49m\u001b[43mch\u001b[49m\u001b[43m)\u001b[49m\n\u001b[1;32m      9\u001b[0m subseq(ques[\u001b[38;5;241m1\u001b[39m], ans)\n",
      "Cell \u001b[0;32mIn[20], line 8\u001b[0m, in \u001b[0;36msubseq\u001b[0;34m(ques, ans)\u001b[0m\n\u001b[1;32m      6\u001b[0m     \u001b[38;5;28;01mreturn\u001b[39;00m\n\u001b[1;32m      7\u001b[0m ch \u001b[38;5;241m=\u001b[39m ques[\u001b[38;5;241m0\u001b[39m]\n\u001b[0;32m----> 8\u001b[0m subseq(\u001b[43mques\u001b[49m\u001b[43m[\u001b[49m\u001b[38;5;241;43m1\u001b[39;49m\u001b[43m]\u001b[49m, ans\u001b[38;5;241m+\u001b[39mch)\n\u001b[1;32m      9\u001b[0m subseq(ques[\u001b[38;5;241m1\u001b[39m], ans)\n",
      "\u001b[0;31mIndexError\u001b[0m: string index out of range"
     ]
    }
   ],
   "source": [
    "#subsequence\n",
    "\n",
    "def subseq(ques, ans):\n",
    "    if len(ques) ==0:\n",
    "        print(ans)\n",
    "        return\n",
    "    ch = ques[0]\n",
    "    subseq(ques[1], ans+ch)\n",
    "    subseq(ques[1], ans)\n",
    "\n",
    "subseq(\"abc\",\"\")"
   ]
  },
  {
   "cell_type": "code",
   "execution_count": null,
   "id": "85b6e93b-1ce1-4b94-94a2-c9df1b3b0354",
   "metadata": {},
   "outputs": [],
   "source": []
  }
 ],
 "metadata": {
  "kernelspec": {
   "display_name": "Python 3 (ipykernel)",
   "language": "python",
   "name": "python3"
  },
  "language_info": {
   "codemirror_mode": {
    "name": "ipython",
    "version": 3
   },
   "file_extension": ".py",
   "mimetype": "text/x-python",
   "name": "python",
   "nbconvert_exporter": "python",
   "pygments_lexer": "ipython3",
   "version": "3.12.1"
  }
 },
 "nbformat": 4,
 "nbformat_minor": 5
}
