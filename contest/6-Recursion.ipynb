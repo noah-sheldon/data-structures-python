{
 "cells": [
  {
   "cell_type": "code",
   "execution_count": 4,
   "id": "00308000-c7d0-41d2-a43c-1b596fcb1095",
   "metadata": {},
   "outputs": [
    {
     "name": "stdin",
     "output_type": "stream",
     "text": [
      " 5\n"
     ]
    },
    {
     "name": "stdout",
     "output_type": "stream",
     "text": [
      "5\n",
      "3\n",
      "1\n",
      "2\n",
      "4\n"
     ]
    }
   ],
   "source": [
    "n = int(input())\n",
    "\n",
    "\n",
    "def print_odd(n):\n",
    "    if n==0:\n",
    "        return\n",
    "    if n%2==1:\n",
    "        print(n)\n",
    "    print_odd(n-1)\n",
    "\n",
    "def print_even(n):\n",
    "    if n==0:\n",
    "        return\n",
    "    print_even(n-1)\n",
    "    if n%2==0:\n",
    "        print(n)\n",
    "        \n",
    "\n",
    "print_odd(n)\n",
    "print_even(n)"
   ]
  },
  {
   "cell_type": "code",
   "execution_count": 19,
   "id": "9b0b5058-781f-457a-a314-f9611bd20c11",
   "metadata": {},
   "outputs": [
    {
     "name": "stdin",
     "output_type": "stream",
     "text": [
      " 105\n"
     ]
    },
    {
     "name": "stdout",
     "output_type": "stream",
     "text": [
      "155\n"
     ]
    }
   ],
   "source": [
    "# Given an integer N, now you have to convert all zeros of N to 5.\n",
    "\n",
    "# Input Format\n",
    "# The first Line takes input integer N, denoting the number.\n",
    "\n",
    "# Constraints\n",
    "# 1<=N<=10000\n",
    "\n",
    "# Output Format\n",
    "# Print the number after replacing all 0's with 5.\n",
    "\n",
    "# Sample Input\n",
    "# 103\n",
    "# Sample Output\n",
    "# 153\n",
    "# Explanation\n",
    "# Testcase 1: after replacing 0 with 5 ,number will become 153.\n",
    "# Testcase 2: there is no zero in number so it will remain same.\n",
    "\n",
    "def zero_to_five(n):\n",
    "    if n == 0:\n",
    "        return 0 \n",
    "\n",
    "\n",
    "    last_digit = n % 10\n",
    "    if last_digit == 0:\n",
    "        last_digit = 5\n",
    "\n",
    "\n",
    "    \n",
    "    return zero_to_five(n // 10) * 10 + last_digit\n",
    "\n",
    "n = int(input())\n",
    "if n == 0:\n",
    "    print(5)\n",
    "else:\n",
    "    print(zero_to_five(n))"
   ]
  },
  {
   "cell_type": "code",
   "execution_count": 20,
   "id": "41e2a6f2-1ad1-4339-89f3-9900ac82b3e6",
   "metadata": {},
   "outputs": [
    {
     "name": "stdin",
     "output_type": "stream",
     "text": [
      " 3\n"
     ]
    },
    {
     "data": {
      "text/plain": [
       "6"
      ]
     },
     "execution_count": 20,
     "metadata": {},
     "output_type": "execute_result"
    }
   ],
   "source": [
    "# <!-- Take as input N, a number. Write a recursive function to find Nth triangle where 1st triangle is 1, 2nd triangle is 1 + 2 = 3, 3rd triangle is 1 + 2 + 3 = 6, so on and so forth. Print the value returned.\n",
    "\n",
    "# Input Format\n",
    "# Integer N is the single line of input.\n",
    "\n",
    "# Constraints\n",
    "# 1 <= N <= 100\n",
    "\n",
    "# Output Format\n",
    "# Print the output as a single integer which is the nth triangle.\n",
    "\n",
    "# Sample Input\n",
    "# 3\n",
    "# Sample Output\n",
    "# 6 -->\n",
    "n= int(input())\n",
    "\n",
    "def nth_triangle(n):\n",
    "    if n==0:\n",
    "        return 0\n",
    "\n",
    "    return nth_triangle(n-1) + n\n",
    "\n",
    "print(nth_triangle(n))\n",
    "        "
   ]
  },
  {
   "cell_type": "code",
   "execution_count": 19,
   "id": "a11a1a16-bbf9-4166-b447-a4c25ae050a1",
   "metadata": {},
   "outputs": [
    {
     "name": "stdin",
     "output_type": "stream",
     "text": [
      " 6\n",
      " 2\n",
      " 5\n",
      " 8\n",
      " 4\n",
      " 6\n",
      " 11\n",
      " 13\n"
     ]
    },
    {
     "name": "stdout",
     "output_type": "stream",
     "text": [
      "8 5  6 5 2  11 2  \n",
      "\n",
      "3\n"
     ]
    }
   ],
   "source": [
    "# Take an input N, a number. Take N more inputs and store that in an array. Take an input target, a number\n",
    "\n",
    "# a. Write a recursive function which prints subsets of the array which sum to target.\n",
    "\n",
    "# b. Write a recursive function which counts the number of subsets of the array which sum to target. Print the value returned.\n",
    "\n",
    "# Input Format\n",
    "# Take an input N, a number. Take N more inputs and store that in an array. Take an input target, a number\n",
    "\n",
    "# Constraints\n",
    "# None\n",
    "\n",
    "# Output Format\n",
    "# Display the number of subsets and print the subsets in a space separated manner.\n",
    "\n",
    "# Sample Input\n",
    "# 3\n",
    "# 1\n",
    "# 2\n",
    "# 3\n",
    "# 3\n",
    "# Sample Output\n",
    "# 1 2  3\n",
    "# 2\n",
    "# Explanation\n",
    "# Add 2 spaces between 2 subset solutions\n",
    "\n",
    "n = int(input())\n",
    "\n",
    "arr = []\n",
    "\n",
    "for _ in range(n):\n",
    "    arr.append(int(input()))\n",
    "\n",
    "target = int(input())\n",
    "\n",
    "def subset_rec(arr, n, v, target):\n",
    "\n",
    "    if target == 0 :\n",
    "        for value in v:\n",
    "            print(value,end=\" \")\n",
    "        print(\" \",end=\"\")\n",
    "        return 1\n",
    "\n",
    "    if n == 0:\n",
    "        return 0\n",
    "\n",
    "    count_excluding = subset_rec(arr, n-1, v, target)\n",
    "    v1 = [] + v\n",
    "    v1.append(arr[n-1])\n",
    "    count_including = subset_rec(arr, n-1, v1, target - arr[n-1])\n",
    "    return count_including + count_excluding\n",
    "\n",
    "count = subset_rec(arr, n, [], target)\n",
    "print(\"\\n\")\n",
    "print(count)\n",
    "\n"
   ]
  },
  {
   "cell_type": "code",
   "execution_count": 87,
   "id": "603e6c6f-c3b4-4f52-ac97-ccbe891659bb",
   "metadata": {},
   "outputs": [
    {
     "name": "stdin",
     "output_type": "stream",
     "text": [
      " 3\n",
      " 3\n"
     ]
    },
    {
     "name": "stdout",
     "output_type": "stream",
     "text": [
      "VVHH VHVH VHHV VHD VDH HVVH HVHV HVD HHVV HDV DVH DHV DD \n",
      "\n",
      "13\n"
     ]
    }
   ],
   "source": [
    "def maze_path_d(cr, cc, row, col, ans):\n",
    "    if cc == col and cr ==row:\n",
    "        print(ans, end=\" \")\n",
    "        return 1\n",
    "    if cc>col or cr>row:\n",
    "        return 0\n",
    "\n",
    "    \n",
    "    count_v = maze_path_d(cr+1, cc, row, col, ans + 'V')\n",
    "    count_h = maze_path_d(cr, cc+1, row, col, ans + 'H')\n",
    "    count_dia = maze_path_d(cr+1, cc+1, row, col, ans + 'D')\n",
    "    return count_dia+count_h+count_v\n",
    "\n",
    "col =int(input())\n",
    "row = int(input())\n",
    "count = maze_path_d(1, 1, row, col, '')\n",
    "print('\\n')\n",
    "print(count)"
   ]
  },
  {
   "cell_type": "code",
   "execution_count": 62,
   "id": "b6147388-81a8-4df1-b78a-2e559ba49191",
   "metadata": {},
   "outputs": [
    {
     "name": "stdin",
     "output_type": "stream",
     "text": [
      " 6\n",
      " 6\n"
     ]
    },
    {
     "name": "stdout",
     "output_type": "stream",
     "text": [
      "VVVVVHHHHH VVVVHVHHHH VVVVHHVHHH VVVVHHHVHH VVVVHHHHVH VVVVHHHHHV VVVHVVHHHH VVVHVHVHHH VVVHVHHVHH VVVHVHHHVH VVVHVHHHHV VVVHHVVHHH VVVHHVHVHH VVVHHVHHVH VVVHHVHHHV VVVHHHVVHH VVVHHHVHVH VVVHHHVHHV VVVHHHHVVH VVVHHHHVHV VVVHHHHHVV VVHVVVHHHH VVHVVHVHHH VVHVVHHVHH VVHVVHHHVH VVHVVHHHHV VVHVHVVHHH VVHVHVHVHH VVHVHVHHVH VVHVHVHHHV VVHVHHVVHH VVHVHHVHVH VVHVHHVHHV VVHVHHHVVH VVHVHHHVHV VVHVHHHHVV VVHHVVVHHH VVHHVVHVHH VVHHVVHHVH VVHHVVHHHV VVHHVHVVHH VVHHVHVHVH VVHHVHVHHV VVHHVHHVVH VVHHVHHVHV VVHHVHHHVV VVHHHVVVHH VVHHHVVHVH VVHHHVVHHV VVHHHVHVVH VVHHHVHVHV VVHHHVHHVV VVHHHHVVVH VVHHHHVVHV VVHHHHVHVV VVHHHHHVVV VHVVVVHHHH VHVVVHVHHH VHVVVHHVHH VHVVVHHHVH VHVVVHHHHV VHVVHVVHHH VHVVHVHVHH VHVVHVHHVH VHVVHVHHHV VHVVHHVVHH VHVVHHVHVH VHVVHHVHHV VHVVHHHVVH VHVVHHHVHV VHVVHHHHVV VHVHVVVHHH VHVHVVHVHH VHVHVVHHVH VHVHVVHHHV VHVHVHVVHH VHVHVHVHVH VHVHVHVHHV VHVHVHHVVH VHVHVHHVHV VHVHVHHHVV VHVHHVVVHH VHVHHVVHVH VHVHHVVHHV VHVHHVHVVH VHVHHVHVHV VHVHHVHHVV VHVHHHVVVH VHVHHHVVHV VHVHHHVHVV VHVHHHHVVV VHHVVVVHHH VHHVVVHVHH VHHVVVHHVH VHHVVVHHHV VHHVVHVVHH VHHVVHVHVH VHHVVHVHHV VHHVVHHVVH VHHVVHHVHV VHHVVHHHVV VHHVHVVVHH VHHVHVVHVH VHHVHVVHHV VHHVHVHVVH VHHVHVHVHV VHHVHVHHVV VHHVHHVVVH VHHVHHVVHV VHHVHHVHVV VHHVHHHVVV VHHHVVVVHH VHHHVVVHVH VHHHVVVHHV VHHHVVHVVH VHHHVVHVHV VHHHVVHHVV VHHHVHVVVH VHHHVHVVHV VHHHVHVHVV VHHHVHHVVV VHHHHVVVVH VHHHHVVVHV VHHHHVVHVV VHHHHVHVVV VHHHHHVVVV HVVVVVHHHH HVVVVHVHHH HVVVVHHVHH HVVVVHHHVH HVVVVHHHHV HVVVHVVHHH HVVVHVHVHH HVVVHVHHVH HVVVHVHHHV HVVVHHVVHH HVVVHHVHVH HVVVHHVHHV HVVVHHHVVH HVVVHHHVHV HVVVHHHHVV HVVHVVVHHH HVVHVVHVHH HVVHVVHHVH HVVHVVHHHV HVVHVHVVHH HVVHVHVHVH HVVHVHVHHV HVVHVHHVVH HVVHVHHVHV HVVHVHHHVV HVVHHVVVHH HVVHHVVHVH HVVHHVVHHV HVVHHVHVVH HVVHHVHVHV HVVHHVHHVV HVVHHHVVVH HVVHHHVVHV HVVHHHVHVV HVVHHHHVVV HVHVVVVHHH HVHVVVHVHH HVHVVVHHVH HVHVVVHHHV HVHVVHVVHH HVHVVHVHVH HVHVVHVHHV HVHVVHHVVH HVHVVHHVHV HVHVVHHHVV HVHVHVVVHH HVHVHVVHVH HVHVHVVHHV HVHVHVHVVH HVHVHVHVHV HVHVHVHHVV HVHVHHVVVH HVHVHHVVHV HVHVHHVHVV HVHVHHHVVV HVHHVVVVHH HVHHVVVHVH HVHHVVVHHV HVHHVVHVVH HVHHVVHVHV HVHHVVHHVV HVHHVHVVVH HVHHVHVVHV HVHHVHVHVV HVHHVHHVVV HVHHHVVVVH HVHHHVVVHV HVHHHVVHVV HVHHHVHVVV HVHHHHVVVV HHVVVVVHHH HHVVVVHVHH HHVVVVHHVH HHVVVVHHHV HHVVVHVVHH HHVVVHVHVH HHVVVHVHHV HHVVVHHVVH HHVVVHHVHV HHVVVHHHVV HHVVHVVVHH HHVVHVVHVH HHVVHVVHHV HHVVHVHVVH HHVVHVHVHV HHVVHVHHVV HHVVHHVVVH HHVVHHVVHV HHVVHHVHVV HHVVHHHVVV HHVHVVVVHH HHVHVVVHVH HHVHVVVHHV HHVHVVHVVH HHVHVVHVHV HHVHVVHHVV HHVHVHVVVH HHVHVHVVHV HHVHVHVHVV HHVHVHHVVV HHVHHVVVVH HHVHHVVVHV HHVHHVVHVV HHVHHVHVVV HHVHHHVVVV HHHVVVVVHH HHHVVVVHVH HHHVVVVHHV HHHVVVHVVH HHHVVVHVHV HHHVVVHHVV HHHVVHVVVH HHHVVHVVHV HHHVVHVHVV HHHVVHHVVV HHHVHVVVVH HHHVHVVVHV HHHVHVVHVV HHHVHVHVVV HHHVHHVVVV HHHHVVVVVH HHHHVVVVHV HHHHVVVHVV HHHHVVHVVV HHHHVHVVVV HHHHHVVVVV \n",
      "\n",
      "252\n"
     ]
    }
   ],
   "source": [
    "def maze_path(cr, cc, row, col, ans):\n",
    "    if cc == col and cr ==row:\n",
    "        print(ans, end=\" \")\n",
    "        return 1\n",
    "    if cc>col or cr>row:\n",
    "        return 0\n",
    "\n",
    "    count_v = maze_path(cr+1, cc, row, col, ans + 'V')\n",
    "    count_h = maze_path(cr, cc+1, row, col, ans + 'H')\n",
    "    return count_h+count_v\n",
    "\n",
    "row =int(input())\n",
    "col = int(input())\n",
    "count = maze_path(1, 1, row, col, '')\n",
    "print('\\n')\n",
    "print(count)"
   ]
  },
  {
   "cell_type": "code",
   "execution_count": 38,
   "id": "f2d5e012-0f62-42df-b82a-b9fa31118153",
   "metadata": {},
   "outputs": [
    {
     "name": "stdin",
     "output_type": "stream",
     "text": [
      " fhuias\n"
     ]
    },
    {
     "name": "stdout",
     "output_type": "stream",
     "text": [
      "0\n"
     ]
    }
   ],
   "source": [
    "# Take an input str, a string. A “twin” is defined as two instances of a char separated by a char. E.g. \"AxA\" the A's make a “twin”. “twins” can overlap, so \"AxAxA\" contains 3 “twins” - 2 for A and 1 for x. Write a function which recursively counts number of “twins” in a string. Print the value returned.\n",
    "\n",
    "# Input Format\n",
    "# Enter the string\n",
    "\n",
    "# Constraints\n",
    "# None\n",
    "\n",
    "# Output Format\n",
    "# Display the number of twins\n",
    "\n",
    "# Sample Input\n",
    "# AXAXA\n",
    "# Sample Output\n",
    "# 3\n",
    "\n",
    "s = input()\n",
    "\n",
    "def twins(s):\n",
    "    if len(s)<3:\n",
    "        return 0\n",
    "    if s[0] == s[2]:\n",
    "        count = 1 + twins(s[1:])\n",
    "    else:\n",
    "        count = twins(s[1:])\n",
    "    return count\n",
    "\n",
    "print(twins(s))"
   ]
  },
  {
   "cell_type": "code",
   "execution_count": 34,
   "id": "a8635c93-c063-4f7f-b44b-fb06760efd5f",
   "metadata": {},
   "outputs": [
    {
     "name": "stdin",
     "output_type": "stream",
     "text": [
      " cab\n"
     ]
    },
    {
     "name": "stdout",
     "output_type": "stream",
     "text": [
      "cba\n"
     ]
    }
   ],
   "source": [
    "# Take as input str, a string. Write a recursive function which prints all the words possible by rearranging the characters of this string which are in dictionary order larger than the given string.\n",
    "# The output strings must be lexicographically sorted.\n",
    "\n",
    "# Input Format\n",
    "# Single line input containing a string\n",
    "\n",
    "# Constraints\n",
    "# Length of string <= 10\n",
    "\n",
    "# All characters are unique\n",
    "\n",
    "# Output Format\n",
    "# Display all the words which are in dictionary order larger than the string entered in a new line each. The output strings must be sorted.\n",
    "\n",
    "# Sample Input\n",
    "# cab\n",
    "\n",
    "# Sample Output\n",
    "# cba\n",
    "# Explanation\n",
    "# The possible permutations of string \"cab\" are \"abc\" , \"acb\" ,\"bac\" , \"bca\" , \"cab\" and \"cba\" . Only one of them is lexicographically greater than \"cab\". We only print \"cba\".\n",
    "\n",
    "\n",
    "s = input()\n",
    "q = s\n",
    "res = []\n",
    "\n",
    "def get_permuations(q, s, ans):\n",
    "    if len(s)==0:\n",
    "        if ans > q:\n",
    "            res.append(ans)\n",
    "        return ''\n",
    "\n",
    "\n",
    "\n",
    "    for i in range(len(s)):\n",
    "        ch = s[i]\n",
    "        s1 = s[:i]\n",
    "        s2 = s[i+1:]\n",
    "        get_permuations(q, s1+s2, ans+ch)\n",
    "        \n",
    "\n",
    "get_permuations(q, s,'')\n",
    "\n",
    "for perm in sorted(res):\n",
    "    print(perm)"
   ]
  },
  {
   "cell_type": "code",
   "execution_count": 33,
   "id": "bb5f6ff6-5112-4f76-9cf7-c1c087a39eef",
   "metadata": {},
   "outputs": [
    {
     "name": "stdin",
     "output_type": "stream",
     "text": [
      " cab\n"
     ]
    },
    {
     "name": "stdout",
     "output_type": "stream",
     "text": [
      "abc\n",
      "acb\n",
      "bac\n",
      "bca\n"
     ]
    }
   ],
   "source": [
    "# Take as input str, a string. Write a recursive function which returns all the words possible by rearranging the characters of this string which are in dictionary order smaller than the given string. The output strings must be lexicographically sorted.\n",
    "\n",
    "# Input Format\n",
    "# Single line input containing a string\n",
    "\n",
    "# Constraints\n",
    "# Length of string <= 10\n",
    "\n",
    "# All characters are unique\n",
    "\n",
    "# Output Format\n",
    "# Display all the words which are in dictionary order smaller than the string entered in a new line each. The output strings must be sorted.\n",
    "\n",
    "# Sample Input\n",
    "# cab\n",
    "# Sample Output\n",
    "# abc\n",
    "# acb\n",
    "# bac\n",
    "# bca\n",
    "# Explanation\n",
    "# The possible permutations of string \"cab\" are \"abc\" , \"acb\" ,\"bac\" , \"bca\" , \"cab\" and \"cba\" . Only four of them are lexicographically less than \"cab\". We print them in lexicographical order.\n",
    "\n",
    "\n",
    "s = input()\n",
    "q = s\n",
    "res = []\n",
    "\n",
    "def get_permuations(q, s, ans):\n",
    "    if len(s)==0:\n",
    "        if ans < q:\n",
    "            res.append(ans)\n",
    "        return ''\n",
    "\n",
    "\n",
    "\n",
    "    for i in range(len(s)):\n",
    "        ch = s[i]\n",
    "        s1 = s[:i]\n",
    "        s2 = s[i+1:]\n",
    "        get_permuations(q, s1+s2, ans+ch)\n",
    "        \n",
    "\n",
    "get_permuations(q, s,'')\n",
    "\n",
    "for perm in sorted(res):\n",
    "    print(perm)"
   ]
  },
  {
   "cell_type": "code",
   "execution_count": 1,
   "id": "244a07d6-109d-4356-93de-88a263e6314c",
   "metadata": {},
   "outputs": [
    {
     "name": "stdin",
     "output_type": "stream",
     "text": [
      " 3\n",
      " 3\n"
     ]
    },
    {
     "name": "stdout",
     "output_type": "stream",
     "text": [
      "111 12 21 3 \n",
      "\n",
      "4\n"
     ]
    }
   ],
   "source": [
    "# Take as input N, a number. N is the size of a snakes and ladder board (without any snakes and ladders). Take as input M, a number. M is the number of faces of the dice.\n",
    "\n",
    "# a. Write a recursive function which returns the count of different ways the board can be traveled using the dice. Print the value returned.\n",
    "\n",
    "# b. Write a recursive function which prints dice-values for all valid paths across the board (void is the return type for function).\n",
    "\n",
    "# Input Format\n",
    "# Enter a number N (size of the board) and number M(number of the faces of a dice)\n",
    "\n",
    "# Constraints\n",
    "# M<=100\n",
    "# N<=100\n",
    "# M^N <=10^9\n",
    "\n",
    "# Output Format\n",
    "# Display the number of paths and print all the paths in a space separated manner\n",
    "\n",
    "# Sample Input\n",
    "# 3\n",
    "# 3\n",
    "# Sample Output\n",
    "# 111 12 21 3 \n",
    "# 4\n",
    "\n",
    "\n",
    "n = int(input().strip())\n",
    "dice = int(input().strip())\n",
    "\n",
    "def broadpath(sum, dice, n, ans):\n",
    "    if sum == n:\n",
    "        print(ans, end=' ')\n",
    "        return 1\n",
    "    if sum > n:\n",
    "        return 0\n",
    "    count = 0\n",
    "    for i in range(1, dice+1):\n",
    "        count = count + broadpath(sum + i, dice, n, ans + str(i))\n",
    "    return count\n",
    "\n",
    "count = broadpath(0, dice, n, '')\n",
    "print('\\n')\n",
    "print(count)"
   ]
  },
  {
   "cell_type": "code",
   "execution_count": 5,
   "id": "32f94a7a-0307-4fbf-b297-2a46a38b68ab",
   "metadata": {},
   "outputs": [
    {
     "name": "stdin",
     "output_type": "stream",
     "text": [
      " 3\n"
     ]
    },
    {
     "name": "stdout",
     "output_type": "stream",
     "text": [
      "((()))\n",
      "(()())\n",
      "(())()\n",
      "()(())\n",
      "()()()\n"
     ]
    }
   ],
   "source": [
    "# Given an integer 'n'. Print all the possible pairs of 'n' balanced parentheses.\n",
    "# The output strings should be printed in the sorted order considering '(' has higher value than ')'.\n",
    "\n",
    "# Input Format\n",
    "# Single line containing an integral value 'n'.\n",
    "\n",
    "# Constraints\n",
    "# 1<=n<=11\n",
    "\n",
    "# Output Format\n",
    "# Print the balanced parentheses strings with every possible solution on new line.\n",
    "\n",
    "# Sample Input\n",
    "# 2\n",
    "# Sample Output\n",
    "# ()() \n",
    "# (()) \n",
    "\n",
    "def paren(op, cl, n, ans):\n",
    "    if op==n and cl==n:\n",
    "        print(ans)\n",
    "        return\n",
    "\n",
    "    if op> n or cl> n:\n",
    "        return\n",
    "\n",
    "\n",
    "    if cl<op:\n",
    "        paren(op, cl+1, n, ans+')')\n",
    "    paren(op+1, cl, n, ans+'(')\n",
    "\n",
    "n = int(input().strip())\n",
    "\n",
    "paren(0,0,n, '')\n",
    "        "
   ]
  },
  {
   "cell_type": "code",
   "execution_count": 41,
   "id": "4abe0a52-e1e1-4afe-8d34-94871d52cf7c",
   "metadata": {},
   "outputs": [
    {
     "name": "stdout",
     "output_type": "stream",
     "text": [
      "True\n"
     ]
    }
   ],
   "source": [
    "# linear search using recursion\n",
    "\n",
    "\n",
    "arr = [1,2,3,4,5,6,7,8,9,10]\n",
    "\n",
    "def linear_search(arr, index, target):\n",
    "    if index == len(arr):\n",
    "        return False\n",
    "    if arr[index] == target:\n",
    "        return True\n",
    "\n",
    "    return linear_search(arr, index+1, target)\n",
    "\n",
    "print(linear_search(arr, 0, 8))"
   ]
  },
  {
   "cell_type": "code",
   "execution_count": 4,
   "id": "10b7d35f-1946-4f1e-9695-de1bb3b0426e",
   "metadata": {},
   "outputs": [
    {
     "name": "stdin",
     "output_type": "stream",
     "text": [
      " 3\n"
     ]
    },
    {
     "name": "stdout",
     "output_type": "stream",
     "text": [
      "Moving ring 1 from A to B\n",
      "Moving ring 2 from A to C\n",
      "Moving ring 1 from B to C\n",
      "Moving ring 3 from A to B\n",
      "Moving ring 1 from C to A\n",
      "Moving ring 2 from C to B\n",
      "Moving ring 1 from A to B\n"
     ]
    }
   ],
   "source": [
    "# Tower of Hanoi\n",
    "\n",
    "n = int(input())\n",
    "\n",
    "def toh(n, source, dest, helper):\n",
    "    if n==0:\n",
    "        return\n",
    "\n",
    "    toh(n-1, source, helper, dest)\n",
    "    print(f'Moving ring {n} from {source} to {dest}')\n",
    "    toh(n-1, helper, dest, source)\n",
    "\n",
    "toh(n, 'A', 'B', 'C')\n",
    "    \n"
   ]
  },
  {
   "cell_type": "code",
   "execution_count": null,
   "id": "00b9e70f-e73d-4828-b4e6-95ba0df21749",
   "metadata": {},
   "outputs": [],
   "source": []
  },
  {
   "cell_type": "code",
   "execution_count": null,
   "id": "72a1dbf3-47d5-4895-9832-ae6d21c8df77",
   "metadata": {},
   "outputs": [],
   "source": []
  },
  {
   "cell_type": "code",
   "execution_count": null,
   "id": "4a7f1e69-0d75-4162-9e7e-398211197c9b",
   "metadata": {},
   "outputs": [],
   "source": []
  },
  {
   "cell_type": "code",
   "execution_count": null,
   "id": "c1a320da-73a6-4384-aa11-5549f269aeb7",
   "metadata": {},
   "outputs": [],
   "source": []
  },
  {
   "cell_type": "code",
   "execution_count": null,
   "id": "543570e8-88f4-4075-9be1-9215eea81fdf",
   "metadata": {},
   "outputs": [],
   "source": []
  },
  {
   "cell_type": "code",
   "execution_count": null,
   "id": "2e0c0f4c-d487-43f3-bc04-466153465d4b",
   "metadata": {},
   "outputs": [],
   "source": []
  },
  {
   "cell_type": "code",
   "execution_count": null,
   "id": "7dcc4a14-4dba-4457-9860-e3ae31c2dd4f",
   "metadata": {},
   "outputs": [],
   "source": []
  },
  {
   "cell_type": "code",
   "execution_count": null,
   "id": "cae62347-eadf-4ee6-bf18-2ee2704eeca3",
   "metadata": {},
   "outputs": [],
   "source": []
  }
 ],
 "metadata": {
  "kernelspec": {
   "display_name": "Python 3 (ipykernel)",
   "language": "python",
   "name": "python3"
  },
  "language_info": {
   "codemirror_mode": {
    "name": "ipython",
    "version": 3
   },
   "file_extension": ".py",
   "mimetype": "text/x-python",
   "name": "python",
   "nbconvert_exporter": "python",
   "pygments_lexer": "ipython3",
   "version": "3.12.1"
  }
 },
 "nbformat": 4,
 "nbformat_minor": 5
}
