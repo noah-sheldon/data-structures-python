{
 "cells": [
  {
   "cell_type": "code",
   "execution_count": 21,
   "id": "1aad6842-3ea2-46c6-a128-4f990b21bb74",
   "metadata": {},
   "outputs": [
    {
     "name": "stdin",
     "output_type": "stream",
     "text": [
      " aaabbccds\n"
     ]
    },
    {
     "name": "stdout",
     "output_type": "stream",
     "text": [
      "a3b2c2d1s1\n"
     ]
    }
   ],
   "source": [
    "# Take as input S, a string. Write a function that does basic string compression. Print the value returned. E.g. for input “aaabbccds” print out a3b2c2d1s1.\n",
    "\n",
    "# Input Format\n",
    "# A single String S\n",
    "\n",
    "# Constraints\n",
    "# 1 < = length of String < = 1000\n",
    "\n",
    "# Output Format\n",
    "# The compressed String.\n",
    "\n",
    "# Sample Input\n",
    "# aaabbccds\n",
    "# Sample Output\n",
    "# a3b2c2d1s1\n",
    "# Explanation\n",
    "# In the given sample test case 'a' is repeated 3 times consecutively, 'b' is repeated twice, 'c' is repeated twice and 'd and 's' occurred only once.\n",
    "\n",
    "s = input()\n",
    "res=[]\n",
    "cnt = 1\n",
    "alpha = s[0]\n",
    "\n",
    "for i in range(1,len(s)):\n",
    "\n",
    "    if s[i] ==s[i-1]:\n",
    "        cnt+=1\n",
    "    else:\n",
    "        res.append(f\"{alpha}{cnt}\")\n",
    "        cnt=1\n",
    "        alpha = s[i]\n",
    "res.append(f\"{alpha}{cnt}\")\n",
    "        \n",
    "print(''.join(res)) \n"
   ]
  },
  {
   "cell_type": "code",
   "execution_count": 29,
   "id": "f1720af3-12cd-4d1c-b4b1-04c7c3cedbc4",
   "metadata": {},
   "outputs": [
    {
     "name": "stdin",
     "output_type": "stream",
     "text": [
      " abcg\n"
     ]
    },
    {
     "name": "stdout",
     "output_type": "stream",
     "text": [
      "badf\n"
     ]
    }
   ],
   "source": [
    "# Take as input S, a string. Write a function that replaces every even character with the character having just higher ASCII code and every odd character with the character having just lower ASCII code. Print the value returned.\n",
    "\n",
    "# Input Format\n",
    "# String\n",
    "\n",
    "# Constraints\n",
    "# Length of string should be between 1 to 1000.\n",
    "\n",
    "# Output Format\n",
    "# String\n",
    "\n",
    "# Sample Input\n",
    "# abcg\n",
    "# Sample Output\n",
    "# badf\n",
    "s = input()\n",
    "res = []\n",
    "\n",
    "for i in range(len(s)):\n",
    "    if i%2 ==1:\n",
    "        res.append(chr(ord(s[i])-1))\n",
    "    else:\n",
    "        res.append(chr(ord(s[i])+1))\n",
    "\n",
    "print(''.join(res))"
   ]
  },
  {
   "cell_type": "code",
   "execution_count": null,
   "id": "332a89a7-bb3d-44e9-9894-c0942c2fd25e",
   "metadata": {},
   "outputs": [],
   "source": []
  }
 ],
 "metadata": {
  "kernelspec": {
   "display_name": "Python 3 (ipykernel)",
   "language": "python",
   "name": "python3"
  },
  "language_info": {
   "codemirror_mode": {
    "name": "ipython",
    "version": 3
   },
   "file_extension": ".py",
   "mimetype": "text/x-python",
   "name": "python",
   "nbconvert_exporter": "python",
   "pygments_lexer": "ipython3",
   "version": "3.12.1"
  }
 },
 "nbformat": 4,
 "nbformat_minor": 5
}
