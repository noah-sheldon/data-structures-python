{
 "cells": [
  {
   "cell_type": "code",
   "execution_count": 21,
   "id": "1aad6842-3ea2-46c6-a128-4f990b21bb74",
   "metadata": {},
   "outputs": [
    {
     "name": "stdin",
     "output_type": "stream",
     "text": [
      " aaabbccds\n"
     ]
    },
    {
     "name": "stdout",
     "output_type": "stream",
     "text": [
      "a3b2c2d1s1\n"
     ]
    }
   ],
   "source": [
    "# Take as input S, a string. Write a function that does basic string compression. Print the value returned. E.g. for input “aaabbccds” print out a3b2c2d1s1.\n",
    "\n",
    "# Input Format\n",
    "# A single String S\n",
    "\n",
    "# Constraints\n",
    "# 1 < = length of String < = 1000\n",
    "\n",
    "# Output Format\n",
    "# The compressed String.\n",
    "\n",
    "# Sample Input\n",
    "# aaabbccds\n",
    "# Sample Output\n",
    "# a3b2c2d1s1\n",
    "# Explanation\n",
    "# In the given sample test case 'a' is repeated 3 times consecutively, 'b' is repeated twice, 'c' is repeated twice and 'd and 's' occurred only once.\n",
    "\n",
    "s = input()\n",
    "res=[]\n",
    "cnt = 1\n",
    "alpha = s[0]\n",
    "\n",
    "for i in range(1,len(s)):\n",
    "\n",
    "    if s[i] ==s[i-1]:\n",
    "        cnt+=1\n",
    "    else:\n",
    "        res.append(f\"{alpha}{cnt}\")\n",
    "        cnt=1\n",
    "        alpha = s[i]\n",
    "res.append(f\"{alpha}{cnt}\")\n",
    "        \n",
    "print(''.join(res)) \n"
   ]
  },
  {
   "cell_type": "code",
   "execution_count": 29,
   "id": "f1720af3-12cd-4d1c-b4b1-04c7c3cedbc4",
   "metadata": {},
   "outputs": [
    {
     "name": "stdin",
     "output_type": "stream",
     "text": [
      " abcg\n"
     ]
    },
    {
     "name": "stdout",
     "output_type": "stream",
     "text": [
      "badf\n"
     ]
    }
   ],
   "source": [
    "# Take as input S, a string. Write a function that replaces every even character with the character having just higher ASCII code and every odd character with the character having just lower ASCII code. Print the value returned.\n",
    "\n",
    "# Input Format\n",
    "# String\n",
    "\n",
    "# Constraints\n",
    "# Length of string should be between 1 to 1000.\n",
    "\n",
    "# Output Format\n",
    "# String\n",
    "\n",
    "# Sample Input\n",
    "# abcg\n",
    "# Sample Output\n",
    "# badf\n",
    "s = input()\n",
    "res = []\n",
    "\n",
    "for i in range(len(s)):\n",
    "    if i%2 ==1:\n",
    "        res.append(chr(ord(s[i])-1))\n",
    "    else:\n",
    "        res.append(chr(ord(s[i])+1))\n",
    "\n",
    "print(''.join(res))"
   ]
  },
  {
   "cell_type": "code",
   "execution_count": 3,
   "id": "332a89a7-bb3d-44e9-9894-c0942c2fd25e",
   "metadata": {},
   "outputs": [
    {
     "name": "stdin",
     "output_type": "stream",
     "text": [
      " IAmACompetitiveProgrammer\n"
     ]
    },
    {
     "name": "stdout",
     "output_type": "stream",
     "text": [
      "I\n",
      "Am\n",
      "A\n",
      "Competitive\n",
      "Programmer\n"
     ]
    }
   ],
   "source": [
    "# One of the important aspect of object oriented programming is readability of the code. To enhance the readability of code, developers write function and variable names in Camel Case. You are given a string, S, written in Camel Case. FindAllTheWordsContainedInIt.\n",
    "\n",
    "# Input Format\n",
    "# A single line contains the string.\n",
    "\n",
    "# Constraints\n",
    "# |S|<=1000\n",
    "\n",
    "# Output Format\n",
    "# Print words present in the string, in the order in which it appears in the string.\n",
    "\n",
    "# Sample Input\n",
    "# IAmACompetitiveProgrammer\n",
    "# Sample Output\n",
    "# I\n",
    "# Am\n",
    "# A\n",
    "# Competitive\n",
    "# Programmer\n",
    "# Explanation\n",
    "# There are 5 words in the string.\n",
    "\n",
    "\n",
    "s = input()\n",
    "words = []\n",
    "\n",
    "for char in s:\n",
    "    if char.isupper():\n",
    "        words.append(char)\n",
    "    else:\n",
    "        words[-1]+=char\n",
    "\n",
    "for word in words:\n",
    "    print(word)"
   ]
  },
  {
   "cell_type": "code",
   "execution_count": 4,
   "id": "ffd830c5-a5a4-4bbb-ac88-2f46c99b7b8c",
   "metadata": {},
   "outputs": [
    {
     "name": "stdin",
     "output_type": "stream",
     "text": [
      " ABc\n"
     ]
    },
    {
     "name": "stdout",
     "output_type": "stream",
     "text": [
      "abC\n"
     ]
    }
   ],
   "source": [
    "# Take as input S, a string. Write a function that toggles the case of all characters in the string. Print the value returned.\n",
    "\n",
    "# Input Format\n",
    "# String\n",
    "\n",
    "# Constraints\n",
    "# Length of string should be between 1 to 1000.\n",
    "\n",
    "# Output Format\n",
    "# String\n",
    "\n",
    "# Sample Input\n",
    "# abC\n",
    "# Sample Output\n",
    "# ABc\n",
    "# Explanation\n",
    "# Toggle Case means to change UpperCase character to LowerCase character and vice-versa.\n",
    "\n",
    "\n",
    "s = input()\n",
    "result = ''\n",
    "\n",
    "for char in s:\n",
    "    if char.isupper():\n",
    "        result+=char.lower()\n",
    "    else:\n",
    "        result+=char.upper()\n",
    "\n",
    "print(result)"
   ]
  },
  {
   "cell_type": "code",
   "execution_count": 5,
   "id": "2f50ab0b-7115-4dcd-b6ad-5c4bc5a11c3d",
   "metadata": {},
   "outputs": [
    {
     "name": "stdin",
     "output_type": "stream",
     "text": [
      " aaabbccds\n"
     ]
    },
    {
     "name": "stdout",
     "output_type": "stream",
     "text": [
      "a3b2c2ds\n"
     ]
    }
   ],
   "source": [
    "\n",
    "s = input()\n",
    "res=[]\n",
    "cnt = 1\n",
    "alpha = s[0]\n",
    "\n",
    "for i in range(1,len(s)):\n",
    "\n",
    "    if s[i] ==s[i-1]:\n",
    "        cnt+=1\n",
    "    else:\n",
    "        if cnt !=1:\n",
    "            res.append(f\"{alpha}{cnt}\")\n",
    "        else:\n",
    "            res.append(f\"{alpha}\")\n",
    "        cnt=1\n",
    "        alpha = s[i]\n",
    "\n",
    "if cnt !=1:\n",
    "    res.append(f\"{alpha}{cnt}\")\n",
    "else:\n",
    "    res.append(f\"{alpha}\")\n",
    "        \n",
    "print(''.join(res)) "
   ]
  },
  {
   "cell_type": "code",
   "execution_count": 8,
   "id": "66ab98f1-b2bd-46b8-9d73-ea0ed73a9ba5",
   "metadata": {},
   "outputs": [
    {
     "name": "stdin",
     "output_type": "stream",
     "text": [
      " acb\n"
     ]
    },
    {
     "name": "stdout",
     "output_type": "stream",
     "text": [
      "a2c-1b\n"
     ]
    }
   ],
   "source": [
    "# Take as input S, a string. Write a program that inserts between each pair of characters the difference between their ascii codes and print the ans.\n",
    "\n",
    "# Input Format\n",
    "# String\n",
    "\n",
    "# Constraints\n",
    "# Length of String should be between 2 to 1000.\n",
    "\n",
    "# Output Format\n",
    "# String\n",
    "\n",
    "# Sample Input\n",
    "# acb\n",
    "# Sample Output\n",
    "# a2c-1b\n",
    "# Explanation\n",
    "# For the sample case, the Ascii code of a=97 and c=99 ,the difference between c and a is 2.Similarly ,the Ascii code of b=98 and c=99 and their difference is -1. So the ans is a2c-1b.\n",
    "\n",
    "\n",
    "s = input()\n",
    "res = ''\n",
    "\n",
    "for i in range(len(s)-1):\n",
    "    if i==0:\n",
    "        res+= f'{s[i]}{ord(s[i+1]) - ord(s[i])}{s[i+1]}'\n",
    "    else:\n",
    "        res+= f'{ord(s[i+1]) - ord(s[i])}{s[i+1]}'\n",
    "\n",
    "print(res)"
   ]
  },
  {
   "cell_type": "code",
   "execution_count": 9,
   "id": "3b192a25-07e8-46fc-8520-cfbf75086e99",
   "metadata": {},
   "outputs": [
    {
     "name": "stdin",
     "output_type": "stream",
     "text": [
      " cbaeicde\n"
     ]
    },
    {
     "name": "stdout",
     "output_type": "stream",
     "text": [
      "3\n"
     ]
    }
   ],
   "source": [
    "# A Good String is a string which contains only vowels (a,e,i,o,u) . Given a string S, print a single positive integer N where N is the length of the longest substring of S that is also a Good String.\n",
    "\n",
    "# Note: The time limit for this problem is 1 second, so you need to be clever in how you compute the substrings.\n",
    "\n",
    "# Input Format\n",
    "# A string 'S'\n",
    "\n",
    "# Constraints\n",
    "# Length of string < 10^5\n",
    "\n",
    "# Output Format\n",
    "# A single positive integer N, where N is the length of the longest sub-string of S that is also a Good String.\n",
    "\n",
    "# Sample Input\n",
    "# cbaeicde\n",
    "# Sample Output\n",
    "# 3\n",
    "# Explanation\n",
    "# Longest good substring is \"aei\"\n",
    "\n",
    "s = input()\n",
    "max_len = 0\n",
    "curr = 0\n",
    "\n",
    "for char in s:\n",
    "    \n",
    "    if char in ['a', 'e', 'i','o', 'u']:\n",
    "        curr +=1\n",
    "    else:\n",
    "        if curr>max_len:\n",
    "            max_len = curr\n",
    "        curr = 0\n",
    "if curr>max_len:\n",
    "    max_len = curr\n",
    "\n",
    "print(max_len)\n",
    "    "
   ]
  },
  {
   "cell_type": "code",
   "execution_count": 15,
   "id": "020491e0-1a66-4c7f-8290-c227cd2a357e",
   "metadata": {},
   "outputs": [
    {
     "name": "stdin",
     "output_type": "stream",
     "text": [
      " 1\n",
      " 4\n",
      " 54 546 548 60\n"
     ]
    },
    {
     "data": {
      "text/plain": [
       "'6054854654'"
      ]
     },
     "execution_count": 15,
     "metadata": {},
     "output_type": "execute_result"
    }
   ],
   "source": [
    "# You are provided an array of numbers. You need to arrange them in a way that yields the largest value.\n",
    "\n",
    "# Input Format\n",
    "# First line contains integer t which is number of test case.\n",
    "# For each test case, you are given a single integer n in the first line which is the size of array A[] and next line contains n space separated integers denoting the elements of the array A .\n",
    "\n",
    "# Constraints\n",
    "# 1<=t<=100\n",
    "\n",
    "# 1<=m<=100\n",
    "\n",
    "# 1<=A[i]<=10^5\n",
    "\n",
    "# Output Format\n",
    "# Print the largest value.\n",
    "\n",
    "# Sample Input\n",
    "# 1\n",
    "# 4\n",
    "# 54 546 548 60\n",
    "# Sample Output\n",
    "# 6054854654\n",
    "# Explanation\n",
    "# Upon rearranging the elements of the array , 6054854654 is the largest possible number that can be generated.\n",
    "\n",
    "\n",
    "t = int(input().strip())\n",
    "for _ in range(t):\n",
    "    n = int(input().strip())\n",
    "    arr = [int(x) for x in input().split()]\n",
    "    arr = list(map(str, arr))\n",
    "    arr.sort(key=lambda x: x*10, reverse=True)\n",
    "\n",
    "''.join(arr)"
   ]
  },
  {
   "cell_type": "code",
   "execution_count": 16,
   "id": "1940d978-aaa1-4b4f-8b34-1cf012c497df",
   "metadata": {},
   "outputs": [
    {
     "name": "stdin",
     "output_type": "stream",
     "text": [
      " aabccba\n"
     ]
    },
    {
     "name": "stdout",
     "output_type": "stream",
     "text": [
      "abcba\n"
     ]
    }
   ],
   "source": [
    "# Take as input S, a string. Write a function that removes all consecutive duplicates. Print the value returned.\n",
    "\n",
    "# Input Format\n",
    "# String\n",
    "\n",
    "# Constraints\n",
    "# A string of length between 1 to 1000\n",
    "\n",
    "# Output Format\n",
    "# String\n",
    "\n",
    "# Sample Input\n",
    "# aabccba\n",
    "# Sample Output\n",
    "# abcba\n",
    "# Explanation\n",
    "# For the given example, \"aabccba\", Consecutive Occurrence of a is 2, b is 1, and c is 2.\n",
    "\n",
    "# After removing all of the consecutive occurences, the Final ans will be : - \"abcba\".\n",
    "\n",
    "\n",
    "\n",
    "s = input()\n",
    "\n",
    "result = s[0]\n",
    "\n",
    "for i in range(1, len(s)):\n",
    "    if s[i] != result[-1]:\n",
    "        result+=s[i]\n",
    "\n",
    "print(result)\n",
    " "
   ]
  },
  {
   "cell_type": "code",
   "execution_count": 22,
   "id": "96b602fd-90ed-4acc-a13a-03f52f6a034e",
   "metadata": {},
   "outputs": [
    {
     "name": "stdin",
     "output_type": "stream",
     "text": [
      " sfandknasd\n"
     ]
    },
    {
     "name": "stdout",
     "output_type": "stream",
     "text": [
      "false\n"
     ]
    }
   ],
   "source": [
    "#palindrome\n",
    "\n",
    "s = input()\n",
    "\n",
    "i = 0\n",
    "j = len(s)-1\n",
    "result = ''\n",
    "\n",
    "while(i<=j):\n",
    "    if s[i] != s[j]:\n",
    "        result = 'false'\n",
    "        break\n",
    "    i+=1\n",
    "    j-=1\n",
    "\n",
    "if result:\n",
    "    print(result)\n",
    "else:\n",
    "    print('true')\n",
    "    "
   ]
  },
  {
   "cell_type": "code",
   "execution_count": 25,
   "id": "1d6b46e2-3278-4d6e-9c53-811633b0779a",
   "metadata": {},
   "outputs": [
    {
     "name": "stdin",
     "output_type": "stream",
     "text": [
      " aaabacb\n"
     ]
    },
    {
     "data": {
      "text/plain": [
       "'a'"
      ]
     },
     "execution_count": 25,
     "metadata": {},
     "output_type": "execute_result"
    }
   ],
   "source": [
    "# Take as input S, a string. Write a function that returns the character with maximum frequency. Print the value returned.\n",
    "\n",
    "# Input Format\n",
    "# String\n",
    "\n",
    "# Constraints\n",
    "# A string of length between 1 to 1000.\n",
    "\n",
    "# Output Format\n",
    "# Character\n",
    "\n",
    "# Sample Input\n",
    "# aaabacb\n",
    "# Sample Output\n",
    "# a\n",
    "# Explanation\n",
    "# For the given input string, a appear 4 times. Hence, it is the most frequent character.\n",
    "\n",
    "freq = [0] * 26\n",
    "\n",
    "s = input()\n",
    "\n",
    "for char in s:\n",
    "    index = ord(char) - ord('a')\n",
    "    freq[index]+=1\n",
    "\n",
    "print(chr(freq.index(max(freq)) + ord('a')))"
   ]
  },
  {
   "cell_type": "code",
   "execution_count": 26,
   "id": "ba3a8fbd-69a0-4389-ae51-0dc19bf398a2",
   "metadata": {},
   "outputs": [
    {
     "name": "stdin",
     "output_type": "stream",
     "text": [
      " abc\n"
     ]
    },
    {
     "name": "stdout",
     "output_type": "stream",
     "text": [
      "1\n"
     ]
    }
   ],
   "source": [
    "# Take as input S, a string. Write a program that gives the count of substrings of this string which are palindromes and Print the ans.\n",
    "\n",
    "# Input Format\n",
    "# Single line input containing a string\n",
    "\n",
    "# Constraints\n",
    "# Length of string is between 1 to 1000.\n",
    "\n",
    "# Output Format\n",
    "# Integer output showing the number of palindromic substrings.\n",
    "\n",
    "# Sample Input\n",
    "# abc\n",
    "# Sample Output\n",
    "# 3\n",
    "# Explanation\n",
    "# For the given sample case , the palindromic substrings of the string abc are \"a\",\"b\" and \"c\".So, the ans is 3.\n",
    "s = input()\n",
    "\n",
    "i = 0\n",
    "j = len(s)-1\n",
    "result = 0\n",
    "\n",
    "while(i<=j):\n",
    "    if s[i] != s[j]:\n",
    "        result+=1\n",
    "    i+=1\n",
    "    j-=1\n",
    "\n",
    "print(result)\n"
   ]
  },
  {
   "cell_type": "code",
   "execution_count": null,
   "id": "184de610-3027-4b91-b895-91bc95f84923",
   "metadata": {},
   "outputs": [],
   "source": []
  }
 ],
 "metadata": {
  "kernelspec": {
   "display_name": "Python 3 (ipykernel)",
   "language": "python",
   "name": "python3"
  },
  "language_info": {
   "codemirror_mode": {
    "name": "ipython",
    "version": 3
   },
   "file_extension": ".py",
   "mimetype": "text/x-python",
   "name": "python",
   "nbconvert_exporter": "python",
   "pygments_lexer": "ipython3",
   "version": "3.12.1"
  }
 },
 "nbformat": 4,
 "nbformat_minor": 5
}
