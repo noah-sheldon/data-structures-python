{
 "cells": [
  {
   "cell_type": "code",
   "execution_count": 2,
   "id": "1309db30-94a4-4641-8e57-67cd3bebe7e3",
   "metadata": {},
   "outputs": [
    {
     "name": "stdin",
     "output_type": "stream",
     "text": [
      " 2645\n"
     ]
    },
    {
     "name": "stdout",
     "output_type": "stream",
     "text": [
      "11\n",
      "6\n"
     ]
    }
   ],
   "source": [
    "# Take N as input. Print the sum of its odd placed digits and sum of its even placed digits.\n",
    "\n",
    "# Input Format\n",
    "# Constraints\n",
    "# 0 < N <= 1000000000\n",
    "\n",
    "# Output Format\n",
    "# Sample Input\n",
    "# 2635\n",
    "# Sample Output\n",
    "# 11\n",
    "# 5\n",
    "# Explanation\n",
    "# 5 is present at 1st position, 3 is present at 2nd position, 6 is present at 3rd position and 2 is present at 4th position.\n",
    "\n",
    "# Sum of odd placed digits on first line. 5 and 6 are placed at odd position. Hence odd place sum is 5+6=11\n",
    "\n",
    "# Sum of even placed digits on second line. 3 and 2 are placed at even position. Hence even place sum is 3+2=5\n",
    "\n",
    "count=1\n",
    "n=int(input())\n",
    "odd=0\n",
    "even=0\n",
    "\n",
    "while(n>0):\n",
    "    rem=n%10\n",
    "    if count%2==1:\n",
    "        odd+=rem\n",
    "    else:\n",
    "        even+=rem\n",
    "    n=n//10\n",
    "    count+=1\n",
    "\n",
    "print(odd)\n",
    "print(even)"
   ]
  },
  {
   "cell_type": "code",
   "execution_count": 3,
   "id": "d093db0d-85e8-4327-9816-b8b2c3491be8",
   "metadata": {},
   "outputs": [
    {
     "name": "stdin",
     "output_type": "stream",
     "text": [
      " 546792333243\n",
      " 3\n"
     ]
    },
    {
     "name": "stdout",
     "output_type": "stream",
     "text": [
      "4\n"
     ]
    }
   ],
   "source": [
    "# Take the following as input.\n",
    "# A number\n",
    "# A digit\n",
    "# Write a function that returns the number of times digit is found in the number. Print the value returned.\n",
    "\n",
    "# Input Format\n",
    "# Integer (A number) Integer (A digit)\n",
    "\n",
    "# Constraints\n",
    "# 0 <= N <= 1000000000 0 <= Digit <= 9\n",
    "\n",
    "# Output Format\n",
    "# Integer (count of times digit occurs in the number)\n",
    "\n",
    "# Sample Input\n",
    "# 5433231 \n",
    "# 3\n",
    "# Sample Output\n",
    "# 3\n",
    "# Explanation\n",
    "# The digit can be from 0 to 9. Assume decimal numbers.In the given case digit 3 is occurring 3 times in the given number.\n",
    "\n",
    "n=int(input())\n",
    "num=int(input())\n",
    "\n",
    "count=0\n",
    "\n",
    "while(n>0):\n",
    "    rem=n%10\n",
    "    if rem==num:\n",
    "        count+=1\n",
    "    n=n//10\n",
    "print(count)"
   ]
  },
  {
   "cell_type": "code",
   "execution_count": 4,
   "id": "bf01e339-9569-4064-869d-fbfe902d9cc5",
   "metadata": {},
   "outputs": [
    {
     "name": "stdin",
     "output_type": "stream",
     "text": [
      " 987654321\n"
     ]
    },
    {
     "name": "stdout",
     "output_type": "stream",
     "text": [
      "123456789\n"
     ]
    }
   ],
   "source": [
    "# Take N as input, Calculate it's reverse also Print the reverse.\n",
    "\n",
    "# Input Format\n",
    "# Constraints\n",
    "# 0 <= N <= 1000000000\n",
    "\n",
    "# Output Format\n",
    "# Sample Input\n",
    "# 123456789\n",
    "# Sample Output\n",
    "# 987654321\n",
    "# Explanation\n",
    "# You've to calculate the reverse in a number, not just print the reverse.\n",
    "\n",
    "n=int(input())\n",
    "rev=0\n",
    "while(n>0):\n",
    "    rem=n%10\n",
    "    rev= rev*10+rem\n",
    "    n=n//10\n",
    "print(rev)"
   ]
  },
  {
   "cell_type": "code",
   "execution_count": 12,
   "id": "ae4efc31-cee5-4fbf-b393-13d35baa8688",
   "metadata": {},
   "outputs": [
    {
     "name": "stdin",
     "output_type": "stream",
     "text": [
      " 2797\n"
     ]
    },
    {
     "name": "stdout",
     "output_type": "stream",
     "text": [
      "Prime\n"
     ]
    }
   ],
   "source": [
    "# Check prime or not\n",
    "import math\n",
    "n=int(input())\n",
    "\n",
    "for i in range(2,int(math.sqrt(n+1))):\n",
    "    if n%i==0:\n",
    "        print(\"Not Prime\")\n",
    "        break\n",
    "else:\n",
    "    print(\"Prime\")"
   ]
  },
  {
   "cell_type": "code",
   "execution_count": 15,
   "id": "d538679d-9675-4d85-98cd-7d806ee48b9a",
   "metadata": {},
   "outputs": [
    {
     "name": "stdin",
     "output_type": "stream",
     "text": [
      " 101010\n"
     ]
    },
    {
     "name": "stdout",
     "output_type": "stream",
     "text": [
      "42\n"
     ]
    }
   ],
   "source": [
    "# binary to decimal\n",
    "\n",
    "n=int(input())\n",
    "res=0\n",
    "count=0\n",
    "while(n>0):\n",
    "    rem=n%10\n",
    "    res+=rem*(2**count)\n",
    "    count+=1\n",
    "    n=n//10\n",
    "print(res)"
   ]
  },
  {
   "cell_type": "code",
   "execution_count": 17,
   "id": "20187668-0ec0-42ed-bfb9-22f4c153dcc8",
   "metadata": {},
   "outputs": [
    {
     "name": "stdin",
     "output_type": "stream",
     "text": [
      " 2\n"
     ]
    },
    {
     "name": "stdout",
     "output_type": "stream",
     "text": [
      "2\n"
     ]
    },
    {
     "name": "stdin",
     "output_type": "stream",
     "text": [
      " 3\n"
     ]
    },
    {
     "name": "stdout",
     "output_type": "stream",
     "text": [
      "3\n"
     ]
    },
    {
     "name": "stdin",
     "output_type": "stream",
     "text": [
      " -100\n"
     ]
    }
   ],
   "source": [
    "#Print until cumulative sum is -ve\n",
    "\n",
    "res=0\n",
    "while(res>=0):\n",
    "    n=int(input())\n",
    "    res+=n\n",
    "    if res<0:\n",
    "        break\n",
    "    else:\n",
    "        print(n)\n",
    "\n"
   ]
  },
  {
   "cell_type": "code",
   "execution_count": null,
   "id": "75f14157-1e3f-4001-8544-96ad7d1e03d8",
   "metadata": {},
   "outputs": [],
   "source": []
  }
 ],
 "metadata": {
  "kernelspec": {
   "display_name": "Python 3 (ipykernel)",
   "language": "python",
   "name": "python3"
  },
  "language_info": {
   "codemirror_mode": {
    "name": "ipython",
    "version": 3
   },
   "file_extension": ".py",
   "mimetype": "text/x-python",
   "name": "python",
   "nbconvert_exporter": "python",
   "pygments_lexer": "ipython3",
   "version": "3.12.1"
  }
 },
 "nbformat": 4,
 "nbformat_minor": 5
}
