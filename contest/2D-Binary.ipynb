{
 "cells": [
  {
   "cell_type": "code",
   "execution_count": 15,
   "id": "a8e61b15-2858-4650-8022-52fc4ebbf4f6",
   "metadata": {},
   "outputs": [
    {
     "name": "stdout",
     "output_type": "stream",
     "text": [
      "[[11, 12, 13, 14], [21, 22, 23, 24], [31, 32, 33, 34], [41, 42, 43, 44]]\n",
      "11, 21, 31, 41, 42, 43, 44, 34, 24, 14, 13, 12, 22, 32, 33, 23, END\n"
     ]
    }
   ],
   "source": [
    "#array sprial print anticlockwise\n",
    "\n",
    "row_col = [int(x) for x in input().split()]\n",
    "arr=[]\n",
    "\n",
    "for i in range(row_col[0]):\n",
    "    arr.append([int(x) for x in input().split()])\n",
    "\n",
    "# print(arr)\n",
    "# row_col = [4, 4]\n",
    "# arr = [[11,12,13,14],[21,22,23,24],[31,32,33,34],[41,42,43,44]]\n",
    "\n",
    "\n",
    "# k - starting row index\n",
    "# m - ending row index\n",
    "# l - starting column index\n",
    "# n - ending column index\n",
    "# i - iterator \n",
    "\n",
    "m,n = row_col[0], row_col[1]\n",
    "k,l =0,0\n",
    "cnt = 0 \n",
    "total = m*n\n",
    "while(k<m and l<n):\n",
    "    if cnt == total:\n",
    "        break\n",
    "    for row in range(k,m):\n",
    "        print(arr[row][l],end=\", \")\n",
    "        cnt+=1\n",
    "    l+=1\n",
    "    if cnt==total:\n",
    "        break\n",
    "    for col in range(l,n):\n",
    "        print(arr[m-1][col],end=\", \")\n",
    "        cnt+=1\n",
    "    m-=1\n",
    "    if cnt==total:\n",
    "        break\n",
    "    if k<m:    \n",
    "        for row in range(m-1, k-1, -1):\n",
    "            print(arr[row][n-1],end=\", \")\n",
    "            cnt+=1\n",
    "        n-=1\n",
    "    if cnt==total:\n",
    "        break\n",
    "\n",
    "    if l<n:\n",
    "        for col in range(n-1, l-1, -1):\n",
    "            print(arr[k][col], end=\", \")\n",
    "            cnt+=1\n",
    "        k+=1\n",
    "    if cnt==total:\n",
    "        break\n",
    "print(\"END\")\n",
    "        \n",
    "        \n",
    "        \n",
    "        \n",
    "        \n",
    "    "
   ]
  },
  {
   "cell_type": "code",
   "execution_count": 20,
   "id": "75f5c9c8-924a-4cb3-9984-05c7f87ca050",
   "metadata": {},
   "outputs": [
    {
     "name": "stdout",
     "output_type": "stream",
     "text": [
      "[[11, 12, 13, 14], [21, 22, 23, 24], [31, 32, 33, 34], [41, 42, 43, 44]]\n",
      "11, 21, 31, 41, 42, 32, 22, 12, 13, 23, 33, 43, 44, 34, 24, 14, END\n"
     ]
    }
   ],
   "source": [
    "#columnswise print\n",
    "\n",
    "# row_col = [4, 4]\n",
    "# arr = [[11,12,13,14],[21,22,23,24],[31,32,33,34],[41,42,43,44]]\n",
    "\n",
    "row_col = [int(x) for x in input().split()]\n",
    "arr=[]\n",
    "\n",
    "for i in range(row_col[0]):\n",
    "    arr.append([int(x) for x in input().split()])\n",
    "    \n",
    "for col in range(row_col[1]):\n",
    "    if col%2 ==0:\n",
    "        for row in range(row_col[0]):\n",
    "            print(arr[row][col],end=\", \")\n",
    "    else:\n",
    "        for row in range(row_col[0]-1,-1,-1):\n",
    "            print(arr[row][col],end=\", \")\n",
    "print(\"END\")"
   ]
  },
  {
   "cell_type": "code",
   "execution_count": null,
   "id": "4ff59fea-e945-4e07-a324-ec2b28eda7f9",
   "metadata": {},
   "outputs": [],
   "source": [
    "#Matrix search\n",
    "\n",
    "# row_col = [4, 4]\n",
    "# arr = [[11,12,13,14],[21,22,23,24],[31,32,33,34],[41,42,43,44]]\n",
    "\n",
    "\n",
    "row_col = [int(x) for x in input().split()]\n",
    "arr=[]\n",
    "\n",
    "for i in range(row_col[0]):\n",
    "    arr.append([int(x) for x in input().split()])\n",
    "\n",
    "target = int(input())\n",
    "\n",
    "for i in range(row_col[0]):\n",
    "    for j in range(row_col[1]):\n",
    "        if arr[i][j]==target:\n",
    "            print(1)\n",
    "\n",
    "print(0)"
   ]
  },
  {
   "cell_type": "code",
   "execution_count": 7,
   "id": "f09d59f5-e62f-450a-bf5d-3e415399ba18",
   "metadata": {},
   "outputs": [
    {
     "name": "stdin",
     "output_type": "stream",
     "text": [
      " 3\n",
      " 1 2 3\n",
      " 4 5 6\n",
      " 7 8 9\n"
     ]
    },
    {
     "name": "stdout",
     "output_type": "stream",
     "text": [
      "[[1, 4, 7], [2, 5, 8], [3, 6, 9]]\n"
     ]
    }
   ],
   "source": [
    "#Transpose matrix\n",
    "\n",
    "row_col = int(input())\n",
    "arr=[]\n",
    "\n",
    "for i in range(row_col):\n",
    "    arr.append([int(x) for x in input().split()])\n",
    "\n",
    "\n",
    "for i in range(row_col):\n",
    "    for j in range(i+1,row_col):\n",
    "        arr[i][j], arr[j][i] = arr[j][i], arr[i][j]\n",
    "print(arr)"
   ]
  },
  {
   "cell_type": "code",
   "execution_count": 4,
   "id": "5ee9d534-3090-4b7f-8659-4dca15e4a2b2",
   "metadata": {},
   "outputs": [
    {
     "name": "stdout",
     "output_type": "stream",
     "text": [
      "[[1, 2], [3, 4]]\n"
     ]
    }
   ],
   "source": [
    "print(arr)"
   ]
  },
  {
   "cell_type": "code",
   "execution_count": 10,
   "id": "3918147a-4f6e-406f-95ae-40c2505e9204",
   "metadata": {},
   "outputs": [
    {
     "name": "stdin",
     "output_type": "stream",
     "text": [
      " 3\n",
      " 1 2 3\n",
      " 4 5 6\n",
      " 7 8 9\n"
     ]
    },
    {
     "name": "stdout",
     "output_type": "stream",
     "text": [
      "3 6 9 \n",
      "\n",
      "2 5 8 \n",
      "\n",
      "1 4 7 \n",
      "\n"
     ]
    }
   ],
   "source": [
    "#Rotate image\n",
    "\n",
    "row_col = int(input())\n",
    "arr=[]\n",
    "\n",
    "for i in range(row_col):\n",
    "    arr.append([int(x) for x in input().split()])\n",
    "\n",
    "\n",
    "def reverse(arr):\n",
    "    i=0\n",
    "    j=len(arr)-1\n",
    "    while(i<j):\n",
    "        arr[i],arr[j] = arr[j],arr[i]\n",
    "        j-=1\n",
    "        i+=1\n",
    "    return arr\n",
    "\n",
    "for ar in arr:\n",
    "    ar = reverse(ar)\n",
    "\n",
    "for i in range(row_col):\n",
    "    for j in range(i+1, row_col):\n",
    "        arr[i][j], arr[j][i] = arr[j][i], arr[i][j]\n",
    "\n",
    "for i in range(row_col):\n",
    "    for j in range( row_col):\n",
    "        print(arr[i][j], end=\" \")\n",
    "    print(\"\\n\")"
   ]
  },
  {
   "cell_type": "code",
   "execution_count": 12,
   "id": "3c62284e-1882-47cb-b3b9-b6b3f4ef22f4",
   "metadata": {},
   "outputs": [
    {
     "name": "stdin",
     "output_type": "stream",
     "text": [
      " 3 3\n",
      " 7 6 4\n",
      " 7 6 5\n",
      " 6 5 4\n"
     ]
    },
    {
     "name": "stdout",
     "output_type": "stream",
     "text": [
      "4 6 7 \n",
      "\n",
      "5 6 7 \n",
      "\n",
      "4 5 6 \n",
      "\n"
     ]
    }
   ],
   "source": [
    "#row wise sort\n",
    "\n",
    "\n",
    "row_col = [int(x) for x in input().split()]\n",
    "arr=[]\n",
    "\n",
    "for i in range(row_col[0]):\n",
    "    arr.append([int(x) for x in input().split()])\n",
    "\n",
    "\n",
    "for ar in arr:\n",
    "    ar.sort()\n",
    "\n",
    "\n",
    "for i in range(row_col[0]):\n",
    "    for j in range( row_col[1]):\n",
    "        print(arr[i][j], end=\" \")\n",
    "    print(\"\\n\")"
   ]
  },
  {
   "cell_type": "code",
   "execution_count": 16,
   "id": "9cc08c0a-419c-4dcc-b59a-cb1f06d4d9ac",
   "metadata": {},
   "outputs": [
    {
     "name": "stdin",
     "output_type": "stream",
     "text": [
      " 3\n",
      " 1 0 0\n",
      " 2 3 0\n",
      " 4 5 8\n"
     ]
    },
    {
     "name": "stdout",
     "output_type": "stream",
     "text": [
      "true\n"
     ]
    }
   ],
   "source": [
    "# Pragya and Pranjal are sisters, and they love to watch reels and YouTube shorts the whole day on their mobile phones. One blue day their mummy scolded them and threw their phones into the fire. They were getting bored after this incident because nothing exciting was happening in their lives. Their mummy motivated them to learn a programming language, and due to her highly motivational speech, Pragya and Pranjal picked up a coding question. The task is to print true if elements of the square matrix make the lower triangular, otherwise print false.\n",
    "# However, they don't know any programming language but you do. Now it's your task to write code for this problem.\n",
    "\n",
    "# Input Format\n",
    "# First line contains N, size of the matrix Next N lines contains N integers each denoting the matrix elements.\n",
    "\n",
    "# Constraints\n",
    "# 4 <= N <= 100\n",
    "\n",
    "# Output Format\n",
    "# Print \"true\" or \"false\" (without the quotes).\n",
    "\n",
    "# Sample Input\n",
    "# 4\n",
    "# 374 0 0 0 \n",
    "# 761 60 0 0 \n",
    "# 578 531 878 0 \n",
    "# 75 10 197 198 \n",
    "# Sample Output\n",
    "# true\n",
    "\n",
    "\n",
    "\n",
    "row_col = int(input())\n",
    "arr=[]\n",
    "\n",
    "for i in range(row_col):\n",
    "    arr.append([int(x) for x in input().split()])\n",
    "\n",
    "result = \"true\"\n",
    "\n",
    "for i in range(row_col):\n",
    "    for j in range(i+1, row_col):\n",
    "        if arr[i][j] !=0:\n",
    "            result = 'false'\n",
    "\n",
    "print(result)\n",
    "\n",
    "\n"
   ]
  },
  {
   "cell_type": "code",
   "execution_count": 26,
   "id": "f42682b2-a9ad-4fa8-87d7-4c377c5fb2bf",
   "metadata": {},
   "outputs": [
    {
     "name": "stdin",
     "output_type": "stream",
     "text": [
      " 3\n",
      " 1 2 3\n",
      " 4 5 6\n",
      " 7 8 9\n"
     ]
    },
    {
     "name": "stdout",
     "output_type": "stream",
     "text": [
      "0\n",
      "0\n",
      "1\n",
      "1 2 3 \n",
      "\n",
      "0 5 6 \n",
      "\n",
      "0 0 9 \n",
      "\n"
     ]
    }
   ],
   "source": [
    "# You are given a 2-D array and you have to print the elements of upper triangle as it is and zero in the lower triangle.\n",
    "\n",
    "# Input Format\n",
    "# First line of the input contains single integers n denoting number of rows and number of columns. Take next n*n elements as input of the matrix.\n",
    "\n",
    "# Constraints\n",
    "# 0<n<=100 -10000<=arr[i]<=10000\n",
    "\n",
    "# Output Format\n",
    "# The upper half of array with digits and lower as 0.\n",
    "\n",
    "# Sample Input\n",
    "# 3\n",
    "# 1 2 3\n",
    "# 4 5 6\n",
    "# 7 8 9\n",
    "# Sample Output\n",
    "# 1 2 3\n",
    "# 0 5 6\n",
    "# 0 0 9\n",
    "\n",
    "\n",
    "row_col = int(input())\n",
    "arr=[]\n",
    "\n",
    "for i in range(row_col):\n",
    "    arr.append([int(x) for x in input().split()])\n",
    "\n",
    "\n",
    "for row in range(row_col):\n",
    "    for col in range(row):\n",
    "        arr[row][col] = 0\n",
    "        \n",
    "\n",
    "\n",
    "for i in range(row_col):\n",
    "    for j in range( row_col):\n",
    "        print(arr[i][j], end=\" \")\n",
    "    print(\"\\n\")\n",
    "\n"
   ]
  },
  {
   "cell_type": "code",
   "execution_count": 27,
   "id": "2a41a7a2-6002-4e62-80cf-fac602e976cc",
   "metadata": {},
   "outputs": [
    {
     "name": "stdin",
     "output_type": "stream",
     "text": [
      " 3\n",
      " 1 2 3\n",
      " 4 5 6\n",
      " 7 8 9\n"
     ]
    }
   ],
   "source": [
    "# Given a N*N matrix. The task is to find the index of column with maximum sum. That is the column whose sum of elements are maximum.\n",
    "\n",
    "# Input Format\n",
    "# First line contains the N ,size of the square matrix. Next N lines contains N integers each denoting the elements of the matrix\n",
    "\n",
    "# Constraints\n",
    "# Output Format\n",
    "# Print N lines each containing N elements. These are the elements of the new matrix.\n",
    "\n",
    "# Sample Input\n",
    "# 7\n",
    "# 90 40 1 3 39 59 90 \n",
    "# 48 72 67 32 73 19 27 \n",
    "# 22 37 47 68 1 5 55 \n",
    "# 81 5 39 53 38 86 21 \n",
    "# 1 32 7 44 2 65 47 \n",
    "# 68 13 24 28 69 81 43 \n",
    "# 16 34 67 3 82 26 35 \n",
    "# Sample Output\n",
    "# 6 341\n",
    "# Explanation\n",
    "# 6th column has the highest sum that is 341.\n",
    "\n",
    "\n",
    "row_col = int(input())\n",
    "arr=[]\n",
    "\n",
    "for i in range(row_col):\n",
    "    arr.append([int(x) for x in input().split()])\n",
    "\n",
    "sums = float('-inf')\n",
    "col_res = 0\n",
    "\n",
    "for col in range(row_col):\n",
    "    sum=0\n",
    "    for row in range(row_col):\n",
    "        sum+=arr[row][col]\n",
    "    if sum > sums:\n",
    "        sums = sum\n",
    "        col_res = col\n",
    "        \n",
    "print(col_res,end=\" \")\n",
    "print(sums,end=\" \")       \n",
    "\n"
   ]
  },
  {
   "cell_type": "code",
   "execution_count": 29,
   "id": "d89e020f-dd4c-45ab-b27b-161e4ed6f55e",
   "metadata": {},
   "outputs": [
    {
     "name": "stdout",
     "output_type": "stream",
     "text": [
      "2 18 "
     ]
    }
   ],
   "source": [
    "print(col_res,end=\" \")\n",
    "print(sums,end=\" \")"
   ]
  },
  {
   "cell_type": "code",
   "execution_count": null,
   "id": "826918c9-37f0-4316-bd85-df775273a0ea",
   "metadata": {},
   "outputs": [],
   "source": []
  }
 ],
 "metadata": {
  "kernelspec": {
   "display_name": "Python 3 (ipykernel)",
   "language": "python",
   "name": "python3"
  },
  "language_info": {
   "codemirror_mode": {
    "name": "ipython",
    "version": 3
   },
   "file_extension": ".py",
   "mimetype": "text/x-python",
   "name": "python",
   "nbconvert_exporter": "python",
   "pygments_lexer": "ipython3",
   "version": "3.12.1"
  }
 },
 "nbformat": 4,
 "nbformat_minor": 5
}
