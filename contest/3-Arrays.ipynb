{
 "cells": [
  {
   "cell_type": "code",
   "execution_count": null,
   "id": "8f919bbc-3549-4834-813f-ead7bf1243ec",
   "metadata": {},
   "outputs": [],
   "source": [
    "# reverse an array\n",
    "def swap(arr,i,j):\n",
    "    \n",
    "    while(i<j):\n",
    "        temp=arr[i]\n",
    "        arr[i]=arr[j]\n",
    "        arr[j]=temp\n",
    "        i+=1\n",
    "        j-=1\n",
    "    return arr\n",
    "\n",
    "n=int(input())\n",
    "arr=[]\n",
    "for i in range(n):\n",
    "    arr.append(int(input()))\n",
    "\n",
    "for i in swap(arr,0,n-1):\n",
    "    print(i)\n",
    "\n",
    "\n",
    "\n"
   ]
  },
  {
   "cell_type": "code",
   "execution_count": 3,
   "id": "d783abeb-61d8-45cf-8696-70b5f317ca8c",
   "metadata": {},
   "outputs": [
    {
     "name": "stdin",
     "output_type": "stream",
     "text": [
      " 5\n",
      " -4 -1 0 3 10\n"
     ]
    },
    {
     "name": "stdout",
     "output_type": "stream",
     "text": [
      "[0, 1, 9, 16, 100]\n"
     ]
    }
   ],
   "source": [
    "#Squares of sorted array\n",
    "\n",
    "n=int(input())\n",
    "arr=input().split(' ')\n",
    "\n",
    "for i in range(n):\n",
    "    arr[i] = int(arr[i])**2\n",
    "\n",
    "def sort_array(arr, n):\n",
    "    for i in range(n):\n",
    "        min_index=i\n",
    "        for j in range(i+1,n):\n",
    "            if arr[j]<arr[min_index]:\n",
    "                min_index=j\n",
    "        arr[min_index],arr[i]=arr[i],arr[min_index]\n",
    "    return arr\n",
    "\n",
    "# for a in (sort_array(arr,n)):\n",
    "#     print(a)\n",
    "\n",
    "arr.sort()\n",
    "print(arr)"
   ]
  },
  {
   "cell_type": "code",
   "execution_count": 9,
   "id": "6a2e7804-7e72-414f-8ce0-d331192acb25",
   "metadata": {},
   "outputs": [
    {
     "name": "stdin",
     "output_type": "stream",
     "text": [
      " 2\n",
      " 1 1 0\n",
      " 0 0 1\n"
     ]
    }
   ],
   "source": [
    "#Three close friends, Petya, Vasya, and Tonya, have formed a team to participate in programming contests. The contest organizers offer several problems for the participants to solve. Prior to the contest, the friends agreed that they would only implement a problem's solution if at least two of them are confident in solving it. If not, they would not attempt to solve the problem. For each of the n problems offered in the contest, the friends have information about which of them are confident in solving it. We need to help the friends determine how many problems they will solve based on this information.\n",
    "\n",
    "# Input Format\n",
    "# The given input has 'n' number of problems (where 1 ≤ n ≤ 1000) in a contest. Each problem is represented on a separate line with three integers, either 0 or 1. The first integer denotes Petya's confidence in the problem's solution. 1 indicates that Petya is sure about the solution, while 0 indicates that Petya is not sure. The second integer represents Vasya's opinion on the solution, where 1 means Vasya is sure about the solution, and 0 means he is not sure. The third integer represents Tonya's opinion on the solution, where 1 means Tonya is sure about the solution, and 0 means she is not sure. All the integers in a line are separated by a space.\n",
    "\n",
    "# Constraints\n",
    "# 1 ≤ n ≤ 1000\n",
    "\n",
    "# Output Format\n",
    "# Print a single integer — the number of problems that will be solved\n",
    "\n",
    "# Sample Input\n",
    "# 10\n",
    "# 1 0 1\n",
    "# 1 0 0\n",
    "# 1 0 0\n",
    "# 1 0 1\n",
    "# 0 0 0\n",
    "# 1 0 1\n",
    "# 1 1 0\n",
    "# 0 1 1\n",
    "# 0 1 0\n",
    "# 0 1 1\n",
    "# Sample Output\n",
    "# 6\n",
    "# Explanation\n",
    "# There is only 6 questions on which atleast 2 of the three contestants agree. They are question no 1,4,6,7,8,10\n",
    "\n",
    "n=int(input())\n",
    "\n",
    "arr=[]\n",
    "\n",
    "for i in range(n):\n",
    "    arr.append([int(x) for x in input().split(' ')])\n",
    "\n",
    "res=0\n",
    "for ans in arr:\n",
    "    if sum(ans) >= 2:\n",
    "        res+=1\n",
    "    \n",
    "print(res)"
   ]
  },
  {
   "cell_type": "code",
   "execution_count": 11,
   "id": "a181051f-69f5-4428-a72f-af06a3e6f1e4",
   "metadata": {},
   "outputs": [
    {
     "name": "stdin",
     "output_type": "stream",
     "text": [
      " 3\n",
      " 1\n",
      " 2\n",
      " 3\n"
     ]
    },
    {
     "name": "stdout",
     "output_type": "stream",
     "text": [
      "[1, 3, 6]\n"
     ]
    }
   ],
   "source": [
    "# cumulative sum\n",
    "\n",
    "n=int(input())\n",
    "arr=[]\n",
    "for i in range(n):\n",
    "    arr.append(int(input()))\n",
    "\n",
    "for i in range(1, n):\n",
    "    arr[i] = arr[i]+arr[i-1]\n",
    "print(arr)"
   ]
  },
  {
   "cell_type": "code",
   "execution_count": 15,
   "id": "1749c0cb-76c7-4c16-aa15-1125313a3528",
   "metadata": {},
   "outputs": [
    {
     "name": "stdin",
     "output_type": "stream",
     "text": [
      " 3\n",
      " 1 1 0\n"
     ]
    },
    {
     "name": "stdout",
     "output_type": "stream",
     "text": [
      "1\n"
     ]
    }
   ],
   "source": [
    "# Majority element\n",
    "n=int(input())\n",
    "arr = [int(x) for x in input().split(' ')]\n",
    "\n",
    "hashmap = {}\n",
    "res = 0\n",
    "for i in arr:\n",
    "    if i in hashmap.keys():\n",
    "        hashmap[i] +=1\n",
    "        if hashmap[i] > n/2:\n",
    "            res=i\n",
    "    else:\n",
    "        hashmap[i] = 1\n",
    "\n",
    "print(res)   \n"
   ]
  },
  {
   "cell_type": "code",
   "execution_count": 17,
   "id": "c1a67713-23be-40f3-8803-a4cbb0f74c1e",
   "metadata": {},
   "outputs": [
    {
     "name": "stdin",
     "output_type": "stream",
     "text": [
      " 2\n",
      " 111\n",
      " 110\n"
     ]
    },
    {
     "name": "stdout",
     "output_type": "stream",
     "text": [
      "7\n",
      "6\n"
     ]
    }
   ],
   "source": [
    "# Given a binary number ,help Von Neuman to find out its decimal representation. For eg 000111 in binary is 7 in decimal.\n",
    "\n",
    "# Input Format\n",
    "# The first line contains N , the number of binary numbers. Next N lines contain N integers each representing binary represenation of number.\n",
    "\n",
    "# Constraints\n",
    "# N<=1000 Digits in binary representation is <=16.\n",
    "\n",
    "# Output Format\n",
    "# N lines,each containing a decimal equivalent of the binary number.\n",
    "\n",
    "# Sample Input\n",
    "# 4\n",
    "# 101\n",
    "# 1111\n",
    "# 00110\n",
    "# 111111\n",
    "# Sample Output\n",
    "# 5\n",
    "# 15\n",
    "# 6\n",
    "# 63\n",
    "# Explanation\n",
    "# For binary number fedcba , Decimal number = f * 25 + e * 24 + d * 23 + …..+ a * 20.\n",
    "\n",
    "n=int(input())\n",
    "arr=[]\n",
    "for i in range(n):\n",
    "    arr.append(int(input()))\n",
    "\n",
    "def get_decimal(num):\n",
    "    res=0\n",
    "    mul=0\n",
    "    while(num>0):\n",
    "        last_digit=num%10\n",
    "        res+=last_digit*2**mul\n",
    "        mul+=1\n",
    "        num=num//10\n",
    "    print(res)\n",
    "\n",
    "for i in arr:\n",
    "    get_decimal(i)\n",
    "\n",
    "\n",
    "    \n"
   ]
  },
  {
   "cell_type": "code",
   "execution_count": 19,
   "id": "82109d6e-bfc5-4762-89d7-6d2f74eda323",
   "metadata": {},
   "outputs": [
    {
     "name": "stdin",
     "output_type": "stream",
     "text": [
      " 3\n",
      " 4\n",
      " 2\n",
      " 1\n"
     ]
    },
    {
     "name": "stdout",
     "output_type": "stream",
     "text": [
      "[1, 2, 4]\n"
     ]
    }
   ],
   "source": [
    "#selection sort\n",
    "\n",
    "n=int(input())\n",
    "arr=[]\n",
    "for i in range(n):\n",
    "    arr.append(int(input()))\n",
    "\n",
    "\n",
    "for i in range(n):\n",
    "    min_index=i\n",
    "    for j in range(i+1, n):\n",
    "        if arr[j] < arr[min_index]:\n",
    "            min_index=j\n",
    "    arr[min_index], arr[i] = arr[i], arr[min_index]\n",
    "\n",
    "print(arr)"
   ]
  },
  {
   "cell_type": "code",
   "execution_count": 37,
   "id": "cebd9a50-6ad4-4659-a2eb-061b3efc86a1",
   "metadata": {},
   "outputs": [
    {
     "name": "stdin",
     "output_type": "stream",
     "text": [
      " 2\n",
      " 6\n",
      " 3  0  0  2  0  4\n",
      " 12\n",
      " 0  1  0  2  1  0  1  3  2  1  2  1\n"
     ]
    },
    {
     "name": "stdout",
     "output_type": "stream",
     "text": [
      "10\n",
      "6\n"
     ]
    }
   ],
   "source": [
    "# Tapping rain water\n",
    "\n",
    "\n",
    "n=int(input())\n",
    "\n",
    "def trapping_rain_water(arr: list, size: int)-> int:\n",
    "    left_max = [arr[0]]*len(arr)\n",
    "    right_max = [arr[len(arr)-1]]*len(arr)\n",
    "\n",
    "    for i in range(1, len(arr)):\n",
    "        left_max[i] = max(left_max[i-1], arr[i])\n",
    "    for i in range(len(arr)-2, -1, -1):\n",
    "        right_max[i] = max(right_max[i+1], arr[i])\n",
    "\n",
    "    result =0 \n",
    "    for i in range(len(arr)):\n",
    "        result+= min(left_max[i], right_max[i]) - arr[i]\n",
    "    return result\n",
    "\n",
    "result_arr=[]\n",
    "for i in range(n):\n",
    "    size=int(input())\n",
    "    arr=[int(x) for x in input().split('  ')]\n",
    "    result_arr.append(trapping_rain_water(arr, size))\n",
    "\n",
    "for i in result_arr:\n",
    "    print(i)\n"
   ]
  },
  {
   "cell_type": "code",
   "execution_count": 40,
   "id": "cf24806f-adaf-4d59-8f6e-73c4ea0a6835",
   "metadata": {},
   "outputs": [
    {
     "name": "stdin",
     "output_type": "stream",
     "text": [
      " 5\n",
      " 0 2 4 1 3\n"
     ]
    },
    {
     "name": "stdout",
     "output_type": "stream",
     "text": [
      "0 3 1 4 2 "
     ]
    }
   ],
   "source": [
    "#Inverse of an array\n",
    "\n",
    "n=int(input())\n",
    "arr=[int(x) for x in input().split(' ')]\n",
    "\n",
    "result= [1]*len(arr)\n",
    "\n",
    "for i in range(n):\n",
    "    result[arr[i]] = i \n",
    "\n",
    "for i in result:\n",
    "    print(i,end=\" \")"
   ]
  },
  {
   "cell_type": "code",
   "execution_count": null,
   "id": "7ba4c1f1-2312-4225-976b-ccccd070af7d",
   "metadata": {},
   "outputs": [],
   "source": []
  }
 ],
 "metadata": {
  "kernelspec": {
   "display_name": "Python 3 (ipykernel)",
   "language": "python",
   "name": "python3"
  },
  "language_info": {
   "codemirror_mode": {
    "name": "ipython",
    "version": 3
   },
   "file_extension": ".py",
   "mimetype": "text/x-python",
   "name": "python",
   "nbconvert_exporter": "python",
   "pygments_lexer": "ipython3",
   "version": "3.12.1"
  }
 },
 "nbformat": 4,
 "nbformat_minor": 5
}
