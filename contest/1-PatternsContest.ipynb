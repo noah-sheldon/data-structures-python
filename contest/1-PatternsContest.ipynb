{
 "cells": [
  {
   "cell_type": "code",
   "execution_count": 18,
   "id": "cfae003a-643d-43e1-baa4-6ac9e0117c04",
   "metadata": {},
   "outputs": [
    {
     "name": "stdin",
     "output_type": "stream",
     "text": [
      " 7\n"
     ]
    },
    {
     "name": "stdout",
     "output_type": "stream",
     "text": [
      "*\t*\t*\t*\t*\t*\t*\t\n",
      "\n",
      "*\t*\t*\t \t*\t*\t*\t\n",
      "\n",
      "*\t*\t \t \t \t*\t*\t\n",
      "\n",
      "*\t \t \t \t \t \t*\t\n",
      "\n",
      "*\t*\t \t \t \t*\t*\t\n",
      "\n",
      "*\t*\t*\t \t*\t*\t*\t\n",
      "\n",
      "*\t*\t*\t*\t*\t*\t*\t\n",
      "\n"
     ]
    }
   ],
   "source": [
    "n=int(input())\n",
    "i=1\n",
    "nst1=int(n/2)+1\n",
    "nst2=int(n/2)+1\n",
    "nsp=-1\n",
    "while(i<=n):\n",
    "    cst=1\n",
    "    if i==1 or i==n:\n",
    "        cst+=1\n",
    "    while(cst<=nst1):\n",
    "        print(\"*\\t\",end=\"\")\n",
    "        cst+=1\n",
    "    csp=1\n",
    "    while(csp<=nsp):\n",
    "        print(\" \\t\",end=\"\")\n",
    "        csp+=1\n",
    "    cst=1\n",
    "    while(cst<=nst2):\n",
    "        print(\"*\\t\",end=\"\")\n",
    "        cst+=1\n",
    "    print(\"\\n\")\n",
    "    i+=1\n",
    "    if i>(n//2)+1:\n",
    "        nst1+=1\n",
    "        nst2+=1\n",
    "        nsp-=2\n",
    "\n",
    "    else:\n",
    "        nst1-=1\n",
    "        nst2-=1\n",
    "        nsp+=2"
   ]
  },
  {
   "cell_type": "code",
   "execution_count": 22,
   "id": "d46be353-18f8-49b3-bfad-149204ff4d7c",
   "metadata": {},
   "outputs": [
    {
     "name": "stdin",
     "output_type": "stream",
     "text": [
      " 7\n"
     ]
    },
    {
     "name": "stdout",
     "output_type": "stream",
     "text": [
      "*\n",
      "\n",
      "**\n",
      "\n",
      "***\n",
      "\n",
      "****\n",
      "\n",
      "*****\n",
      "\n",
      "******\n",
      "\n",
      "*******\n",
      "\n"
     ]
    }
   ],
   "source": [
    "n=int(input())\n",
    "nst=1\n",
    "i=1\n",
    "while(i<=n):\n",
    "    cst=1\n",
    "    while(cst<=nst):\n",
    "        print(\"*\",end=\"\")\n",
    "        cst+=1\n",
    "    print(\"\\n\")\n",
    "    i+=1\n",
    "    nst+=1\n",
    "    "
   ]
  },
  {
   "cell_type": "code",
   "execution_count": 30,
   "id": "df40ed8f-3275-47a0-ab34-1af219b4743f",
   "metadata": {},
   "outputs": [
    {
     "name": "stdin",
     "output_type": "stream",
     "text": [
      " 5\n"
     ]
    },
    {
     "name": "stdout",
     "output_type": "stream",
     "text": [
      "    *****\n",
      "\n",
      "   *   *\n",
      "\n",
      "  *   *\n",
      "\n",
      " *   *\n",
      "\n",
      "*****\n",
      "\n"
     ]
    }
   ],
   "source": [
    "n=int(input())\n",
    "nst=n\n",
    "nsp=n-1\n",
    "i=1\n",
    "while(i<=n):\n",
    "    csp=1\n",
    "    while(csp<=nsp):\n",
    "        print(\" \",end=\"\")\n",
    "        csp+=1\n",
    "    if i==1 or i==n:\n",
    "        cst=1\n",
    "        while(cst<=nst):\n",
    "            print(\"*\",end=\"\")\n",
    "            cst+=1\n",
    "    else:\n",
    "        print(\"*\",end=\"\")\n",
    "        print(\" \"*(n-2),end=\"\")\n",
    "        print(\"*\",end=\"\")\n",
    "    i+=1\n",
    "    nsp-=1\n",
    "    print(\"\\n\")"
   ]
  },
  {
   "cell_type": "code",
   "execution_count": 42,
   "id": "df59a085-a26d-4b74-b99a-9fa99741ad26",
   "metadata": {},
   "outputs": [
    {
     "name": "stdin",
     "output_type": "stream",
     "text": [
      " 5\n"
     ]
    },
    {
     "name": "stdout",
     "output_type": "stream",
     "text": [
      "*********\n",
      "\n",
      "**** ****\n",
      "\n",
      "***   ***\n",
      "\n",
      "**     **\n",
      "\n",
      "*       *\n",
      "\n",
      "**     **\n",
      "\n",
      "***   ***\n",
      "\n",
      "**** ****\n",
      "\n",
      "*********\n",
      "\n"
     ]
    }
   ],
   "source": [
    "n=int(input())\n",
    "i=1\n",
    "nst1=n\n",
    "nst2=n\n",
    "nsp=-1\n",
    "while(i<=2*n-1):\n",
    "    cst=1\n",
    "    if i==1 or i==2*n-1:\n",
    "        cst+=1\n",
    "    while(cst<=nst1):\n",
    "        print(\"*\",end=\"\")\n",
    "        cst+=1\n",
    "    csp=1\n",
    "    while(csp<=nsp):\n",
    "        print(\" \",end=\"\")\n",
    "        csp+=1\n",
    "    cst=1\n",
    "    while(cst<=nst2):\n",
    "        print(\"*\",end=\"\")\n",
    "        cst+=1\n",
    "    print(\"\\n\")\n",
    "    i+=1\n",
    "    if i>2*n//2:\n",
    "        nst1+=1\n",
    "        nst2+=1\n",
    "        nsp-=2\n",
    "\n",
    "    else:\n",
    "        nst1-=1\n",
    "        nst2-=1\n",
    "        nsp+=2"
   ]
  },
  {
   "cell_type": "code",
   "execution_count": 5,
   "id": "f11d474a-3bf9-4522-84de-9a3cc6ec31a0",
   "metadata": {},
   "outputs": [
    {
     "name": "stdin",
     "output_type": "stream",
     "text": [
      " 7\n"
     ]
    },
    {
     "name": "stdout",
     "output_type": "stream",
     "text": [
      " \t \t \t*\t\n",
      "\n",
      " \t \t*\t*\t*\t\n",
      "\n",
      " \t*\t*\t*\t*\t*\t\n",
      "\n",
      "*\t*\t*\t*\t*\t*\t*\t\n",
      "\n",
      " \t*\t*\t*\t*\t*\t\n",
      "\n",
      " \t \t*\t*\t*\t\n",
      "\n",
      " \t \t \t*\t\n",
      "\n"
     ]
    }
   ],
   "source": [
    "i=1\n",
    "n=int(input())\n",
    "nsp=n//2\n",
    "nst=1\n",
    "while(i<=n):\n",
    "    csp=1\n",
    "    while(csp<=nsp):\n",
    "        print(\" \\t\",end=\"\")\n",
    "        csp+=1\n",
    "    cst=1\n",
    "    while(cst<=nst):\n",
    "        print(\"*\\t\",end=\"\")\n",
    "        cst+=1\n",
    "    i+=1\n",
    "    if i>n//2+1:\n",
    "        nst-=2\n",
    "        nsp+=1\n",
    "    else:\n",
    "        nst+=2\n",
    "        nsp-=1\n",
    "    print(\"\\n\")"
   ]
  },
  {
   "cell_type": "code",
   "execution_count": 19,
   "id": "9f8d7296-2d0e-4942-96f8-c83d84df9ea7",
   "metadata": {},
   "outputs": [
    {
     "name": "stdin",
     "output_type": "stream",
     "text": [
      " 9\n"
     ]
    },
    {
     "name": "stdout",
     "output_type": "stream",
     "text": [
      "                1 \n",
      "\n",
      "            2 1   1 2 \n",
      "\n",
      "        3 2 1       1 2 3 \n",
      "\n",
      "    4 3 2 1           1 2 3 4 \n",
      "\n",
      "5 4 3 2 1               1 2 3 4 5 \n",
      "\n",
      "    4 3 2 1           1 2 3 4 \n",
      "\n",
      "        3 2 1       1 2 3 \n",
      "\n",
      "            2 1   1 2 \n",
      "\n",
      "                1 \n",
      "\n"
     ]
    }
   ],
   "source": [
    "n=int(input())\n",
    "nsp1=n-1\n",
    "nst1=1\n",
    "nst2=1\n",
    "nsp2=-1\n",
    "i=1\n",
    "while(i<=n):\n",
    "    \n",
    "        \n",
    "    csp=1\n",
    "    while(csp<=nsp1):\n",
    "        print(\"  \",end=\"\")\n",
    "        csp+=1\n",
    "    cst=nst1\n",
    "    while(cst>0):\n",
    "        print(f\"{cst} \",end=\"\")\n",
    "        cst-=1\n",
    "    csp=1\n",
    "    while(csp<=nsp2):\n",
    "        print(\"  \",end=\"\")\n",
    "        csp+=1\n",
    "    cst=1\n",
    "    if i==1 or i==n:\n",
    "        cst+=1\n",
    "    while(cst<=nst2):\n",
    "        print(f\"{cst} \",end=\"\")\n",
    "        cst+=1\n",
    "    i+=1\n",
    "    if i>n//2+1:\n",
    "        nsp1+=2\n",
    "        nst1-=1\n",
    "        nsp2-=2\n",
    "        nst2-=1\n",
    "    else:\n",
    "        nsp1-=2\n",
    "        nst1+=1\n",
    "        nsp2+=2\n",
    "        nst2+=1\n",
    "    print(\"\\n\")"
   ]
  },
  {
   "cell_type": "code",
   "execution_count": 26,
   "id": "bb27b837-e3d0-4865-87dd-9cd5ad329469",
   "metadata": {},
   "outputs": [
    {
     "name": "stdin",
     "output_type": "stream",
     "text": [
      " 4\n"
     ]
    },
    {
     "name": "stdout",
     "output_type": "stream",
     "text": [
      " \t \t \t1\t\n",
      "\n",
      " \t \t2\t3\t2\t\n",
      "\n",
      " \t3\t4\t5\t4\t3\t\n",
      "\n",
      "4\t5\t6\t7\t6\t5\t4\t\n",
      "\n"
     ]
    }
   ],
   "source": [
    "i=1\n",
    "n=int(input())\n",
    "nsp=n-1\n",
    "nst=1\n",
    "val=1\n",
    "while(i<=n):\n",
    "    val=i\n",
    "    csp=1\n",
    "    while(csp<=nsp):\n",
    "        print(\" \\t\",end=\"\")\n",
    "        csp+=1\n",
    "    cst=1\n",
    "    while(cst<=nst):\n",
    "        print(f\"{val}\\t\",end=\"\")\n",
    "        cst+=1\n",
    "        if cst>i:\n",
    "            val-=1\n",
    "        else:\n",
    "            val+=1\n",
    "    i+=1\n",
    "    nst+=2\n",
    "    nsp-=1\n",
    "    print(\"\\n\")"
   ]
  },
  {
   "cell_type": "code",
   "execution_count": 30,
   "id": "45928c68-c2c7-42e3-aef6-557ee36f2f5d",
   "metadata": {},
   "outputs": [
    {
     "name": "stdin",
     "output_type": "stream",
     "text": [
      " 4\n"
     ]
    },
    {
     "name": "stdout",
     "output_type": "stream",
     "text": [
      "1\t\n",
      "\n",
      "2\t3\t\n",
      "\n",
      "4\t5\t6\t\n",
      "\n",
      "7\t8\t9\t10\t\n",
      "\n"
     ]
    }
   ],
   "source": [
    "nst=1\n",
    "n=int(input())\n",
    "i=1\n",
    "val=1\n",
    "while(i<=n):\n",
    "    cst=1\n",
    "    while(cst<=nst):\n",
    "        print(f\"{val}\\t\",end=\"\")\n",
    "        cst+=1\n",
    "        val+=1\n",
    "    nst+=1\n",
    "    i+=1\n",
    "    print(\"\\n\")"
   ]
  },
  {
   "cell_type": "code",
   "execution_count": 47,
   "id": "41b3ac76-b77a-43a1-8489-55d506aaf55e",
   "metadata": {},
   "outputs": [
    {
     "name": "stdin",
     "output_type": "stream",
     "text": [
      " 3\n"
     ]
    },
    {
     "name": "stdout",
     "output_type": "stream",
     "text": [
      " \t \t1\t\n",
      "\n",
      " \t2\t3\t2\t\n",
      "\n",
      "3\t4\t5\t4\t3\t\n",
      "\n",
      " \t2\t3\t2\t\n",
      "\n",
      " \t \t1\t\n",
      "\n"
     ]
    }
   ],
   "source": [
    "n=int(input())\n",
    "nsp=n-1\n",
    "nst=1\n",
    "i=1\n",
    "val=1\n",
    "while(i<=2*n-1):\n",
    "    csp=1\n",
    "    while(csp<=nsp):\n",
    "        print(\" \\t\",end=\"\")\n",
    "        csp+=1\n",
    "    cst=1\n",
    "    while(cst<=nst):\n",
    "        print(f\"{val}\\t\",end=\"\")\n",
    "        cst+=1\n",
    "        if cst>nst//2+1:\n",
    "            val-=1\n",
    "        else:\n",
    "            val+=1\n",
    "    i+=1\n",
    "    if i>n:\n",
    "        nst-=2\n",
    "        nsp+=1\n",
    "    else:\n",
    "        nst+=2\n",
    "        nsp-=1\n",
    "        val+=2\n",
    "    print(\"\\n\")"
   ]
  },
  {
   "cell_type": "code",
   "execution_count": 3,
   "id": "06f3d20c-7330-448c-9eaf-bbae83af2eaf",
   "metadata": {},
   "outputs": [
    {
     "name": "stdin",
     "output_type": "stream",
     "text": [
      " 5\n"
     ]
    },
    {
     "name": "stdout",
     "output_type": "stream",
     "text": [
      "1\t\n",
      "\n",
      "2\t2\t\n",
      "\n",
      "3\t0\t3\t\n",
      "\n",
      "4\t0\t0\t4\t\n",
      "\n",
      "5\t0\t0\t0\t5\t\n",
      "\n"
     ]
    }
   ],
   "source": [
    "i=1\n",
    "nst=1\n",
    "n=int(input())\n",
    "while(i<=n):\n",
    "    cst=1\n",
    "    while(cst<=nst):\n",
    "        if cst==1 or cst==nst:\n",
    "            print(f\"{nst}\\t\",end=\"\")\n",
    "        else:\n",
    "            print(f\"0\\t\",end=\"\")\n",
    "        cst+=1\n",
    "    print(\"\\n\")\n",
    "    nst+=1\n",
    "    i+=1"
   ]
  },
  {
   "cell_type": "code",
   "execution_count": 11,
   "id": "df1fa458-77ec-4cc7-a15f-ca055ed08270",
   "metadata": {},
   "outputs": [
    {
     "name": "stdin",
     "output_type": "stream",
     "text": [
      " 6\n"
     ]
    },
    {
     "name": "stdout",
     "output_type": "stream",
     "text": [
      "0\t\n",
      "\n",
      "1\t1\t\n",
      "\n",
      "2\t3\t5\t\n",
      "\n",
      "8\t13\t21\t34\t\n",
      "\n",
      "55\t89\t144\t233\t377\t\n",
      "\n",
      "610\t987\t1597\t2584\t4181\t6765\t\n",
      "\n"
     ]
    }
   ],
   "source": [
    "n=int(input())\n",
    "i=1\n",
    "nst=1\n",
    "val_a=0\n",
    "val_b=1\n",
    "while(i<=n):\n",
    "    cst=1\n",
    "    while(cst<=nst):\n",
    "        print(f\"{val_a}\\t\",end=\"\")\n",
    "        cst+=1\n",
    "        val_c=val_a+val_b\n",
    "        val_a=val_b\n",
    "        val_b=val_c\n",
    "    i+=1\n",
    "    nst+=1\n",
    "    print(\"\\n\")      "
   ]
  },
  {
   "cell_type": "code",
   "execution_count": 20,
   "id": "ac299140-2086-41bf-a5ea-9a798be1934f",
   "metadata": {},
   "outputs": [
    {
     "name": "stdin",
     "output_type": "stream",
     "text": [
      " 7\n"
     ]
    },
    {
     "name": "stdout",
     "output_type": "stream",
     "text": [
      "1\t \t \t \t \t \t \t \t \t \t \t \t1\t\n",
      "\n",
      "1\t2\t \t \t \t \t \t \t \t \t \t2\t1\t\n",
      "\n",
      "1\t2\t3\t \t \t \t \t \t \t \t3\t2\t1\t\n",
      "\n",
      "1\t2\t3\t4\t \t \t \t \t \t4\t3\t2\t1\t\n",
      "\n",
      "1\t2\t3\t4\t5\t \t \t \t5\t4\t3\t2\t1\t\n",
      "\n",
      "1\t2\t3\t4\t5\t6\t \t6\t5\t4\t3\t2\t1\t\n",
      "\n",
      "1\t2\t3\t4\t5\t6\t7\t6\t5\t4\t3\t2\t1\t\n",
      "\n"
     ]
    },
    {
     "data": {
      "text/plain": [
       "-1"
      ]
     },
     "execution_count": 20,
     "metadata": {},
     "output_type": "execute_result"
    }
   ],
   "source": [
    "n=int(input())\n",
    "i=1\n",
    "nst1=1\n",
    "nst2=1\n",
    "nsp=2*n-3\n",
    "\n",
    "while(i<=n):\n",
    "    cst=1\n",
    "    val=1\n",
    "    while(cst<=nst1):\n",
    "        print(f\"{val}\\t\",end=\"\")\n",
    "        cst+=1\n",
    "        val+=1\n",
    "    csp=1\n",
    "    while(csp<=nsp):\n",
    "        print(f\" \\t\",end=\"\")\n",
    "        csp+=1\n",
    "    cst=1\n",
    "    val=nst2\n",
    "    while(cst<=nst2):\n",
    "        if val==n:\n",
    "            cst+=1\n",
    "            val-=1\n",
    "        print(f\"{val}\\t\",end=\"\")\n",
    "        cst+=1\n",
    "        val-=1\n",
    "    nst1+=1\n",
    "    nst2+=1\n",
    "    i+=1\n",
    "    print(\"\\n\")\n",
    "    nsp-=2\n",
    "# 7-11\n",
    "# 6-9\n",
    "# 5-7\n",
    "# 4-5"
   ]
  },
  {
   "cell_type": "code",
   "execution_count": 36,
   "id": "d794b867-ad0e-4cc5-85b8-47163cc0cc31",
   "metadata": {},
   "outputs": [
    {
     "name": "stdin",
     "output_type": "stream",
     "text": [
      " 7\n"
     ]
    },
    {
     "name": "stdout",
     "output_type": "stream",
     "text": [
      "7\t \t \t \t \t \t \t \t \t \t \t \t \t \t7\t\n",
      "\n",
      "7\t6\t \t \t \t \t \t \t \t \t \t \t \t6\t7\t\n",
      "\n",
      "7\t6\t5\t \t \t \t \t \t \t \t \t \t5\t6\t7\t\n",
      "\n",
      "7\t6\t5\t4\t \t \t \t \t \t \t \t4\t5\t6\t7\t\n",
      "\n",
      "7\t6\t5\t4\t3\t \t \t \t \t \t3\t4\t5\t6\t7\t\n",
      "\n",
      "7\t6\t5\t4\t3\t2\t \t \t \t2\t3\t4\t5\t6\t7\t\n",
      "\n",
      "7\t6\t5\t4\t3\t2\t1\t \t1\t2\t3\t4\t5\t6\t7\t\n",
      "\n",
      "7\t6\t5\t4\t3\t2\t1\t0\t1\t2\t3\t4\t5\t6\t7\t\n",
      "\n",
      "7\t6\t5\t4\t3\t2\t1\t \t1\t2\t3\t4\t5\t6\t7\t\n",
      "\n",
      "7\t6\t5\t4\t3\t2\t \t \t \t2\t3\t4\t5\t6\t7\t\n",
      "\n",
      "7\t6\t5\t4\t3\t \t \t \t \t \t3\t4\t5\t6\t7\t\n",
      "\n",
      "7\t6\t5\t4\t \t \t \t \t \t \t \t4\t5\t6\t7\t\n",
      "\n",
      "7\t6\t5\t \t \t \t \t \t \t \t \t \t5\t6\t7\t\n",
      "\n",
      "7\t6\t \t \t \t \t \t \t \t \t \t \t \t6\t7\t\n",
      "\n",
      "7\t \t \t \t \t \t \t \t \t \t \t \t \t \t7\t\n",
      "\n"
     ]
    }
   ],
   "source": [
    "n=int(input())\n",
    "nst1=1\n",
    "nsp=2*n-1\n",
    "i=1\n",
    "while(i<=2*n+1):\n",
    "    val=n\n",
    "    cst=1\n",
    "    while(cst<=nst1):\n",
    "        print(f\"{val}\\t\",end=\"\")\n",
    "        cst+=1\n",
    "        val-=1\n",
    "    csp=1\n",
    "    while(csp<=nsp):\n",
    "        print(\" \\t\",end=\"\")\n",
    "        csp+=1\n",
    "    cst=1\n",
    "    val=n-nst1+1\n",
    "    while(cst<=nst1):\n",
    "        if val==0:\n",
    "            val+=1\n",
    "            cst+=1\n",
    "        print(f\"{val}\\t\",end=\"\")\n",
    "        cst+=1\n",
    "        val+=1\n",
    "    print(\"\\n\")\n",
    "    if i>n:\n",
    "        nst1-=1\n",
    "        nsp+=2\n",
    "    else:\n",
    "        nst1+=1\n",
    "        nsp-=2\n",
    "    i+=1\n",
    "    \n"
   ]
  },
  {
   "cell_type": "code",
   "execution_count": 46,
   "id": "954187b6-6451-4191-8a39-b8ce969093a8",
   "metadata": {},
   "outputs": [
    {
     "name": "stdin",
     "output_type": "stream",
     "text": [
      " 2 4\n"
     ]
    },
    {
     "name": "stdout",
     "output_type": "stream",
     "text": [
      "2\n",
      "4\n",
      "6\n",
      "8\n"
     ]
    }
   ],
   "source": [
    "number, times=input().split(' ')\n",
    "\n",
    "for i in range(1,int(times)+1):\n",
    "    print(int(number)*i)"
   ]
  },
  {
   "cell_type": "code",
   "execution_count": 62,
   "id": "c9fdcc08-e500-4c02-bcc8-5b50b0d90c39",
   "metadata": {},
   "outputs": [
    {
     "name": "stdin",
     "output_type": "stream",
     "text": [
      " 313\n"
     ]
    },
    {
     "name": "stdout",
     "output_type": "stream",
     "text": [
      "Prime\n"
     ]
    }
   ],
   "source": [
    "import math\n",
    "n=int(input())\n",
    "for i in range(2, int(math.sqrt(n))):\n",
    "    if n%i==0:\n",
    "        print(\"Not Prime\")\n",
    "        break\n",
    "else:\n",
    "    print(\"Prime\")"
   ]
  },
  {
   "cell_type": "code",
   "execution_count": 5,
   "id": "3ffc5da3-9723-4098-b484-c9b0c2beb11d",
   "metadata": {},
   "outputs": [
    {
     "data": {
      "text/plain": [
       "120"
      ]
     },
     "execution_count": 5,
     "metadata": {},
     "output_type": "execute_result"
    }
   ],
   "source": [
    "def factorial(n):\n",
    "    res=1\n",
    "    for i in range(2,n+1):\n",
    "        res = res*i\n",
    "    return res\n",
    "\n",
    "factorial(5)"
   ]
  },
  {
   "cell_type": "code",
   "execution_count": 6,
   "id": "abefcdb1-aeb9-4e16-b365-30e40747d3a1",
   "metadata": {},
   "outputs": [],
   "source": [
    "def combinations(n,r):\n",
    "    res = factorial(n)/(factorial(n-r)*factorial(r))\n",
    "    return res\n",
    "\n",
    "def factorial(n):\n",
    "    res=1\n",
    "    for i in range(2,n+1):\n",
    "        res = res*i\n",
    "    return res\n",
    "\n",
    "factorial(5)"
   ]
  },
  {
   "cell_type": "code",
   "execution_count": 12,
   "id": "e2da73d9-dae3-4dab-8b18-7093b14e2ee2",
   "metadata": {},
   "outputs": [
    {
     "name": "stdin",
     "output_type": "stream",
     "text": [
      " 6\n"
     ]
    },
    {
     "name": "stdout",
     "output_type": "stream",
     "text": [
      "1\t\n",
      "\n",
      "1\t1\t\n",
      "\n",
      "1\t2\t1\t\n",
      "\n",
      "1\t3\t3\t1\t\n",
      "\n",
      "1\t4\t6\t4\t1\t\n",
      "\n",
      "1\t5\t10\t10\t5\t1\t\n",
      "\n"
     ]
    }
   ],
   "source": [
    "i=0\n",
    "nst=1\n",
    "n=int(input())\n",
    "while(i<n):\n",
    "    cst=0\n",
    "    while(cst<nst):\n",
    "        print(f\"{int(combinations(i,cst))}\\t\",end=\"\")\n",
    "        cst+=1\n",
    "    i+=1\n",
    "    nst+=1\n",
    "    print(\"\\n\")"
   ]
  },
  {
   "cell_type": "code",
   "execution_count": 17,
   "id": "23abc1e8-d2a6-4976-9a47-c9d17996376b",
   "metadata": {},
   "outputs": [
    {
     "name": "stdin",
     "output_type": "stream",
     "text": [
      " 7\n"
     ]
    },
    {
     "name": "stdout",
     "output_type": "stream",
     "text": [
      "7 6 5 4 3 2 1 0 1 2 3 4 5 6 7 \n",
      "\n",
      "  6 5 4 3 2 1 0 1 2 3 4 5 6 \n",
      "\n",
      "    5 4 3 2 1 0 1 2 3 4 5 \n",
      "\n",
      "      4 3 2 1 0 1 2 3 4 \n",
      "\n",
      "        3 2 1 0 1 2 3 \n",
      "\n",
      "          2 1 0 1 2 \n",
      "\n",
      "            1 0 1 \n",
      "\n",
      "              0 \n",
      "\n",
      "            1 0 1 \n",
      "\n",
      "          2 1 0 1 2 \n",
      "\n",
      "        3 2 1 0 1 2 3 \n",
      "\n",
      "      4 3 2 1 0 1 2 3 4 \n",
      "\n",
      "    5 4 3 2 1 0 1 2 3 4 5 \n",
      "\n",
      "  6 5 4 3 2 1 0 1 2 3 4 5 6 \n",
      "\n",
      "7 6 5 4 3 2 1 0 1 2 3 4 5 6 7 \n",
      "\n"
     ]
    }
   ],
   "source": [
    "  # 5 4 3 2 1 0 1 2 3 4 5\n",
    "  #   4 3 2 1 0 1 2 3 4 \n",
    "  #     3 2 1 0 1 2 3 \n",
    "  #       2 1 0 1 2 \n",
    "  #         1 0 1 \n",
    "  #           0 \n",
    "  #         1 0 1 \n",
    "  #       2 1 0 1 2 \n",
    "  #     3 2 1 0 1 2 3 \n",
    "  #   4 3 2 1 0 1 2 3 4 \n",
    "  # 5 4 3 2 1 0 1 2 3 4 5\n",
    "# N=5\n",
    "\n",
    "n=int(input())\n",
    "i=1\n",
    "nst=2*n+1\n",
    "nsp=0\n",
    "val=n\n",
    "while(i<=2*n+1):\n",
    "    csp=1\n",
    "    while(csp<=nsp):\n",
    "        print(\"  \",end=\"\")\n",
    "        csp+=1\n",
    "    cst=1\n",
    "    while(cst<=nst):\n",
    "        print(f\"{val} \",end=\"\")\n",
    "        cst+=1\n",
    "        if cst>(nst+1)//2:\n",
    "            val+=1\n",
    "        else:\n",
    "            val-=1\n",
    "    i+=1\n",
    "    if i>(2*(n+1))//2:\n",
    "        nst+=2\n",
    "        nsp-=1\n",
    "    else:\n",
    "        nst-=2\n",
    "        nsp+=1\n",
    "        val-=2\n",
    "    print(\"\\n\")\n",
    "\n",
    "\n",
    "\n"
   ]
  },
  {
   "cell_type": "code",
   "execution_count": 21,
   "id": "c7fd07ca-25ef-4096-822a-1e0b7ca7a334",
   "metadata": {},
   "outputs": [
    {
     "name": "stdin",
     "output_type": "stream",
     "text": [
      " 0\n",
      " 100\n",
      " 20\n"
     ]
    },
    {
     "name": "stdout",
     "output_type": "stream",
     "text": [
      "0\t-17\n",
      "20\t-6\n",
      "40\t4\n",
      "60\t15\n",
      "80\t26\n",
      "100\t37\n"
     ]
    }
   ],
   "source": [
    "mi = input()\n",
    "mx = input()\n",
    "st = input()\n",
    "\n",
    "for i in range(int(mi), int(mx)+int(st), int(st)):\n",
    "    print(f\"{i}\\t{int((int(i)-32)*(5/9))}\")"
   ]
  },
  {
   "cell_type": "code",
   "execution_count": 22,
   "id": "935989b1-0ccc-48f2-94a8-d1e558d46844",
   "metadata": {},
   "outputs": [
    {
     "name": "stdin",
     "output_type": "stream",
     "text": [
      " 32145\n"
     ]
    },
    {
     "name": "stdout",
     "output_type": "stream",
     "text": [
      "12543\n"
     ]
    }
   ],
   "source": [
    "n=int(input())\n",
    "res=0\n",
    "count=1\n",
    "while(n>0):\n",
    "    rem=n%10\n",
    "    res=res+count*10**(rem-1)\n",
    "    count+=1\n",
    "    n=n//10\n",
    "\n",
    "print(res)\n",
    "    "
   ]
  },
  {
   "cell_type": "code",
   "execution_count": null,
   "id": "0abf8c37-7b2c-47e9-9b4f-f3a9731bcded",
   "metadata": {},
   "outputs": [],
   "source": []
  }
 ],
 "metadata": {
  "kernelspec": {
   "display_name": "Python 3 (ipykernel)",
   "language": "python",
   "name": "python3"
  },
  "language_info": {
   "codemirror_mode": {
    "name": "ipython",
    "version": 3
   },
   "file_extension": ".py",
   "mimetype": "text/x-python",
   "name": "python",
   "nbconvert_exporter": "python",
   "pygments_lexer": "ipython3",
   "version": "3.12.1"
  }
 },
 "nbformat": 4,
 "nbformat_minor": 5
}
