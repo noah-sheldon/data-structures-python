{
 "cells": [
  {
   "cell_type": "code",
   "execution_count": 18,
   "id": "cfae003a-643d-43e1-baa4-6ac9e0117c04",
   "metadata": {},
   "outputs": [
    {
     "name": "stdin",
     "output_type": "stream",
     "text": [
      " 7\n"
     ]
    },
    {
     "name": "stdout",
     "output_type": "stream",
     "text": [
      "*\t*\t*\t*\t*\t*\t*\t\n",
      "\n",
      "*\t*\t*\t \t*\t*\t*\t\n",
      "\n",
      "*\t*\t \t \t \t*\t*\t\n",
      "\n",
      "*\t \t \t \t \t \t*\t\n",
      "\n",
      "*\t*\t \t \t \t*\t*\t\n",
      "\n",
      "*\t*\t*\t \t*\t*\t*\t\n",
      "\n",
      "*\t*\t*\t*\t*\t*\t*\t\n",
      "\n"
     ]
    }
   ],
   "source": [
    "n=int(input())\n",
    "i=1\n",
    "nst1=int(n/2)+1\n",
    "nst2=int(n/2)+1\n",
    "nsp=-1\n",
    "while(i<=n):\n",
    "    cst=1\n",
    "    if i==1 or i==n:\n",
    "        cst+=1\n",
    "    while(cst<=nst1):\n",
    "        print(\"*\\t\",end=\"\")\n",
    "        cst+=1\n",
    "    csp=1\n",
    "    while(csp<=nsp):\n",
    "        print(\" \\t\",end=\"\")\n",
    "        csp+=1\n",
    "    cst=1\n",
    "    while(cst<=nst2):\n",
    "        print(\"*\\t\",end=\"\")\n",
    "        cst+=1\n",
    "    print(\"\\n\")\n",
    "    i+=1\n",
    "    if i>(n//2)+1:\n",
    "        nst1+=1\n",
    "        nst2+=1\n",
    "        nsp-=2\n",
    "\n",
    "    else:\n",
    "        nst1-=1\n",
    "        nst2-=1\n",
    "        nsp+=2"
   ]
  },
  {
   "cell_type": "code",
   "execution_count": 22,
   "id": "d46be353-18f8-49b3-bfad-149204ff4d7c",
   "metadata": {},
   "outputs": [
    {
     "name": "stdin",
     "output_type": "stream",
     "text": [
      " 7\n"
     ]
    },
    {
     "name": "stdout",
     "output_type": "stream",
     "text": [
      "*\n",
      "\n",
      "**\n",
      "\n",
      "***\n",
      "\n",
      "****\n",
      "\n",
      "*****\n",
      "\n",
      "******\n",
      "\n",
      "*******\n",
      "\n"
     ]
    }
   ],
   "source": [
    "n=int(input())\n",
    "nst=1\n",
    "i=1\n",
    "while(i<=n):\n",
    "    cst=1\n",
    "    while(cst<=nst):\n",
    "        print(\"*\",end=\"\")\n",
    "        cst+=1\n",
    "    print(\"\\n\")\n",
    "    i+=1\n",
    "    nst+=1\n",
    "    "
   ]
  },
  {
   "cell_type": "code",
   "execution_count": 30,
   "id": "df40ed8f-3275-47a0-ab34-1af219b4743f",
   "metadata": {},
   "outputs": [
    {
     "name": "stdin",
     "output_type": "stream",
     "text": [
      " 5\n"
     ]
    },
    {
     "name": "stdout",
     "output_type": "stream",
     "text": [
      "    *****\n",
      "\n",
      "   *   *\n",
      "\n",
      "  *   *\n",
      "\n",
      " *   *\n",
      "\n",
      "*****\n",
      "\n"
     ]
    }
   ],
   "source": [
    "n=int(input())\n",
    "nst=n\n",
    "nsp=n-1\n",
    "i=1\n",
    "while(i<=n):\n",
    "    csp=1\n",
    "    while(csp<=nsp):\n",
    "        print(\" \",end=\"\")\n",
    "        csp+=1\n",
    "    if i==1 or i==n:\n",
    "        cst=1\n",
    "        while(cst<=nst):\n",
    "            print(\"*\",end=\"\")\n",
    "            cst+=1\n",
    "    else:\n",
    "        print(\"*\",end=\"\")\n",
    "        print(\" \"*(n-2),end=\"\")\n",
    "        print(\"*\",end=\"\")\n",
    "    i+=1\n",
    "    nsp-=1\n",
    "    print(\"\\n\")"
   ]
  },
  {
   "cell_type": "code",
   "execution_count": 42,
   "id": "df59a085-a26d-4b74-b99a-9fa99741ad26",
   "metadata": {},
   "outputs": [
    {
     "name": "stdin",
     "output_type": "stream",
     "text": [
      " 5\n"
     ]
    },
    {
     "name": "stdout",
     "output_type": "stream",
     "text": [
      "*********\n",
      "\n",
      "**** ****\n",
      "\n",
      "***   ***\n",
      "\n",
      "**     **\n",
      "\n",
      "*       *\n",
      "\n",
      "**     **\n",
      "\n",
      "***   ***\n",
      "\n",
      "**** ****\n",
      "\n",
      "*********\n",
      "\n"
     ]
    }
   ],
   "source": [
    "n=int(input())\n",
    "i=1\n",
    "nst1=n\n",
    "nst2=n\n",
    "nsp=-1\n",
    "while(i<=2*n-1):\n",
    "    cst=1\n",
    "    if i==1 or i==2*n-1:\n",
    "        cst+=1\n",
    "    while(cst<=nst1):\n",
    "        print(\"*\",end=\"\")\n",
    "        cst+=1\n",
    "    csp=1\n",
    "    while(csp<=nsp):\n",
    "        print(\" \",end=\"\")\n",
    "        csp+=1\n",
    "    cst=1\n",
    "    while(cst<=nst2):\n",
    "        print(\"*\",end=\"\")\n",
    "        cst+=1\n",
    "    print(\"\\n\")\n",
    "    i+=1\n",
    "    if i>2*n//2:\n",
    "        nst1+=1\n",
    "        nst2+=1\n",
    "        nsp-=2\n",
    "\n",
    "    else:\n",
    "        nst1-=1\n",
    "        nst2-=1\n",
    "        nsp+=2"
   ]
  },
  {
   "cell_type": "code",
   "execution_count": 5,
   "id": "f11d474a-3bf9-4522-84de-9a3cc6ec31a0",
   "metadata": {},
   "outputs": [
    {
     "name": "stdin",
     "output_type": "stream",
     "text": [
      " 7\n"
     ]
    },
    {
     "name": "stdout",
     "output_type": "stream",
     "text": [
      " \t \t \t*\t\n",
      "\n",
      " \t \t*\t*\t*\t\n",
      "\n",
      " \t*\t*\t*\t*\t*\t\n",
      "\n",
      "*\t*\t*\t*\t*\t*\t*\t\n",
      "\n",
      " \t*\t*\t*\t*\t*\t\n",
      "\n",
      " \t \t*\t*\t*\t\n",
      "\n",
      " \t \t \t*\t\n",
      "\n"
     ]
    }
   ],
   "source": [
    "i=1\n",
    "n=int(input())\n",
    "nsp=n//2\n",
    "nst=1\n",
    "while(i<=n):\n",
    "    csp=1\n",
    "    while(csp<=nsp):\n",
    "        print(\" \\t\",end=\"\")\n",
    "        csp+=1\n",
    "    cst=1\n",
    "    while(cst<=nst):\n",
    "        print(\"*\\t\",end=\"\")\n",
    "        cst+=1\n",
    "    i+=1\n",
    "    if i>n//2+1:\n",
    "        nst-=2\n",
    "        nsp+=1\n",
    "    else:\n",
    "        nst+=2\n",
    "        nsp-=1\n",
    "    print(\"\\n\")"
   ]
  },
  {
   "cell_type": "code",
   "execution_count": 19,
   "id": "9f8d7296-2d0e-4942-96f8-c83d84df9ea7",
   "metadata": {},
   "outputs": [
    {
     "name": "stdin",
     "output_type": "stream",
     "text": [
      " 9\n"
     ]
    },
    {
     "name": "stdout",
     "output_type": "stream",
     "text": [
      "                1 \n",
      "\n",
      "            2 1   1 2 \n",
      "\n",
      "        3 2 1       1 2 3 \n",
      "\n",
      "    4 3 2 1           1 2 3 4 \n",
      "\n",
      "5 4 3 2 1               1 2 3 4 5 \n",
      "\n",
      "    4 3 2 1           1 2 3 4 \n",
      "\n",
      "        3 2 1       1 2 3 \n",
      "\n",
      "            2 1   1 2 \n",
      "\n",
      "                1 \n",
      "\n"
     ]
    }
   ],
   "source": [
    "n=int(input())\n",
    "nsp1=n-1\n",
    "nst1=1\n",
    "nst2=1\n",
    "nsp2=-1\n",
    "i=1\n",
    "while(i<=n):\n",
    "    \n",
    "        \n",
    "    csp=1\n",
    "    while(csp<=nsp1):\n",
    "        print(\"  \",end=\"\")\n",
    "        csp+=1\n",
    "    cst=nst1\n",
    "    while(cst>0):\n",
    "        print(f\"{cst} \",end=\"\")\n",
    "        cst-=1\n",
    "    csp=1\n",
    "    while(csp<=nsp2):\n",
    "        print(\"  \",end=\"\")\n",
    "        csp+=1\n",
    "    cst=1\n",
    "    if i==1 or i==n:\n",
    "        cst+=1\n",
    "    while(cst<=nst2):\n",
    "        print(f\"{cst} \",end=\"\")\n",
    "        cst+=1\n",
    "    i+=1\n",
    "    if i>n//2+1:\n",
    "        nsp1+=2\n",
    "        nst1-=1\n",
    "        nsp2-=2\n",
    "        nst2-=1\n",
    "    else:\n",
    "        nsp1-=2\n",
    "        nst1+=1\n",
    "        nsp2+=2\n",
    "        nst2+=1\n",
    "    print(\"\\n\")"
   ]
  },
  {
   "cell_type": "code",
   "execution_count": 26,
   "id": "bb27b837-e3d0-4865-87dd-9cd5ad329469",
   "metadata": {},
   "outputs": [
    {
     "name": "stdin",
     "output_type": "stream",
     "text": [
      " 4\n"
     ]
    },
    {
     "name": "stdout",
     "output_type": "stream",
     "text": [
      " \t \t \t1\t\n",
      "\n",
      " \t \t2\t3\t2\t\n",
      "\n",
      " \t3\t4\t5\t4\t3\t\n",
      "\n",
      "4\t5\t6\t7\t6\t5\t4\t\n",
      "\n"
     ]
    }
   ],
   "source": [
    "i=1\n",
    "n=int(input())\n",
    "nsp=n-1\n",
    "nst=1\n",
    "val=1\n",
    "while(i<=n):\n",
    "    val=i\n",
    "    csp=1\n",
    "    while(csp<=nsp):\n",
    "        print(\" \\t\",end=\"\")\n",
    "        csp+=1\n",
    "    cst=1\n",
    "    while(cst<=nst):\n",
    "        print(f\"{val}\\t\",end=\"\")\n",
    "        cst+=1\n",
    "        if cst>i:\n",
    "            val-=1\n",
    "        else:\n",
    "            val+=1\n",
    "    i+=1\n",
    "    nst+=2\n",
    "    nsp-=1\n",
    "    print(\"\\n\")"
   ]
  },
  {
   "cell_type": "code",
   "execution_count": 30,
   "id": "45928c68-c2c7-42e3-aef6-557ee36f2f5d",
   "metadata": {},
   "outputs": [
    {
     "name": "stdin",
     "output_type": "stream",
     "text": [
      " 4\n"
     ]
    },
    {
     "name": "stdout",
     "output_type": "stream",
     "text": [
      "1\t\n",
      "\n",
      "2\t3\t\n",
      "\n",
      "4\t5\t6\t\n",
      "\n",
      "7\t8\t9\t10\t\n",
      "\n"
     ]
    }
   ],
   "source": [
    "nst=1\n",
    "n=int(input())\n",
    "i=1\n",
    "val=1\n",
    "while(i<=n):\n",
    "    cst=1\n",
    "    while(cst<=nst):\n",
    "        print(f\"{val}\\t\",end=\"\")\n",
    "        cst+=1\n",
    "        val+=1\n",
    "    nst+=1\n",
    "    i+=1\n",
    "    print(\"\\n\")"
   ]
  },
  {
   "cell_type": "code",
   "execution_count": 47,
   "id": "41b3ac76-b77a-43a1-8489-55d506aaf55e",
   "metadata": {},
   "outputs": [
    {
     "name": "stdin",
     "output_type": "stream",
     "text": [
      " 3\n"
     ]
    },
    {
     "name": "stdout",
     "output_type": "stream",
     "text": [
      " \t \t1\t\n",
      "\n",
      " \t2\t3\t2\t\n",
      "\n",
      "3\t4\t5\t4\t3\t\n",
      "\n",
      " \t2\t3\t2\t\n",
      "\n",
      " \t \t1\t\n",
      "\n"
     ]
    }
   ],
   "source": [
    "n=int(input())\n",
    "nsp=n-1\n",
    "nst=1\n",
    "i=1\n",
    "val=1\n",
    "while(i<=2*n-1):\n",
    "    csp=1\n",
    "    while(csp<=nsp):\n",
    "        print(\" \\t\",end=\"\")\n",
    "        csp+=1\n",
    "    cst=1\n",
    "    while(cst<=nst):\n",
    "        print(f\"{val}\\t\",end=\"\")\n",
    "        cst+=1\n",
    "        if cst>nst//2+1:\n",
    "            val-=1\n",
    "        else:\n",
    "            val+=1\n",
    "    i+=1\n",
    "    if i>n:\n",
    "        nst-=2\n",
    "        nsp+=1\n",
    "    else:\n",
    "        nst+=2\n",
    "        nsp-=1\n",
    "        val+=2\n",
    "    print(\"\\n\")"
   ]
  },
  {
   "cell_type": "code",
   "execution_count": null,
   "id": "06f3d20c-7330-448c-9eaf-bbae83af2eaf",
   "metadata": {},
   "outputs": [],
   "source": []
  }
 ],
 "metadata": {
  "kernelspec": {
   "display_name": "Python 3 (ipykernel)",
   "language": "python",
   "name": "python3"
  },
  "language_info": {
   "codemirror_mode": {
    "name": "ipython",
    "version": 3
   },
   "file_extension": ".py",
   "mimetype": "text/x-python",
   "name": "python",
   "nbconvert_exporter": "python",
   "pygments_lexer": "ipython3",
   "version": "3.12.1"
  }
 },
 "nbformat": 4,
 "nbformat_minor": 5
}
