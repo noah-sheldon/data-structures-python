{
 "cells": [
  {
   "cell_type": "code",
   "execution_count": 2,
   "id": "4cfdcaf4-eaea-434d-8a18-74a290f64557",
   "metadata": {},
   "outputs": [
    {
     "name": "stdout",
     "output_type": "stream",
     "text": [
      "987654321\n"
     ]
    }
   ],
   "source": [
    "n=123456789\n",
    "\n",
    "new_digit =0\n",
    "\n",
    "while(n>0):\n",
    "    last_digit=n%10\n",
    "    new_digit = new_digit*10 + last_digit\n",
    "    n=n//10\n",
    "\n",
    "print(new_digit)"
   ]
  },
  {
   "cell_type": "code",
   "execution_count": 3,
   "id": "f103e101-3320-45ab-af0c-7f2eaf7bcf3c",
   "metadata": {},
   "outputs": [],
   "source": [
    "tup_1 = (10,20)"
   ]
  },
  {
   "cell_type": "code",
   "execution_count": 4,
   "id": "b0b03b05-b041-4a21-8111-23918276591f",
   "metadata": {},
   "outputs": [
    {
     "name": "stdout",
     "output_type": "stream",
     "text": [
      "<class 'tuple'>\n"
     ]
    }
   ],
   "source": [
    "print(type(tup_1))"
   ]
  },
  {
   "cell_type": "code",
   "execution_count": 6,
   "id": "ba93d17c-a509-412e-a6ee-3d4443faefe5",
   "metadata": {},
   "outputs": [
    {
     "ename": "TypeError",
     "evalue": "'tuple' object does not support item assignment",
     "output_type": "error",
     "traceback": [
      "\u001b[0;31m---------------------------------------------------------------------------\u001b[0m",
      "\u001b[0;31mTypeError\u001b[0m                                 Traceback (most recent call last)",
      "Cell \u001b[0;32mIn[6], line 1\u001b[0m\n\u001b[0;32m----> 1\u001b[0m \u001b[43mtup_1\u001b[49m\u001b[43m[\u001b[49m\u001b[38;5;241;43m0\u001b[39;49m\u001b[43m]\u001b[49m \u001b[38;5;241m=\u001b[39m \u001b[38;5;241m30\u001b[39m\n",
      "\u001b[0;31mTypeError\u001b[0m: 'tuple' object does not support item assignment"
     ]
    }
   ],
   "source": [
    "tup_1[0] = 30"
   ]
  },
  {
   "cell_type": "code",
   "execution_count": null,
   "id": "c3e0f009-df5c-47a8-b9f4-a10327fac0d7",
   "metadata": {},
   "outputs": [],
   "source": []
  }
 ],
 "metadata": {
  "kernelspec": {
   "display_name": "Python 3 (ipykernel)",
   "language": "python",
   "name": "python3"
  },
  "language_info": {
   "codemirror_mode": {
    "name": "ipython",
    "version": 3
   },
   "file_extension": ".py",
   "mimetype": "text/x-python",
   "name": "python",
   "nbconvert_exporter": "python",
   "pygments_lexer": "ipython3",
   "version": "3.12.1"
  }
 },
 "nbformat": 4,
 "nbformat_minor": 5
}
