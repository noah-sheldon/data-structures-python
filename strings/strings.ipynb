{
 "cells": [
  {
   "cell_type": "code",
   "execution_count": 1,
   "metadata": {},
   "outputs": [],
   "source": [
    "test = \"abc\""
   ]
  },
  {
   "cell_type": "code",
   "execution_count": 2,
   "metadata": {},
   "outputs": [
    {
     "data": {
      "text/plain": [
       "97"
      ]
     },
     "execution_count": 2,
     "metadata": {},
     "output_type": "execute_result"
    }
   ],
   "source": [
    "ord(\"a\")"
   ]
  },
  {
   "cell_type": "code",
   "execution_count": 1,
   "metadata": {},
   "outputs": [
    {
     "data": {
      "text/plain": [
       "True"
      ]
     },
     "execution_count": 1,
     "metadata": {},
     "output_type": "execute_result"
    }
   ],
   "source": [
    "# String Comparison\n",
    "s1 = 'good'\n",
    "s2 = 'good'\n",
    "\n",
    "s1 == s2"
   ]
  },
  {
   "cell_type": "code",
   "execution_count": 11,
   "metadata": {},
   "outputs": [
    {
     "name": "stdout",
     "output_type": "stream",
     "text": [
      "True\n"
     ]
    }
   ],
   "source": [
    "# String Equal\n",
    "\n",
    "s1 = \"good\"\n",
    "s2 = 'good'\n",
    "\n",
    "if len(s1) != len(s2):\n",
    "    print(False)\n",
    "\n",
    "for i in range(len(s1)):\n",
    "    if s1[i] != s2[i]:\n",
    "        print(False)\n",
    "print(True)\n",
    "    s"
   ]
  },
  {
   "cell_type": "code",
   "execution_count": 3,
   "metadata": {},
   "outputs": [
    {
     "name": "stdout",
     "output_type": "stream",
     "text": [
      "goodgood\n",
      "good good\n"
     ]
    }
   ],
   "source": [
    "# String Concat\n",
    "\n",
    "s1 = 'good'\n",
    "s2 = 'good'\n",
    "\n",
    "print(s1+s2)\n",
    "#f strings\n",
    "print(f\"{s1} {s2}\")"
   ]
  },
  {
   "cell_type": "code",
   "execution_count": 17,
   "metadata": {},
   "outputs": [
    {
     "name": "stdout",
     "output_type": "stream",
     "text": [
      "True\n"
     ]
    }
   ],
   "source": [
    "#is Palindrome\n",
    "\n",
    "s1 = \"malayalam\"\n",
    "\n",
    "i = 0\n",
    "j = len(s1)-1\n",
    "\n",
    "while(i<j):\n",
    "    if s1[i] != s1[j]:\n",
    "        print(False)\n",
    "    i+=1\n",
    "    j-=1\n",
    "print(True)"
   ]
  },
  {
   "cell_type": "code",
   "execution_count": 18,
   "metadata": {},
   "outputs": [
    {
     "data": {
      "text/plain": [
       "12345"
      ]
     },
     "execution_count": 18,
     "metadata": {},
     "output_type": "execute_result"
    }
   ],
   "source": [
    "#String to Int\n",
    "\n",
    "s1 = \"12345\"\n",
    "\n",
    "int(s1)"
   ]
  },
  {
   "cell_type": "code",
   "execution_count": 19,
   "metadata": {},
   "outputs": [
    {
     "name": "stdout",
     "output_type": "stream",
     "text": [
      "['n', 'ni', 'nit', 'niti', 'nitin', 'i', 'it', 'iti', 'itin', 't', 'ti', 'tin', 'i', 'in', 'n']\n"
     ]
    }
   ],
   "source": [
    "# print all substrings\n",
    "\n",
    "sub = 'nitin'\n",
    "\n",
    "output=[]\n",
    "\n",
    "for i in range(len(sub)):\n",
    "    for j in range(i+1, len(sub)+1):\n",
    "        output.append(sub[i:j])\n",
    "\n",
    "print(output)"
   ]
  },
  {
   "cell_type": "code",
   "execution_count": 23,
   "metadata": {},
   "outputs": [
    {
     "name": "stdout",
     "output_type": "stream",
     "text": [
      "5 1 2 3 4 \n",
      "\n",
      "5 1 2 3 \n",
      "\n",
      "5 1 2 \n",
      "\n",
      "5 1 \n",
      "\n",
      "5 \n",
      "\n"
     ]
    }
   ],
   "source": [
    "# print all substrings \n",
    "\n",
    "s1 = \"51234\"\n",
    "\n",
    "for i in range(0,len(s1)):\n",
    "    for j in range(0, len(s1) - i):\n",
    "        print(s1[j:j+1], end=\" \")\n",
    "    print(\"\\n\")\n",
    "# 51"
   ]
  },
  {
   "cell_type": "code",
   "execution_count": 26,
   "metadata": {},
   "outputs": [
    {
     "name": "stdout",
     "output_type": "stream",
     "text": [
      "m\n",
      "a\n",
      "ala\n",
      "alayala\n",
      "l\n",
      "layal\n",
      "a\n",
      "aya\n",
      "y\n",
      "a\n",
      "ala\n",
      "l\n",
      "a\n"
     ]
    }
   ],
   "source": [
    "#Get all palindromic substring\n",
    "\n",
    "s1 = \"malayalam\"\n",
    "\n",
    "def isPal(sen):\n",
    "    i=0\n",
    "    j=len(sen)-1\n",
    "    while(i<j):\n",
    "        if sen[i]!=sen[j]:\n",
    "            return False\n",
    "        i+=1\n",
    "        j-=1\n",
    "    return True\n",
    "\n",
    "for i in range(len(s1)):\n",
    "    for j in range(i+1, len(s1)):\n",
    "        if isPal(s1[i:j]):\n",
    "            print(s1[i:j])\n",
    "\n"
   ]
  },
  {
   "cell_type": "code",
   "execution_count": 29,
   "metadata": {},
   "outputs": [
    {
     "name": "stdout",
     "output_type": "stream",
     "text": [
      "2\n"
     ]
    }
   ],
   "source": [
    "# https://www.geeksforgeeks.org/longest-substring-vowels/\n",
    "\n",
    "# s = \"cbaeicdeeoeoeaio\";\n",
    "s = \"geeksforgeeks\";\n",
    "\n",
    "count, ans =0,0\n",
    "for i in range(len(s)):\n",
    "    if s[i] in 'aeiou':\n",
    "        count+=1\n",
    "    else:\n",
    "        ans = max(count, ans)\n",
    "        count=0\n",
    "ans=max(count,ans)\n",
    "print(ans)\n",
    "        "
   ]
  },
  {
   "cell_type": "code",
   "execution_count": null,
   "metadata": {},
   "outputs": [],
   "source": []
  },
  {
   "cell_type": "code",
   "execution_count": null,
   "metadata": {},
   "outputs": [],
   "source": []
  },
  {
   "cell_type": "code",
   "execution_count": null,
   "metadata": {},
   "outputs": [],
   "source": []
  },
  {
   "cell_type": "code",
   "execution_count": null,
   "metadata": {},
   "outputs": [],
   "source": []
  },
  {
   "cell_type": "code",
   "execution_count": null,
   "metadata": {},
   "outputs": [],
   "source": []
  },
  {
   "cell_type": "code",
   "execution_count": null,
   "metadata": {},
   "outputs": [],
   "source": []
  },
  {
   "cell_type": "code",
   "execution_count": null,
   "metadata": {},
   "outputs": [],
   "source": []
  },
  {
   "cell_type": "code",
   "execution_count": null,
   "metadata": {},
   "outputs": [],
   "source": []
  },
  {
   "cell_type": "code",
   "execution_count": null,
   "metadata": {},
   "outputs": [],
   "source": []
  }
 ],
 "metadata": {
  "kernelspec": {
   "display_name": "Python 3 (ipykernel)",
   "language": "python",
   "name": "python3"
  },
  "language_info": {
   "codemirror_mode": {
    "name": "ipython",
    "version": 3
   },
   "file_extension": ".py",
   "mimetype": "text/x-python",
   "name": "python",
   "nbconvert_exporter": "python",
   "pygments_lexer": "ipython3",
   "version": "3.12.1"
  }
 },
 "nbformat": 4,
 "nbformat_minor": 4
}
