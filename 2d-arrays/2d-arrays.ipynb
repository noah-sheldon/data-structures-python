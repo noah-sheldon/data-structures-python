{
 "cells": [
  {
   "cell_type": "code",
   "execution_count": 4,
   "id": "43753725-ea16-4245-be75-09f91594276b",
   "metadata": {},
   "outputs": [
    {
     "name": "stdout",
     "output_type": "stream",
     "text": [
      "False\n"
     ]
    }
   ],
   "source": [
    "#naive search\n",
    "arr=[[1,2,3],[4,5,6],[7,8,9]]\n",
    "target=5\n",
    "\n",
    "def search(arr: list[list], target: int) -> bool:\n",
    "    for i in range(len(arr)):\n",
    "        for j in range(len(arr[i])):\n",
    "            if arr[i][j] == target:\n",
    "                return True\n",
    "    return False\n",
    "\n",
    "print(search(arr,11))"
   ]
  },
  {
   "cell_type": "code",
   "execution_count": 8,
   "id": "83bbb0dd-dd8a-4798-82ac-0f88c2565b52",
   "metadata": {},
   "outputs": [
    {
     "name": "stdout",
     "output_type": "stream",
     "text": [
      "True\n"
     ]
    }
   ],
   "source": [
    "#optimised search in sorted array\n",
    "arr=[[1,2,3],[4,5,6],[7,8,9]]\n",
    "target=5\n",
    "\n",
    "def opt_search(arr: list[list], target: int) -> bool:\n",
    "    row=0\n",
    "    col=len(arr[0])-1\n",
    "\n",
    "    while(row<len(arr) and col>=0):\n",
    "        if arr[row][col] ==target:\n",
    "            return True\n",
    "        if arr[row][col] < target:\n",
    "            row+=1\n",
    "        else:\n",
    "            col-=1\n",
    "    return False\n",
    "\n",
    "print(opt_search(arr,1))"
   ]
  },
  {
   "cell_type": "code",
   "execution_count": 18,
   "id": "a430cf61-5503-4fac-9b6f-2ebacbc67588",
   "metadata": {},
   "outputs": [
    {
     "name": "stdout",
     "output_type": "stream",
     "text": [
      "[[1, 4, 7], [2, 5, 8], [3, 6, 9]]\n"
     ]
    }
   ],
   "source": [
    "# Transpose\n",
    "\n",
    "arr=[[1,2,3],[4,5,6],[7,8,9]]\n",
    "\n",
    "def transpose_arr(arr):\n",
    "    for i in range(len(arr)):\n",
    "        for j in range(i+1,len(arr[i])):\n",
    "            temp=arr[i][j]\n",
    "            arr[i][j]=arr[j][i]\n",
    "            arr[j][i]=temp\n",
    "\n",
    "    print(arr)\n",
    "\n",
    "transpose_arr(arr)"
   ]
  },
  {
   "cell_type": "code",
   "execution_count": 20,
   "id": "e07f90a0-e7b5-4b80-93f1-746d6e4ad7de",
   "metadata": {},
   "outputs": [
    {
     "name": "stdout",
     "output_type": "stream",
     "text": [
      "1\n",
      "4\n",
      "7\n",
      "8\n",
      "5\n",
      "2\n",
      "3\n",
      "6\n",
      "9\n"
     ]
    }
   ],
   "source": [
    "# Wave print\n",
    "\n",
    "arr=[[1,2,3],[4,5,6],[7,8,9]]\n",
    "\n",
    "def wave(arr):\n",
    "    for col in range(len(arr[0])):\n",
    "        if col%2==0:\n",
    "            for row in range(len(arr)):\n",
    "                print(arr[row][col])\n",
    "        else:\n",
    "            for row in range(len(arr)-1,-1,-1):\n",
    "                print(arr[row][col])\n",
    "\n",
    "wave(arr)"
   ]
  },
  {
   "cell_type": "code",
   "execution_count": null,
   "id": "e9ca0f9d-060d-4c73-9dd8-bdef241bd24d",
   "metadata": {},
   "outputs": [],
   "source": []
  }
 ],
 "metadata": {
  "kernelspec": {
   "display_name": "Python 3 (ipykernel)",
   "language": "python",
   "name": "python3"
  },
  "language_info": {
   "codemirror_mode": {
    "name": "ipython",
    "version": 3
   },
   "file_extension": ".py",
   "mimetype": "text/x-python",
   "name": "python",
   "nbconvert_exporter": "python",
   "pygments_lexer": "ipython3",
   "version": "3.12.1"
  }
 },
 "nbformat": 4,
 "nbformat_minor": 5
}
