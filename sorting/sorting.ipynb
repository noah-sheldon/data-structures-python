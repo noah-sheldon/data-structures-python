{
 "cells": [
  {
   "cell_type": "markdown",
   "id": "84a5e77a-9b06-4805-be41-dc51f6dd4562",
   "metadata": {},
   "source": [
    "<!-- Buble -Compare two numbers in buble swap\n",
    "Selection - Set min index, find min/max\n",
    "Insertion - Go to left, best possible and insert -->"
   ]
  },
  {
   "cell_type": "markdown",
   "id": "84b8fadf-b04c-42cd-9415-48bd56385c41",
   "metadata": {},
   "source": [
    "# Bubble sort"
   ]
  },
  {
   "cell_type": "code",
   "execution_count": 7,
   "id": "e3e44447-f99f-49a6-bf13-d4e004b85bbe",
   "metadata": {},
   "outputs": [
    {
     "name": "stdout",
     "output_type": "stream",
     "text": [
      "[1, 2, 3, 4, 5]\n"
     ]
    }
   ],
   "source": [
    "arr = [5,4,3,2,1]\n",
    "\n",
    "for pa in range(1,len(arr)):\n",
    "    for i in range(len(arr)-pa):\n",
    "        if arr[i]>arr[i+1]:\n",
    "            t=arr[i]\n",
    "            arr[i]=arr[i+1]\n",
    "            arr[i+1]=t\n",
    "\n",
    "print(arr)\n",
    "    "
   ]
  },
  {
   "cell_type": "markdown",
   "id": "746c4f75-b2b8-4d36-a981-b0339b63e9ed",
   "metadata": {},
   "source": [
    "# Selection Sort"
   ]
  },
  {
   "cell_type": "code",
   "execution_count": 15,
   "id": "2bcfde1a-9830-400f-87d4-f527e5add723",
   "metadata": {},
   "outputs": [
    {
     "name": "stdout",
     "output_type": "stream",
     "text": [
      "[-1, 1, 2, 3, -2, 12]\n"
     ]
    }
   ],
   "source": [
    "arr=[1,-1,2,3,-2,12]\n",
    "\n",
    "for i in range(len(arr)):\n",
    "    min_index=i\n",
    "    for j in range(i+1,len(arr)):\n",
    "        if arr[j]<arr[min_index]:\n",
    "            min_index=j\n",
    "        arr[i], arr[min_index] =arr[min_index], arr[i]\n",
    "print(arr)"
   ]
  },
  {
   "cell_type": "markdown",
   "id": "1913d57c-b906-4a61-8826-fa7e00cbad1c",
   "metadata": {},
   "source": [
    "# Insertion Sort"
   ]
  },
  {
   "cell_type": "code",
   "execution_count": 24,
   "id": "3d4fd1fb-a4eb-4f7d-bddd-b63e31485672",
   "metadata": {},
   "outputs": [
    {
     "name": "stdout",
     "output_type": "stream",
     "text": [
      "[1, 2, 3, 4, 6]\n"
     ]
    }
   ],
   "source": [
    "arr=[6,1,2,4,3]\n",
    "\n",
    "for i in range(1, len(arr)):\n",
    "    item = arr[i]\n",
    "    j=i-1\n",
    "    while(j>=0 and arr[j]>item):\n",
    "        arr[j+1] = arr[j]\n",
    "        j-=1\n",
    "    j+=1\n",
    "    arr[j]=item\n",
    "print(arr)"
   ]
  },
  {
   "cell_type": "code",
   "execution_count": null,
   "id": "667a3f27-01da-4684-9dda-4a39bfe0d145",
   "metadata": {},
   "outputs": [],
   "source": []
  }
 ],
 "metadata": {
  "kernelspec": {
   "display_name": "Python 3 (ipykernel)",
   "language": "python",
   "name": "python3"
  },
  "language_info": {
   "codemirror_mode": {
    "name": "ipython",
    "version": 3
   },
   "file_extension": ".py",
   "mimetype": "text/x-python",
   "name": "python",
   "nbconvert_exporter": "python",
   "pygments_lexer": "ipython3",
   "version": "3.12.1"
  }
 },
 "nbformat": 4,
 "nbformat_minor": 5
}
