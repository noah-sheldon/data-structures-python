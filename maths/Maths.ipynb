{
 "cells": [
  {
   "cell_type": "markdown",
   "id": "c04334b5-9dff-4459-aed7-1938b0bfe92f",
   "metadata": {},
   "source": [
    "# Fibbonaci Series"
   ]
  },
  {
   "cell_type": "code",
   "execution_count": 22,
   "id": "6cad32ea-fa20-454a-8aaf-d292c3af39d5",
   "metadata": {},
   "outputs": [],
   "source": [
    "n=5\n",
    "\n",
    "a: int=0\n",
    "b: int=1\n",
    "\n",
    "for i in range(0,n):\n",
    "    c=a+b\n",
    "    a=b\n",
    "    b=c\n",
    "# Fibonaci starts with 1 not with 0, n=5 means index starts from 1,2,3,4,5"
   ]
  },
  {
   "cell_type": "code",
   "execution_count": 25,
   "id": "8eb62e3b-1e1c-4c28-8d98-99c3e6274210",
   "metadata": {},
   "outputs": [
    {
     "name": "stdout",
     "output_type": "stream",
     "text": [
      "5\n"
     ]
    }
   ],
   "source": [
    "print(a)"
   ]
  },
  {
   "cell_type": "markdown",
   "id": "c9e75f10-ae25-40c5-8dcc-f8058aea9d65",
   "metadata": {},
   "source": [
    "# Sum of Digits"
   ]
  },
  {
   "cell_type": "code",
   "execution_count": 30,
   "id": "b9402d68-2c50-4b42-8b39-a8ed9ae62a8a",
   "metadata": {},
   "outputs": [
    {
     "name": "stdout",
     "output_type": "stream",
     "text": [
      "18\n"
     ]
    }
   ],
   "source": [
    "# 585 -> 5+8+5\n",
    "def sum_of_digits(n: int) -> int:\n",
    "    sum=0\n",
    "    while(n>0):\n",
    "        last_digit=n%10\n",
    "        sum+=last_digit\n",
    "        n=n//10\n",
    "    return sum\n",
    "print(sum_of_digits(585))"
   ]
  },
  {
   "cell_type": "markdown",
   "id": "ca2bd57b-f1df-41f3-a32e-00a3e4f4a7eb",
   "metadata": {},
   "source": [
    "# Reverse of Digits"
   ]
  },
  {
   "cell_type": "code",
   "execution_count": 32,
   "id": "a3a5d701-3ef9-4a78-a357-e5ada4fa83c3",
   "metadata": {},
   "outputs": [
    {
     "name": "stdout",
     "output_type": "stream",
     "text": [
      "876\n"
     ]
    }
   ],
   "source": [
    "def reverse_of_digits(n:int)-> int:\n",
    "    sum=0\n",
    "    while(n>0):\n",
    "        last_digit=n%10\n",
    "        sum=sum*10 + last_digit\n",
    "        n=n//10\n",
    "    return sum\n",
    "print(reverse_of_digits(678))"
   ]
  },
  {
   "cell_type": "markdown",
   "id": "fffc075f-4bc5-46ef-ab40-85e522b6cc43",
   "metadata": {},
   "source": [
    "# Highest Common Factor/ Greatest Common Divisor(HCF/GCD)"
   ]
  },
  {
   "cell_type": "code",
   "execution_count": 36,
   "id": "7b561cdf-330c-4e70-ae1d-153c02d933e4",
   "metadata": {},
   "outputs": [
    {
     "name": "stdout",
     "output_type": "stream",
     "text": [
      "12\n",
      "17\n"
     ]
    }
   ],
   "source": [
    "def hcf(dividend:int,divisor:int)->int:\n",
    "    while(dividend%divisor>0):\n",
    "        rem=dividend%divisor\n",
    "        dividend=divisor\n",
    "        divisor=rem\n",
    "    return divisor\n",
    "print(hcf(60,36))\n",
    "print(hcf(2567,68))"
   ]
  },
  {
   "cell_type": "markdown",
   "id": "f5ad8bd6-88f7-4ec3-aaa4-26b822786398",
   "metadata": {},
   "source": [
    "# Decimal to Binary"
   ]
  },
  {
   "cell_type": "code",
   "execution_count": 41,
   "id": "56e42fbd-92f1-46bc-934d-07dd67844103",
   "metadata": {},
   "outputs": [
    {
     "name": "stdout",
     "output_type": "stream",
     "text": [
      "1111\n"
     ]
    }
   ],
   "source": [
    "def dec_to_bin(n:int)->int:\n",
    "    mul=1\n",
    "    sum=0\n",
    "    while(n>0):\n",
    "        rem=n%2\n",
    "        sum = rem*mul + sum\n",
    "        mul *= 10\n",
    "        n=n//2\n",
    "    return sum\n",
    "\n",
    "print(dec_to_bin(15))"
   ]
  },
  {
   "cell_type": "markdown",
   "id": "c47a72a8-675a-4ade-9dfa-b40979191cd7",
   "metadata": {},
   "source": [
    "# Binary to Decimal"
   ]
  },
  {
   "cell_type": "code",
   "execution_count": 43,
   "id": "bd902472-1122-447d-8241-1ccc6e135e64",
   "metadata": {},
   "outputs": [
    {
     "name": "stdout",
     "output_type": "stream",
     "text": [
      "11\n"
     ]
    }
   ],
   "source": [
    "def bin_to_dec(n:int)->int:\n",
    "    sum=0\n",
    "    mul=1\n",
    "    while(n>0):\n",
    "        rem=n%10\n",
    "        sum=rem*mul+sum\n",
    "        mul*=2\n",
    "        n=n//10\n",
    "    return sum\n",
    "print(bin_to_dec(1011))"
   ]
  },
  {
   "cell_type": "code",
   "execution_count": null,
   "id": "9115326a-979a-4900-83b4-54e29a56ec9a",
   "metadata": {},
   "outputs": [],
   "source": []
  }
 ],
 "metadata": {
  "kernelspec": {
   "display_name": "Python 3 (ipykernel)",
   "language": "python",
   "name": "python3"
  },
  "language_info": {
   "codemirror_mode": {
    "name": "ipython",
    "version": 3
   },
   "file_extension": ".py",
   "mimetype": "text/x-python",
   "name": "python",
   "nbconvert_exporter": "python",
   "pygments_lexer": "ipython3",
   "version": "3.12.1"
  }
 },
 "nbformat": 4,
 "nbformat_minor": 5
}
